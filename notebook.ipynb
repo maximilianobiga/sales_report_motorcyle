{
 "cells": [
  {
   "cell_type": "markdown",
   "id": "f8b70d12",
   "metadata": {},
   "source": [
    "# Reporting on sales data\n",
    "\n",
    "## 📖 Background\n",
    "The company sells motorcycle parts, and operates three warehouses in a large metropolitan area.\n",
    "\n",
    "### Objective\n",
    "Analyze past sales data.\n",
    "* Capture sales by payment method.\n",
    "* Find average unit price for each product line.\n",
    "* Crate visualizations \n",
    "* Include other relevant findings\n"
   ]
  },
  {
   "cell_type": "markdown",
   "id": "bb4cd736",
   "metadata": {},
   "source": [
    "## 💾 The data\n",
    "\n",
    "#### The sales data has the following fields:\n",
    "- \"date\" - The date, from June to August 2021.\n",
    "- \"warehouse\" - The company operates three warehouses: North, Central, and West.\n",
    "- \"client_type\" - There are two types of customers: Retail and Wholesale.\n",
    "- \"product_line\" - Type of products purchased.\n",
    "- \"quantity\" - How many items were purchased.\n",
    "- \"unit_price\" - Price per item sold.\n",
    "- \"total\" - Total sale = quantity * unit_price.\n",
    "- \"payment\" - How the client paid: Cash, Credit card, Transfer."
   ]
  },
  {
   "cell_type": "code",
   "execution_count": null,
   "id": "70a3b9bd",
   "metadata": {},
   "outputs": [
    {
     "data": {
      "text/html": [
       "<div>\n",
       "<style scoped>\n",
       "    .dataframe tbody tr th:only-of-type {\n",
       "        vertical-align: middle;\n",
       "    }\n",
       "\n",
       "    .dataframe tbody tr th {\n",
       "        vertical-align: top;\n",
       "    }\n",
       "\n",
       "    .dataframe thead th {\n",
       "        text-align: right;\n",
       "    }\n",
       "</style>\n",
       "<table border=\"1\" class=\"dataframe\">\n",
       "  <thead>\n",
       "    <tr style=\"text-align: right;\">\n",
       "      <th></th>\n",
       "      <th>date</th>\n",
       "      <th>warehouse</th>\n",
       "      <th>client_type</th>\n",
       "      <th>product_line</th>\n",
       "      <th>quantity</th>\n",
       "      <th>unit_price</th>\n",
       "      <th>total</th>\n",
       "      <th>payment</th>\n",
       "    </tr>\n",
       "  </thead>\n",
       "  <tbody>\n",
       "    <tr>\n",
       "      <th>0</th>\n",
       "      <td>2021-06-01</td>\n",
       "      <td>Central</td>\n",
       "      <td>Retail</td>\n",
       "      <td>Miscellaneous</td>\n",
       "      <td>8</td>\n",
       "      <td>16.85</td>\n",
       "      <td>134.83</td>\n",
       "      <td>Credit card</td>\n",
       "    </tr>\n",
       "    <tr>\n",
       "      <th>1</th>\n",
       "      <td>2021-06-01</td>\n",
       "      <td>North</td>\n",
       "      <td>Retail</td>\n",
       "      <td>Breaking system</td>\n",
       "      <td>9</td>\n",
       "      <td>19.29</td>\n",
       "      <td>173.61</td>\n",
       "      <td>Cash</td>\n",
       "    </tr>\n",
       "    <tr>\n",
       "      <th>2</th>\n",
       "      <td>2021-06-01</td>\n",
       "      <td>North</td>\n",
       "      <td>Retail</td>\n",
       "      <td>Suspension &amp; traction</td>\n",
       "      <td>8</td>\n",
       "      <td>32.93</td>\n",
       "      <td>263.45</td>\n",
       "      <td>Credit card</td>\n",
       "    </tr>\n",
       "    <tr>\n",
       "      <th>3</th>\n",
       "      <td>2021-06-01</td>\n",
       "      <td>North</td>\n",
       "      <td>Wholesale</td>\n",
       "      <td>Frame &amp; body</td>\n",
       "      <td>16</td>\n",
       "      <td>37.84</td>\n",
       "      <td>605.44</td>\n",
       "      <td>Transfer</td>\n",
       "    </tr>\n",
       "    <tr>\n",
       "      <th>4</th>\n",
       "      <td>2021-06-01</td>\n",
       "      <td>Central</td>\n",
       "      <td>Retail</td>\n",
       "      <td>Engine</td>\n",
       "      <td>2</td>\n",
       "      <td>60.48</td>\n",
       "      <td>120.96</td>\n",
       "      <td>Credit card</td>\n",
       "    </tr>\n",
       "  </tbody>\n",
       "</table>\n",
       "</div>"
      ],
      "text/plain": [
       "        date warehouse client_type           product_line  quantity  \\\n",
       "0 2021-06-01   Central      Retail          Miscellaneous         8   \n",
       "1 2021-06-01     North      Retail        Breaking system         9   \n",
       "2 2021-06-01     North      Retail  Suspension & traction         8   \n",
       "3 2021-06-01     North   Wholesale           Frame & body        16   \n",
       "4 2021-06-01   Central      Retail                 Engine         2   \n",
       "\n",
       "   unit_price   total      payment  \n",
       "0       16.85  134.83  Credit card  \n",
       "1       19.29  173.61         Cash  \n",
       "2       32.93  263.45  Credit card  \n",
       "3       37.84  605.44     Transfer  \n",
       "4       60.48  120.96  Credit card  "
      ]
     },
     "metadata": {},
     "output_type": "display_data"
    }
   ],
   "source": [
    "# Importing the pandas module\n",
    "import pandas as pd\n",
    "\n",
    "# Reading in the sales data\n",
    "df = pd.read_csv('data/sales_data.csv', parse_dates=['date'])\n",
    "\n",
    "# Take a look at the first datapoints\n",
    "df.head()"
   ]
  },
  {
   "cell_type": "code",
   "execution_count": 309,
   "id": "077469eb",
   "metadata": {},
   "outputs": [
    {
     "name": "stdout",
     "output_type": "stream",
     "text": [
      "<class 'pandas.core.frame.DataFrame'>\n",
      "RangeIndex: 1000 entries, 0 to 999\n",
      "Data columns (total 8 columns):\n",
      " #   Column        Non-Null Count  Dtype         \n",
      "---  ------        --------------  -----         \n",
      " 0   date          1000 non-null   datetime64[ns]\n",
      " 1   warehouse     1000 non-null   object        \n",
      " 2   client_type   1000 non-null   object        \n",
      " 3   product_line  1000 non-null   object        \n",
      " 4   quantity      1000 non-null   int64         \n",
      " 5   unit_price    1000 non-null   float64       \n",
      " 6   total         1000 non-null   float64       \n",
      " 7   payment       1000 non-null   object        \n",
      "dtypes: datetime64[ns](1), float64(2), int64(1), object(4)\n",
      "memory usage: 62.6+ KB\n"
     ]
    }
   ],
   "source": [
    "df.info() # firt check of nulls and datatypes"
   ]
  },
  {
   "cell_type": "code",
   "execution_count": 308,
   "id": "5d4e35b9",
   "metadata": {},
   "outputs": [
    {
     "data": {
      "text/html": [
       "<div>\n",
       "<style scoped>\n",
       "    .dataframe tbody tr th:only-of-type {\n",
       "        vertical-align: middle;\n",
       "    }\n",
       "\n",
       "    .dataframe tbody tr th {\n",
       "        vertical-align: top;\n",
       "    }\n",
       "\n",
       "    .dataframe thead th {\n",
       "        text-align: right;\n",
       "    }\n",
       "</style>\n",
       "<table border=\"1\" class=\"dataframe\">\n",
       "  <thead>\n",
       "    <tr style=\"text-align: right;\">\n",
       "      <th></th>\n",
       "      <th>date</th>\n",
       "      <th>warehouse</th>\n",
       "      <th>client_type</th>\n",
       "      <th>product_line</th>\n",
       "      <th>quantity</th>\n",
       "      <th>unit_price</th>\n",
       "      <th>total</th>\n",
       "      <th>payment</th>\n",
       "    </tr>\n",
       "  </thead>\n",
       "  <tbody>\n",
       "    <tr>\n",
       "      <th>count</th>\n",
       "      <td>1000</td>\n",
       "      <td>1000</td>\n",
       "      <td>1000</td>\n",
       "      <td>1000</td>\n",
       "      <td>1000.000000</td>\n",
       "      <td>1000.000000</td>\n",
       "      <td>1000.000000</td>\n",
       "      <td>1000</td>\n",
       "    </tr>\n",
       "    <tr>\n",
       "      <th>unique</th>\n",
       "      <td>NaN</td>\n",
       "      <td>3</td>\n",
       "      <td>2</td>\n",
       "      <td>6</td>\n",
       "      <td>NaN</td>\n",
       "      <td>NaN</td>\n",
       "      <td>NaN</td>\n",
       "      <td>3</td>\n",
       "    </tr>\n",
       "    <tr>\n",
       "      <th>top</th>\n",
       "      <td>NaN</td>\n",
       "      <td>Central</td>\n",
       "      <td>Retail</td>\n",
       "      <td>Breaking system</td>\n",
       "      <td>NaN</td>\n",
       "      <td>NaN</td>\n",
       "      <td>NaN</td>\n",
       "      <td>Credit card</td>\n",
       "    </tr>\n",
       "    <tr>\n",
       "      <th>freq</th>\n",
       "      <td>NaN</td>\n",
       "      <td>480</td>\n",
       "      <td>775</td>\n",
       "      <td>230</td>\n",
       "      <td>NaN</td>\n",
       "      <td>NaN</td>\n",
       "      <td>NaN</td>\n",
       "      <td>659</td>\n",
       "    </tr>\n",
       "    <tr>\n",
       "      <th>mean</th>\n",
       "      <td>2021-07-15 00:05:45.600000</td>\n",
       "      <td>NaN</td>\n",
       "      <td>NaN</td>\n",
       "      <td>NaN</td>\n",
       "      <td>9.395000</td>\n",
       "      <td>30.322040</td>\n",
       "      <td>289.113000</td>\n",
       "      <td>NaN</td>\n",
       "    </tr>\n",
       "    <tr>\n",
       "      <th>min</th>\n",
       "      <td>2021-06-01 00:00:00</td>\n",
       "      <td>NaN</td>\n",
       "      <td>NaN</td>\n",
       "      <td>NaN</td>\n",
       "      <td>1.000000</td>\n",
       "      <td>10.030000</td>\n",
       "      <td>10.350000</td>\n",
       "      <td>NaN</td>\n",
       "    </tr>\n",
       "    <tr>\n",
       "      <th>25%</th>\n",
       "      <td>2021-06-24 00:00:00</td>\n",
       "      <td>NaN</td>\n",
       "      <td>NaN</td>\n",
       "      <td>NaN</td>\n",
       "      <td>4.000000</td>\n",
       "      <td>21.085000</td>\n",
       "      <td>93.687500</td>\n",
       "      <td>NaN</td>\n",
       "    </tr>\n",
       "    <tr>\n",
       "      <th>50%</th>\n",
       "      <td>2021-07-14 00:00:00</td>\n",
       "      <td>NaN</td>\n",
       "      <td>NaN</td>\n",
       "      <td>NaN</td>\n",
       "      <td>6.500000</td>\n",
       "      <td>28.570000</td>\n",
       "      <td>178.360000</td>\n",
       "      <td>NaN</td>\n",
       "    </tr>\n",
       "    <tr>\n",
       "      <th>75%</th>\n",
       "      <td>2021-08-06 00:00:00</td>\n",
       "      <td>NaN</td>\n",
       "      <td>NaN</td>\n",
       "      <td>NaN</td>\n",
       "      <td>10.000000</td>\n",
       "      <td>37.917500</td>\n",
       "      <td>321.690000</td>\n",
       "      <td>NaN</td>\n",
       "    </tr>\n",
       "    <tr>\n",
       "      <th>max</th>\n",
       "      <td>2021-08-28 00:00:00</td>\n",
       "      <td>NaN</td>\n",
       "      <td>NaN</td>\n",
       "      <td>NaN</td>\n",
       "      <td>40.000000</td>\n",
       "      <td>66.620000</td>\n",
       "      <td>2546.330000</td>\n",
       "      <td>NaN</td>\n",
       "    </tr>\n",
       "    <tr>\n",
       "      <th>std</th>\n",
       "      <td>NaN</td>\n",
       "      <td>NaN</td>\n",
       "      <td>NaN</td>\n",
       "      <td>NaN</td>\n",
       "      <td>9.659207</td>\n",
       "      <td>12.256488</td>\n",
       "      <td>345.227596</td>\n",
       "      <td>NaN</td>\n",
       "    </tr>\n",
       "  </tbody>\n",
       "</table>\n",
       "</div>"
      ],
      "text/plain": [
       "                              date warehouse client_type     product_line  \\\n",
       "count                         1000      1000        1000             1000   \n",
       "unique                         NaN         3           2                6   \n",
       "top                            NaN   Central      Retail  Breaking system   \n",
       "freq                           NaN       480         775              230   \n",
       "mean    2021-07-15 00:05:45.600000       NaN         NaN              NaN   \n",
       "min            2021-06-01 00:00:00       NaN         NaN              NaN   \n",
       "25%            2021-06-24 00:00:00       NaN         NaN              NaN   \n",
       "50%            2021-07-14 00:00:00       NaN         NaN              NaN   \n",
       "75%            2021-08-06 00:00:00       NaN         NaN              NaN   \n",
       "max            2021-08-28 00:00:00       NaN         NaN              NaN   \n",
       "std                            NaN       NaN         NaN              NaN   \n",
       "\n",
       "           quantity   unit_price        total      payment  \n",
       "count   1000.000000  1000.000000  1000.000000         1000  \n",
       "unique          NaN          NaN          NaN            3  \n",
       "top             NaN          NaN          NaN  Credit card  \n",
       "freq            NaN          NaN          NaN          659  \n",
       "mean       9.395000    30.322040   289.113000          NaN  \n",
       "min        1.000000    10.030000    10.350000          NaN  \n",
       "25%        4.000000    21.085000    93.687500          NaN  \n",
       "50%        6.500000    28.570000   178.360000          NaN  \n",
       "75%       10.000000    37.917500   321.690000          NaN  \n",
       "max       40.000000    66.620000  2546.330000          NaN  \n",
       "std        9.659207    12.256488   345.227596          NaN  "
      ]
     },
     "execution_count": 308,
     "metadata": {},
     "output_type": "execute_result"
    }
   ],
   "source": [
    "df.describe(include='all', datetime_is_numeric=True)"
   ]
  },
  {
   "cell_type": "code",
   "execution_count": null,
   "id": "3d4ce006",
   "metadata": {},
   "outputs": [
    {
     "name": "stdout",
     "output_type": "stream",
     "text": [
      "Fecha inicio:  2021-06-01 00:00:00 \n",
      "Fecha Fin:  2021-08-28 00:00:00\n"
     ]
    }
   ],
   "source": [
    "print(\"Fecha inicio: \",df.date.min(),'\\nFecha Fin: ',df.date.max())"
   ]
  },
  {
   "cell_type": "markdown",
   "id": "168af78a",
   "metadata": {},
   "source": [
    "# Total sales for each payment method\n",
    "\n",
    "The payment method in which the highest sales are made is through transfers (55%) but in number of sales it only represents 22.5%, while with cash there are fewer sales both in quantity and amount. It is with a credit card that the greatest number of sales occurs, almost 66%."
   ]
  },
  {
   "cell_type": "code",
   "execution_count": 396,
   "id": "2af88bc7",
   "metadata": {},
   "outputs": [
    {
     "data": {
      "text/html": [
       "<div>\n",
       "<style scoped>\n",
       "    .dataframe tbody tr th:only-of-type {\n",
       "        vertical-align: middle;\n",
       "    }\n",
       "\n",
       "    .dataframe tbody tr th {\n",
       "        vertical-align: top;\n",
       "    }\n",
       "\n",
       "    .dataframe thead th {\n",
       "        text-align: right;\n",
       "    }\n",
       "</style>\n",
       "<table border=\"1\" class=\"dataframe\">\n",
       "  <thead>\n",
       "    <tr style=\"text-align: right;\">\n",
       "      <th></th>\n",
       "      <th>payment</th>\n",
       "      <th>total_sales</th>\n",
       "      <th>q_sales</th>\n",
       "      <th>percentage_total_sales</th>\n",
       "      <th>perc_q_sales</th>\n",
       "    </tr>\n",
       "  </thead>\n",
       "  <tbody>\n",
       "    <tr>\n",
       "      <th>0</th>\n",
       "      <td>Cash</td>\n",
       "      <td>19199.0</td>\n",
       "      <td>116</td>\n",
       "      <td>6.6</td>\n",
       "      <td>11.6</td>\n",
       "    </tr>\n",
       "    <tr>\n",
       "      <th>1</th>\n",
       "      <td>Credit card</td>\n",
       "      <td>110272.0</td>\n",
       "      <td>659</td>\n",
       "      <td>38.1</td>\n",
       "      <td>65.9</td>\n",
       "    </tr>\n",
       "    <tr>\n",
       "      <th>2</th>\n",
       "      <td>Transfer</td>\n",
       "      <td>159642.0</td>\n",
       "      <td>225</td>\n",
       "      <td>55.2</td>\n",
       "      <td>22.5</td>\n",
       "    </tr>\n",
       "  </tbody>\n",
       "</table>\n",
       "</div>"
      ],
      "text/plain": [
       "       payment  total_sales  q_sales  percentage_total_sales  perc_q_sales\n",
       "0         Cash      19199.0      116                     6.6          11.6\n",
       "1  Credit card     110272.0      659                    38.1          65.9\n",
       "2     Transfer     159642.0      225                    55.2          22.5"
      ]
     },
     "execution_count": 396,
     "metadata": {},
     "output_type": "execute_result"
    }
   ],
   "source": [
    "total_sales =   np.round(df.groupby(['payment'])[['total']].\n",
    "                agg(total_sales = ('total', 'sum'),\n",
    "                    q_sales = ('total', 'count')).\n",
    "                reset_index(),0)\n",
    "total_sales['percentage_total_sales'] = np.round(total_sales['total_sales'] / total_sales['total_sales'].sum()*100,1)\n",
    "total_sales['perc_q_sales'] = np.round(total_sales['q_sales'] / total_sales['q_sales'].sum()*100,1)\n",
    "total_sales"
   ]
  },
  {
   "cell_type": "code",
   "execution_count": 397,
   "id": "c145455a",
   "metadata": {},
   "outputs": [
    {
     "data": {
      "application/vnd.plotly.v1+json": {
       "config": {
        "plotlyServerURL": "https://plot.ly"
       },
       "data": [
        {
         "alignmentgroup": "True",
         "customdata": [
          [
           6.6,
           11.6,
           116
          ]
         ],
         "hovertemplate": "payment=%{x}<br>total_sales=%{y}<br>percentage_total_sales=%{customdata[0]}<br>perc_q_sales=%{customdata[1]}<br>q_sales=%{customdata[2]}<extra></extra>",
         "legendgroup": "Cash",
         "marker": {
          "color": "#636efa",
          "pattern": {
           "shape": ""
          }
         },
         "name": "Cash",
         "offsetgroup": "Cash",
         "orientation": "v",
         "showlegend": true,
         "textposition": "auto",
         "texttemplate": "%{y}",
         "type": "bar",
         "x": [
          "Cash"
         ],
         "xaxis": "x",
         "y": [
          19199
         ],
         "yaxis": "y"
        },
        {
         "alignmentgroup": "True",
         "customdata": [
          [
           38.1,
           65.9,
           659
          ]
         ],
         "hovertemplate": "payment=%{x}<br>total_sales=%{y}<br>percentage_total_sales=%{customdata[0]}<br>perc_q_sales=%{customdata[1]}<br>q_sales=%{customdata[2]}<extra></extra>",
         "legendgroup": "Credit card",
         "marker": {
          "color": "#EF553B",
          "pattern": {
           "shape": ""
          }
         },
         "name": "Credit card",
         "offsetgroup": "Credit card",
         "orientation": "v",
         "showlegend": true,
         "textposition": "auto",
         "texttemplate": "%{y}",
         "type": "bar",
         "x": [
          "Credit card"
         ],
         "xaxis": "x",
         "y": [
          110272
         ],
         "yaxis": "y"
        },
        {
         "alignmentgroup": "True",
         "customdata": [
          [
           55.2,
           22.5,
           225
          ]
         ],
         "hovertemplate": "payment=%{x}<br>total_sales=%{y}<br>percentage_total_sales=%{customdata[0]}<br>perc_q_sales=%{customdata[1]}<br>q_sales=%{customdata[2]}<extra></extra>",
         "legendgroup": "Transfer",
         "marker": {
          "color": "#00cc96",
          "pattern": {
           "shape": ""
          }
         },
         "name": "Transfer",
         "offsetgroup": "Transfer",
         "orientation": "v",
         "showlegend": true,
         "textposition": "auto",
         "texttemplate": "%{y}",
         "type": "bar",
         "x": [
          "Transfer"
         ],
         "xaxis": "x",
         "y": [
          159642
         ],
         "yaxis": "y"
        }
       ],
       "layout": {
        "autosize": false,
        "barmode": "relative",
        "height": 400,
        "legend": {
         "title": {
          "text": "payment"
         },
         "tracegroupgap": 0
        },
        "showlegend": false,
        "template": {
         "data": {
          "bar": [
           {
            "error_x": {
             "color": "#2a3f5f"
            },
            "error_y": {
             "color": "#2a3f5f"
            },
            "marker": {
             "line": {
              "color": "#E5ECF6",
              "width": 0.5
             },
             "pattern": {
              "fillmode": "overlay",
              "size": 10,
              "solidity": 0.2
             }
            },
            "type": "bar"
           }
          ],
          "barpolar": [
           {
            "marker": {
             "line": {
              "color": "#E5ECF6",
              "width": 0.5
             },
             "pattern": {
              "fillmode": "overlay",
              "size": 10,
              "solidity": 0.2
             }
            },
            "type": "barpolar"
           }
          ],
          "carpet": [
           {
            "aaxis": {
             "endlinecolor": "#2a3f5f",
             "gridcolor": "white",
             "linecolor": "white",
             "minorgridcolor": "white",
             "startlinecolor": "#2a3f5f"
            },
            "baxis": {
             "endlinecolor": "#2a3f5f",
             "gridcolor": "white",
             "linecolor": "white",
             "minorgridcolor": "white",
             "startlinecolor": "#2a3f5f"
            },
            "type": "carpet"
           }
          ],
          "choropleth": [
           {
            "colorbar": {
             "outlinewidth": 0,
             "ticks": ""
            },
            "type": "choropleth"
           }
          ],
          "contour": [
           {
            "colorbar": {
             "outlinewidth": 0,
             "ticks": ""
            },
            "colorscale": [
             [
              0,
              "#0d0887"
             ],
             [
              0.1111111111111111,
              "#46039f"
             ],
             [
              0.2222222222222222,
              "#7201a8"
             ],
             [
              0.3333333333333333,
              "#9c179e"
             ],
             [
              0.4444444444444444,
              "#bd3786"
             ],
             [
              0.5555555555555556,
              "#d8576b"
             ],
             [
              0.6666666666666666,
              "#ed7953"
             ],
             [
              0.7777777777777778,
              "#fb9f3a"
             ],
             [
              0.8888888888888888,
              "#fdca26"
             ],
             [
              1,
              "#f0f921"
             ]
            ],
            "type": "contour"
           }
          ],
          "contourcarpet": [
           {
            "colorbar": {
             "outlinewidth": 0,
             "ticks": ""
            },
            "type": "contourcarpet"
           }
          ],
          "heatmap": [
           {
            "colorbar": {
             "outlinewidth": 0,
             "ticks": ""
            },
            "colorscale": [
             [
              0,
              "#0d0887"
             ],
             [
              0.1111111111111111,
              "#46039f"
             ],
             [
              0.2222222222222222,
              "#7201a8"
             ],
             [
              0.3333333333333333,
              "#9c179e"
             ],
             [
              0.4444444444444444,
              "#bd3786"
             ],
             [
              0.5555555555555556,
              "#d8576b"
             ],
             [
              0.6666666666666666,
              "#ed7953"
             ],
             [
              0.7777777777777778,
              "#fb9f3a"
             ],
             [
              0.8888888888888888,
              "#fdca26"
             ],
             [
              1,
              "#f0f921"
             ]
            ],
            "type": "heatmap"
           }
          ],
          "heatmapgl": [
           {
            "colorbar": {
             "outlinewidth": 0,
             "ticks": ""
            },
            "colorscale": [
             [
              0,
              "#0d0887"
             ],
             [
              0.1111111111111111,
              "#46039f"
             ],
             [
              0.2222222222222222,
              "#7201a8"
             ],
             [
              0.3333333333333333,
              "#9c179e"
             ],
             [
              0.4444444444444444,
              "#bd3786"
             ],
             [
              0.5555555555555556,
              "#d8576b"
             ],
             [
              0.6666666666666666,
              "#ed7953"
             ],
             [
              0.7777777777777778,
              "#fb9f3a"
             ],
             [
              0.8888888888888888,
              "#fdca26"
             ],
             [
              1,
              "#f0f921"
             ]
            ],
            "type": "heatmapgl"
           }
          ],
          "histogram": [
           {
            "marker": {
             "pattern": {
              "fillmode": "overlay",
              "size": 10,
              "solidity": 0.2
             }
            },
            "type": "histogram"
           }
          ],
          "histogram2d": [
           {
            "colorbar": {
             "outlinewidth": 0,
             "ticks": ""
            },
            "colorscale": [
             [
              0,
              "#0d0887"
             ],
             [
              0.1111111111111111,
              "#46039f"
             ],
             [
              0.2222222222222222,
              "#7201a8"
             ],
             [
              0.3333333333333333,
              "#9c179e"
             ],
             [
              0.4444444444444444,
              "#bd3786"
             ],
             [
              0.5555555555555556,
              "#d8576b"
             ],
             [
              0.6666666666666666,
              "#ed7953"
             ],
             [
              0.7777777777777778,
              "#fb9f3a"
             ],
             [
              0.8888888888888888,
              "#fdca26"
             ],
             [
              1,
              "#f0f921"
             ]
            ],
            "type": "histogram2d"
           }
          ],
          "histogram2dcontour": [
           {
            "colorbar": {
             "outlinewidth": 0,
             "ticks": ""
            },
            "colorscale": [
             [
              0,
              "#0d0887"
             ],
             [
              0.1111111111111111,
              "#46039f"
             ],
             [
              0.2222222222222222,
              "#7201a8"
             ],
             [
              0.3333333333333333,
              "#9c179e"
             ],
             [
              0.4444444444444444,
              "#bd3786"
             ],
             [
              0.5555555555555556,
              "#d8576b"
             ],
             [
              0.6666666666666666,
              "#ed7953"
             ],
             [
              0.7777777777777778,
              "#fb9f3a"
             ],
             [
              0.8888888888888888,
              "#fdca26"
             ],
             [
              1,
              "#f0f921"
             ]
            ],
            "type": "histogram2dcontour"
           }
          ],
          "mesh3d": [
           {
            "colorbar": {
             "outlinewidth": 0,
             "ticks": ""
            },
            "type": "mesh3d"
           }
          ],
          "parcoords": [
           {
            "line": {
             "colorbar": {
              "outlinewidth": 0,
              "ticks": ""
             }
            },
            "type": "parcoords"
           }
          ],
          "pie": [
           {
            "automargin": true,
            "type": "pie"
           }
          ],
          "scatter": [
           {
            "marker": {
             "colorbar": {
              "outlinewidth": 0,
              "ticks": ""
             }
            },
            "type": "scatter"
           }
          ],
          "scatter3d": [
           {
            "line": {
             "colorbar": {
              "outlinewidth": 0,
              "ticks": ""
             }
            },
            "marker": {
             "colorbar": {
              "outlinewidth": 0,
              "ticks": ""
             }
            },
            "type": "scatter3d"
           }
          ],
          "scattercarpet": [
           {
            "marker": {
             "colorbar": {
              "outlinewidth": 0,
              "ticks": ""
             }
            },
            "type": "scattercarpet"
           }
          ],
          "scattergeo": [
           {
            "marker": {
             "colorbar": {
              "outlinewidth": 0,
              "ticks": ""
             }
            },
            "type": "scattergeo"
           }
          ],
          "scattergl": [
           {
            "marker": {
             "colorbar": {
              "outlinewidth": 0,
              "ticks": ""
             }
            },
            "type": "scattergl"
           }
          ],
          "scattermapbox": [
           {
            "marker": {
             "colorbar": {
              "outlinewidth": 0,
              "ticks": ""
             }
            },
            "type": "scattermapbox"
           }
          ],
          "scatterpolar": [
           {
            "marker": {
             "colorbar": {
              "outlinewidth": 0,
              "ticks": ""
             }
            },
            "type": "scatterpolar"
           }
          ],
          "scatterpolargl": [
           {
            "marker": {
             "colorbar": {
              "outlinewidth": 0,
              "ticks": ""
             }
            },
            "type": "scatterpolargl"
           }
          ],
          "scatterternary": [
           {
            "marker": {
             "colorbar": {
              "outlinewidth": 0,
              "ticks": ""
             }
            },
            "type": "scatterternary"
           }
          ],
          "surface": [
           {
            "colorbar": {
             "outlinewidth": 0,
             "ticks": ""
            },
            "colorscale": [
             [
              0,
              "#0d0887"
             ],
             [
              0.1111111111111111,
              "#46039f"
             ],
             [
              0.2222222222222222,
              "#7201a8"
             ],
             [
              0.3333333333333333,
              "#9c179e"
             ],
             [
              0.4444444444444444,
              "#bd3786"
             ],
             [
              0.5555555555555556,
              "#d8576b"
             ],
             [
              0.6666666666666666,
              "#ed7953"
             ],
             [
              0.7777777777777778,
              "#fb9f3a"
             ],
             [
              0.8888888888888888,
              "#fdca26"
             ],
             [
              1,
              "#f0f921"
             ]
            ],
            "type": "surface"
           }
          ],
          "table": [
           {
            "cells": {
             "fill": {
              "color": "#EBF0F8"
             },
             "line": {
              "color": "white"
             }
            },
            "header": {
             "fill": {
              "color": "#C8D4E3"
             },
             "line": {
              "color": "white"
             }
            },
            "type": "table"
           }
          ]
         },
         "layout": {
          "annotationdefaults": {
           "arrowcolor": "#2a3f5f",
           "arrowhead": 0,
           "arrowwidth": 1
          },
          "autotypenumbers": "strict",
          "coloraxis": {
           "colorbar": {
            "outlinewidth": 0,
            "ticks": ""
           }
          },
          "colorscale": {
           "diverging": [
            [
             0,
             "#8e0152"
            ],
            [
             0.1,
             "#c51b7d"
            ],
            [
             0.2,
             "#de77ae"
            ],
            [
             0.3,
             "#f1b6da"
            ],
            [
             0.4,
             "#fde0ef"
            ],
            [
             0.5,
             "#f7f7f7"
            ],
            [
             0.6,
             "#e6f5d0"
            ],
            [
             0.7,
             "#b8e186"
            ],
            [
             0.8,
             "#7fbc41"
            ],
            [
             0.9,
             "#4d9221"
            ],
            [
             1,
             "#276419"
            ]
           ],
           "sequential": [
            [
             0,
             "#0d0887"
            ],
            [
             0.1111111111111111,
             "#46039f"
            ],
            [
             0.2222222222222222,
             "#7201a8"
            ],
            [
             0.3333333333333333,
             "#9c179e"
            ],
            [
             0.4444444444444444,
             "#bd3786"
            ],
            [
             0.5555555555555556,
             "#d8576b"
            ],
            [
             0.6666666666666666,
             "#ed7953"
            ],
            [
             0.7777777777777778,
             "#fb9f3a"
            ],
            [
             0.8888888888888888,
             "#fdca26"
            ],
            [
             1,
             "#f0f921"
            ]
           ],
           "sequentialminus": [
            [
             0,
             "#0d0887"
            ],
            [
             0.1111111111111111,
             "#46039f"
            ],
            [
             0.2222222222222222,
             "#7201a8"
            ],
            [
             0.3333333333333333,
             "#9c179e"
            ],
            [
             0.4444444444444444,
             "#bd3786"
            ],
            [
             0.5555555555555556,
             "#d8576b"
            ],
            [
             0.6666666666666666,
             "#ed7953"
            ],
            [
             0.7777777777777778,
             "#fb9f3a"
            ],
            [
             0.8888888888888888,
             "#fdca26"
            ],
            [
             1,
             "#f0f921"
            ]
           ]
          },
          "colorway": [
           "#636efa",
           "#EF553B",
           "#00cc96",
           "#ab63fa",
           "#FFA15A",
           "#19d3f3",
           "#FF6692",
           "#B6E880",
           "#FF97FF",
           "#FECB52"
          ],
          "font": {
           "color": "#2a3f5f"
          },
          "geo": {
           "bgcolor": "white",
           "lakecolor": "white",
           "landcolor": "#E5ECF6",
           "showlakes": true,
           "showland": true,
           "subunitcolor": "white"
          },
          "hoverlabel": {
           "align": "left"
          },
          "hovermode": "closest",
          "mapbox": {
           "style": "light"
          },
          "paper_bgcolor": "white",
          "plot_bgcolor": "#E5ECF6",
          "polar": {
           "angularaxis": {
            "gridcolor": "white",
            "linecolor": "white",
            "ticks": ""
           },
           "bgcolor": "#E5ECF6",
           "radialaxis": {
            "gridcolor": "white",
            "linecolor": "white",
            "ticks": ""
           }
          },
          "scene": {
           "xaxis": {
            "backgroundcolor": "#E5ECF6",
            "gridcolor": "white",
            "gridwidth": 2,
            "linecolor": "white",
            "showbackground": true,
            "ticks": "",
            "zerolinecolor": "white"
           },
           "yaxis": {
            "backgroundcolor": "#E5ECF6",
            "gridcolor": "white",
            "gridwidth": 2,
            "linecolor": "white",
            "showbackground": true,
            "ticks": "",
            "zerolinecolor": "white"
           },
           "zaxis": {
            "backgroundcolor": "#E5ECF6",
            "gridcolor": "white",
            "gridwidth": 2,
            "linecolor": "white",
            "showbackground": true,
            "ticks": "",
            "zerolinecolor": "white"
           }
          },
          "shapedefaults": {
           "line": {
            "color": "#2a3f5f"
           }
          },
          "ternary": {
           "aaxis": {
            "gridcolor": "white",
            "linecolor": "white",
            "ticks": ""
           },
           "baxis": {
            "gridcolor": "white",
            "linecolor": "white",
            "ticks": ""
           },
           "bgcolor": "#E5ECF6",
           "caxis": {
            "gridcolor": "white",
            "linecolor": "white",
            "ticks": ""
           }
          },
          "title": {
           "x": 0.05
          },
          "xaxis": {
           "automargin": true,
           "gridcolor": "white",
           "linecolor": "white",
           "ticks": "",
           "title": {
            "standoff": 15
           },
           "zerolinecolor": "white",
           "zerolinewidth": 2
          },
          "yaxis": {
           "automargin": true,
           "gridcolor": "white",
           "linecolor": "white",
           "ticks": "",
           "title": {
            "standoff": 15
           },
           "zerolinecolor": "white",
           "zerolinewidth": 2
          }
         }
        },
        "title": {
         "text": "Total Sales for Payment Method"
        },
        "width": 800,
        "xaxis": {
         "anchor": "y",
         "categoryarray": [
          "Cash",
          "Credit card",
          "Transfer"
         ],
         "categoryorder": "array",
         "domain": [
          0,
          1
         ],
         "title": {
          "text": "Payment Method"
         }
        },
        "yaxis": {
         "anchor": "x",
         "domain": [
          0,
          1
         ],
         "title": {
          "text": "Total Sales"
         }
        }
       }
      }
     },
     "metadata": {},
     "output_type": "display_data"
    }
   ],
   "source": [
    "import plotly.express as px\n",
    "\n",
    "fig = px.bar(total_sales,\n",
    "            x='payment',\n",
    "            y=\"total_sales\",\n",
    "            color='payment',\n",
    "            title=\"Total Sales for Payment Method\",\n",
    "            hover_data=['percentage_total_sales','perc_q_sales','q_sales'],\n",
    "            text_auto=True)\n",
    "fig.update_yaxes(title_text='Total Sales')\n",
    "fig.update_xaxes(title_text='Payment Method')\n",
    "fig.update(layout_showlegend=False)\n",
    "fig.update_layout(autosize=False,\n",
    "                    width=800,\n",
    "                    height=400)\n",
    "fig.show()\n"
   ]
  },
  {
   "cell_type": "markdown",
   "id": "32cab627",
   "metadata": {},
   "source": [
    "## Average purchase by Payment method\n"
   ]
  },
  {
   "cell_type": "code",
   "execution_count": 422,
   "id": "6b93bfdd",
   "metadata": {},
   "outputs": [
    {
     "data": {
      "text/html": [
       "<div>\n",
       "<style scoped>\n",
       "    .dataframe tbody tr th:only-of-type {\n",
       "        vertical-align: middle;\n",
       "    }\n",
       "\n",
       "    .dataframe tbody tr th {\n",
       "        vertical-align: top;\n",
       "    }\n",
       "\n",
       "    .dataframe thead th {\n",
       "        text-align: right;\n",
       "    }\n",
       "</style>\n",
       "<table border=\"1\" class=\"dataframe\">\n",
       "  <thead>\n",
       "    <tr style=\"text-align: right;\">\n",
       "      <th></th>\n",
       "      <th>payment</th>\n",
       "      <th>avg_sale</th>\n",
       "    </tr>\n",
       "  </thead>\n",
       "  <tbody>\n",
       "    <tr>\n",
       "      <th>0</th>\n",
       "      <td>Cash</td>\n",
       "      <td>165.51</td>\n",
       "    </tr>\n",
       "    <tr>\n",
       "      <th>1</th>\n",
       "      <td>Credit card</td>\n",
       "      <td>167.33</td>\n",
       "    </tr>\n",
       "    <tr>\n",
       "      <th>2</th>\n",
       "      <td>Transfer</td>\n",
       "      <td>709.52</td>\n",
       "    </tr>\n",
       "  </tbody>\n",
       "</table>\n",
       "</div>"
      ],
      "text/plain": [
       "       payment  avg_sale\n",
       "0         Cash    165.51\n",
       "1  Credit card    167.33\n",
       "2     Transfer    709.52"
      ]
     },
     "execution_count": 422,
     "metadata": {},
     "output_type": "execute_result"
    }
   ],
   "source": [
    "# average purchase by Payment method\n",
    "avg_sales_payment =     np.round((df.groupby(['payment'])[['total']].\n",
    "                        agg(avg_sale = ('total', 'mean')).\n",
    "                        reset_index()),2)\n",
    "avg_sales_payment"
   ]
  },
  {
   "cell_type": "markdown",
   "id": "3166d068",
   "metadata": {},
   "source": [
    "# Average unit price for each product line, and units sold\n",
    "\n",
    "The product line with the highest price per unit is the engines, while the breaking system is the lowest. "
   ]
  },
  {
   "cell_type": "code",
   "execution_count": 436,
   "id": "cfaa9c1f-8561-40f8-b085-84b1afd02717",
   "metadata": {},
   "outputs": [
    {
     "data": {
      "text/html": [
       "<div>\n",
       "<style scoped>\n",
       "    .dataframe tbody tr th:only-of-type {\n",
       "        vertical-align: middle;\n",
       "    }\n",
       "\n",
       "    .dataframe tbody tr th {\n",
       "        vertical-align: top;\n",
       "    }\n",
       "\n",
       "    .dataframe thead th {\n",
       "        text-align: right;\n",
       "    }\n",
       "</style>\n",
       "<table border=\"1\" class=\"dataframe\">\n",
       "  <thead>\n",
       "    <tr style=\"text-align: right;\">\n",
       "      <th></th>\n",
       "      <th>product_line</th>\n",
       "      <th>average_price</th>\n",
       "      <th>units_solds</th>\n",
       "    </tr>\n",
       "  </thead>\n",
       "  <tbody>\n",
       "    <tr>\n",
       "      <th>0</th>\n",
       "      <td>Engine</td>\n",
       "      <td>60.09</td>\n",
       "      <td>627</td>\n",
       "    </tr>\n",
       "    <tr>\n",
       "      <th>1</th>\n",
       "      <td>Frame &amp; body</td>\n",
       "      <td>42.83</td>\n",
       "      <td>1619</td>\n",
       "    </tr>\n",
       "    <tr>\n",
       "      <th>2</th>\n",
       "      <td>Suspension &amp; traction</td>\n",
       "      <td>33.97</td>\n",
       "      <td>2145</td>\n",
       "    </tr>\n",
       "    <tr>\n",
       "      <th>3</th>\n",
       "      <td>Electrical system</td>\n",
       "      <td>25.59</td>\n",
       "      <td>1698</td>\n",
       "    </tr>\n",
       "    <tr>\n",
       "      <th>4</th>\n",
       "      <td>Miscellaneous</td>\n",
       "      <td>22.81</td>\n",
       "      <td>1176</td>\n",
       "    </tr>\n",
       "    <tr>\n",
       "      <th>5</th>\n",
       "      <td>Breaking system</td>\n",
       "      <td>17.74</td>\n",
       "      <td>2130</td>\n",
       "    </tr>\n",
       "  </tbody>\n",
       "</table>\n",
       "</div>"
      ],
      "text/plain": [
       "            product_line  average_price  units_solds\n",
       "0                 Engine          60.09          627\n",
       "1           Frame & body          42.83         1619\n",
       "2  Suspension & traction          33.97         2145\n",
       "3      Electrical system          25.59         1698\n",
       "4          Miscellaneous          22.81         1176\n",
       "5        Breaking system          17.74         2130"
      ]
     },
     "execution_count": 436,
     "metadata": {},
     "output_type": "execute_result"
    }
   ],
   "source": [
    "# What is the average unit price for each product line?\n",
    "average_unite_price = np.round(df.groupby(['product_line'])[['quantity','unit_price']].\n",
    "                        agg(average_price =('unit_price','mean'), units_solds =('quantity','sum')).\n",
    "                        sort_values(by='average_price',ascending=False).\n",
    "                        reset_index(),2)\n",
    "average_unite_price"
   ]
  },
  {
   "cell_type": "code",
   "execution_count": 446,
   "id": "54831bfb",
   "metadata": {},
   "outputs": [
    {
     "data": {
      "application/vnd.plotly.v1+json": {
       "config": {
        "plotlyServerURL": "https://plot.ly"
       },
       "data": [
        {
         "alignmentgroup": "True",
         "hovertemplate": "product_line=%{y}<br>units_solds=%{x}<extra></extra>",
         "legendgroup": "Engine",
         "marker": {
          "color": "#636efa",
          "pattern": {
           "shape": ""
          }
         },
         "name": "Engine",
         "offsetgroup": "Engine",
         "orientation": "h",
         "showlegend": true,
         "textposition": "auto",
         "texttemplate": "%{x}",
         "type": "bar",
         "x": [
          627
         ],
         "xaxis": "x",
         "y": [
          "Engine"
         ],
         "yaxis": "y"
        },
        {
         "alignmentgroup": "True",
         "hovertemplate": "product_line=%{y}<br>units_solds=%{x}<extra></extra>",
         "legendgroup": "Frame & body",
         "marker": {
          "color": "#EF553B",
          "pattern": {
           "shape": ""
          }
         },
         "name": "Frame & body",
         "offsetgroup": "Frame & body",
         "orientation": "h",
         "showlegend": true,
         "textposition": "auto",
         "texttemplate": "%{x}",
         "type": "bar",
         "x": [
          1619
         ],
         "xaxis": "x",
         "y": [
          "Frame & body"
         ],
         "yaxis": "y"
        },
        {
         "alignmentgroup": "True",
         "hovertemplate": "product_line=%{y}<br>units_solds=%{x}<extra></extra>",
         "legendgroup": "Suspension & traction",
         "marker": {
          "color": "#00cc96",
          "pattern": {
           "shape": ""
          }
         },
         "name": "Suspension & traction",
         "offsetgroup": "Suspension & traction",
         "orientation": "h",
         "showlegend": true,
         "textposition": "auto",
         "texttemplate": "%{x}",
         "type": "bar",
         "x": [
          2145
         ],
         "xaxis": "x",
         "y": [
          "Suspension & traction"
         ],
         "yaxis": "y"
        },
        {
         "alignmentgroup": "True",
         "hovertemplate": "product_line=%{y}<br>units_solds=%{x}<extra></extra>",
         "legendgroup": "Electrical system",
         "marker": {
          "color": "#ab63fa",
          "pattern": {
           "shape": ""
          }
         },
         "name": "Electrical system",
         "offsetgroup": "Electrical system",
         "orientation": "h",
         "showlegend": true,
         "textposition": "auto",
         "texttemplate": "%{x}",
         "type": "bar",
         "x": [
          1698
         ],
         "xaxis": "x",
         "y": [
          "Electrical system"
         ],
         "yaxis": "y"
        },
        {
         "alignmentgroup": "True",
         "hovertemplate": "product_line=%{y}<br>units_solds=%{x}<extra></extra>",
         "legendgroup": "Miscellaneous",
         "marker": {
          "color": "#FFA15A",
          "pattern": {
           "shape": ""
          }
         },
         "name": "Miscellaneous",
         "offsetgroup": "Miscellaneous",
         "orientation": "h",
         "showlegend": true,
         "textposition": "auto",
         "texttemplate": "%{x}",
         "type": "bar",
         "x": [
          1176
         ],
         "xaxis": "x",
         "y": [
          "Miscellaneous"
         ],
         "yaxis": "y"
        },
        {
         "alignmentgroup": "True",
         "hovertemplate": "product_line=%{y}<br>units_solds=%{x}<extra></extra>",
         "legendgroup": "Breaking system",
         "marker": {
          "color": "#19d3f3",
          "pattern": {
           "shape": ""
          }
         },
         "name": "Breaking system",
         "offsetgroup": "Breaking system",
         "orientation": "h",
         "showlegend": true,
         "textposition": "auto",
         "texttemplate": "%{x}",
         "type": "bar",
         "x": [
          2130
         ],
         "xaxis": "x",
         "y": [
          "Breaking system"
         ],
         "yaxis": "y"
        }
       ],
       "layout": {
        "autosize": false,
        "barmode": "relative",
        "height": 400,
        "legend": {
         "title": {
          "text": "product_line"
         },
         "tracegroupgap": 0
        },
        "showlegend": false,
        "template": {
         "data": {
          "bar": [
           {
            "error_x": {
             "color": "#2a3f5f"
            },
            "error_y": {
             "color": "#2a3f5f"
            },
            "marker": {
             "line": {
              "color": "#E5ECF6",
              "width": 0.5
             },
             "pattern": {
              "fillmode": "overlay",
              "size": 10,
              "solidity": 0.2
             }
            },
            "type": "bar"
           }
          ],
          "barpolar": [
           {
            "marker": {
             "line": {
              "color": "#E5ECF6",
              "width": 0.5
             },
             "pattern": {
              "fillmode": "overlay",
              "size": 10,
              "solidity": 0.2
             }
            },
            "type": "barpolar"
           }
          ],
          "carpet": [
           {
            "aaxis": {
             "endlinecolor": "#2a3f5f",
             "gridcolor": "white",
             "linecolor": "white",
             "minorgridcolor": "white",
             "startlinecolor": "#2a3f5f"
            },
            "baxis": {
             "endlinecolor": "#2a3f5f",
             "gridcolor": "white",
             "linecolor": "white",
             "minorgridcolor": "white",
             "startlinecolor": "#2a3f5f"
            },
            "type": "carpet"
           }
          ],
          "choropleth": [
           {
            "colorbar": {
             "outlinewidth": 0,
             "ticks": ""
            },
            "type": "choropleth"
           }
          ],
          "contour": [
           {
            "colorbar": {
             "outlinewidth": 0,
             "ticks": ""
            },
            "colorscale": [
             [
              0,
              "#0d0887"
             ],
             [
              0.1111111111111111,
              "#46039f"
             ],
             [
              0.2222222222222222,
              "#7201a8"
             ],
             [
              0.3333333333333333,
              "#9c179e"
             ],
             [
              0.4444444444444444,
              "#bd3786"
             ],
             [
              0.5555555555555556,
              "#d8576b"
             ],
             [
              0.6666666666666666,
              "#ed7953"
             ],
             [
              0.7777777777777778,
              "#fb9f3a"
             ],
             [
              0.8888888888888888,
              "#fdca26"
             ],
             [
              1,
              "#f0f921"
             ]
            ],
            "type": "contour"
           }
          ],
          "contourcarpet": [
           {
            "colorbar": {
             "outlinewidth": 0,
             "ticks": ""
            },
            "type": "contourcarpet"
           }
          ],
          "heatmap": [
           {
            "colorbar": {
             "outlinewidth": 0,
             "ticks": ""
            },
            "colorscale": [
             [
              0,
              "#0d0887"
             ],
             [
              0.1111111111111111,
              "#46039f"
             ],
             [
              0.2222222222222222,
              "#7201a8"
             ],
             [
              0.3333333333333333,
              "#9c179e"
             ],
             [
              0.4444444444444444,
              "#bd3786"
             ],
             [
              0.5555555555555556,
              "#d8576b"
             ],
             [
              0.6666666666666666,
              "#ed7953"
             ],
             [
              0.7777777777777778,
              "#fb9f3a"
             ],
             [
              0.8888888888888888,
              "#fdca26"
             ],
             [
              1,
              "#f0f921"
             ]
            ],
            "type": "heatmap"
           }
          ],
          "heatmapgl": [
           {
            "colorbar": {
             "outlinewidth": 0,
             "ticks": ""
            },
            "colorscale": [
             [
              0,
              "#0d0887"
             ],
             [
              0.1111111111111111,
              "#46039f"
             ],
             [
              0.2222222222222222,
              "#7201a8"
             ],
             [
              0.3333333333333333,
              "#9c179e"
             ],
             [
              0.4444444444444444,
              "#bd3786"
             ],
             [
              0.5555555555555556,
              "#d8576b"
             ],
             [
              0.6666666666666666,
              "#ed7953"
             ],
             [
              0.7777777777777778,
              "#fb9f3a"
             ],
             [
              0.8888888888888888,
              "#fdca26"
             ],
             [
              1,
              "#f0f921"
             ]
            ],
            "type": "heatmapgl"
           }
          ],
          "histogram": [
           {
            "marker": {
             "pattern": {
              "fillmode": "overlay",
              "size": 10,
              "solidity": 0.2
             }
            },
            "type": "histogram"
           }
          ],
          "histogram2d": [
           {
            "colorbar": {
             "outlinewidth": 0,
             "ticks": ""
            },
            "colorscale": [
             [
              0,
              "#0d0887"
             ],
             [
              0.1111111111111111,
              "#46039f"
             ],
             [
              0.2222222222222222,
              "#7201a8"
             ],
             [
              0.3333333333333333,
              "#9c179e"
             ],
             [
              0.4444444444444444,
              "#bd3786"
             ],
             [
              0.5555555555555556,
              "#d8576b"
             ],
             [
              0.6666666666666666,
              "#ed7953"
             ],
             [
              0.7777777777777778,
              "#fb9f3a"
             ],
             [
              0.8888888888888888,
              "#fdca26"
             ],
             [
              1,
              "#f0f921"
             ]
            ],
            "type": "histogram2d"
           }
          ],
          "histogram2dcontour": [
           {
            "colorbar": {
             "outlinewidth": 0,
             "ticks": ""
            },
            "colorscale": [
             [
              0,
              "#0d0887"
             ],
             [
              0.1111111111111111,
              "#46039f"
             ],
             [
              0.2222222222222222,
              "#7201a8"
             ],
             [
              0.3333333333333333,
              "#9c179e"
             ],
             [
              0.4444444444444444,
              "#bd3786"
             ],
             [
              0.5555555555555556,
              "#d8576b"
             ],
             [
              0.6666666666666666,
              "#ed7953"
             ],
             [
              0.7777777777777778,
              "#fb9f3a"
             ],
             [
              0.8888888888888888,
              "#fdca26"
             ],
             [
              1,
              "#f0f921"
             ]
            ],
            "type": "histogram2dcontour"
           }
          ],
          "mesh3d": [
           {
            "colorbar": {
             "outlinewidth": 0,
             "ticks": ""
            },
            "type": "mesh3d"
           }
          ],
          "parcoords": [
           {
            "line": {
             "colorbar": {
              "outlinewidth": 0,
              "ticks": ""
             }
            },
            "type": "parcoords"
           }
          ],
          "pie": [
           {
            "automargin": true,
            "type": "pie"
           }
          ],
          "scatter": [
           {
            "marker": {
             "colorbar": {
              "outlinewidth": 0,
              "ticks": ""
             }
            },
            "type": "scatter"
           }
          ],
          "scatter3d": [
           {
            "line": {
             "colorbar": {
              "outlinewidth": 0,
              "ticks": ""
             }
            },
            "marker": {
             "colorbar": {
              "outlinewidth": 0,
              "ticks": ""
             }
            },
            "type": "scatter3d"
           }
          ],
          "scattercarpet": [
           {
            "marker": {
             "colorbar": {
              "outlinewidth": 0,
              "ticks": ""
             }
            },
            "type": "scattercarpet"
           }
          ],
          "scattergeo": [
           {
            "marker": {
             "colorbar": {
              "outlinewidth": 0,
              "ticks": ""
             }
            },
            "type": "scattergeo"
           }
          ],
          "scattergl": [
           {
            "marker": {
             "colorbar": {
              "outlinewidth": 0,
              "ticks": ""
             }
            },
            "type": "scattergl"
           }
          ],
          "scattermapbox": [
           {
            "marker": {
             "colorbar": {
              "outlinewidth": 0,
              "ticks": ""
             }
            },
            "type": "scattermapbox"
           }
          ],
          "scatterpolar": [
           {
            "marker": {
             "colorbar": {
              "outlinewidth": 0,
              "ticks": ""
             }
            },
            "type": "scatterpolar"
           }
          ],
          "scatterpolargl": [
           {
            "marker": {
             "colorbar": {
              "outlinewidth": 0,
              "ticks": ""
             }
            },
            "type": "scatterpolargl"
           }
          ],
          "scatterternary": [
           {
            "marker": {
             "colorbar": {
              "outlinewidth": 0,
              "ticks": ""
             }
            },
            "type": "scatterternary"
           }
          ],
          "surface": [
           {
            "colorbar": {
             "outlinewidth": 0,
             "ticks": ""
            },
            "colorscale": [
             [
              0,
              "#0d0887"
             ],
             [
              0.1111111111111111,
              "#46039f"
             ],
             [
              0.2222222222222222,
              "#7201a8"
             ],
             [
              0.3333333333333333,
              "#9c179e"
             ],
             [
              0.4444444444444444,
              "#bd3786"
             ],
             [
              0.5555555555555556,
              "#d8576b"
             ],
             [
              0.6666666666666666,
              "#ed7953"
             ],
             [
              0.7777777777777778,
              "#fb9f3a"
             ],
             [
              0.8888888888888888,
              "#fdca26"
             ],
             [
              1,
              "#f0f921"
             ]
            ],
            "type": "surface"
           }
          ],
          "table": [
           {
            "cells": {
             "fill": {
              "color": "#EBF0F8"
             },
             "line": {
              "color": "white"
             }
            },
            "header": {
             "fill": {
              "color": "#C8D4E3"
             },
             "line": {
              "color": "white"
             }
            },
            "type": "table"
           }
          ]
         },
         "layout": {
          "annotationdefaults": {
           "arrowcolor": "#2a3f5f",
           "arrowhead": 0,
           "arrowwidth": 1
          },
          "autotypenumbers": "strict",
          "coloraxis": {
           "colorbar": {
            "outlinewidth": 0,
            "ticks": ""
           }
          },
          "colorscale": {
           "diverging": [
            [
             0,
             "#8e0152"
            ],
            [
             0.1,
             "#c51b7d"
            ],
            [
             0.2,
             "#de77ae"
            ],
            [
             0.3,
             "#f1b6da"
            ],
            [
             0.4,
             "#fde0ef"
            ],
            [
             0.5,
             "#f7f7f7"
            ],
            [
             0.6,
             "#e6f5d0"
            ],
            [
             0.7,
             "#b8e186"
            ],
            [
             0.8,
             "#7fbc41"
            ],
            [
             0.9,
             "#4d9221"
            ],
            [
             1,
             "#276419"
            ]
           ],
           "sequential": [
            [
             0,
             "#0d0887"
            ],
            [
             0.1111111111111111,
             "#46039f"
            ],
            [
             0.2222222222222222,
             "#7201a8"
            ],
            [
             0.3333333333333333,
             "#9c179e"
            ],
            [
             0.4444444444444444,
             "#bd3786"
            ],
            [
             0.5555555555555556,
             "#d8576b"
            ],
            [
             0.6666666666666666,
             "#ed7953"
            ],
            [
             0.7777777777777778,
             "#fb9f3a"
            ],
            [
             0.8888888888888888,
             "#fdca26"
            ],
            [
             1,
             "#f0f921"
            ]
           ],
           "sequentialminus": [
            [
             0,
             "#0d0887"
            ],
            [
             0.1111111111111111,
             "#46039f"
            ],
            [
             0.2222222222222222,
             "#7201a8"
            ],
            [
             0.3333333333333333,
             "#9c179e"
            ],
            [
             0.4444444444444444,
             "#bd3786"
            ],
            [
             0.5555555555555556,
             "#d8576b"
            ],
            [
             0.6666666666666666,
             "#ed7953"
            ],
            [
             0.7777777777777778,
             "#fb9f3a"
            ],
            [
             0.8888888888888888,
             "#fdca26"
            ],
            [
             1,
             "#f0f921"
            ]
           ]
          },
          "colorway": [
           "#636efa",
           "#EF553B",
           "#00cc96",
           "#ab63fa",
           "#FFA15A",
           "#19d3f3",
           "#FF6692",
           "#B6E880",
           "#FF97FF",
           "#FECB52"
          ],
          "font": {
           "color": "#2a3f5f"
          },
          "geo": {
           "bgcolor": "white",
           "lakecolor": "white",
           "landcolor": "#E5ECF6",
           "showlakes": true,
           "showland": true,
           "subunitcolor": "white"
          },
          "hoverlabel": {
           "align": "left"
          },
          "hovermode": "closest",
          "mapbox": {
           "style": "light"
          },
          "paper_bgcolor": "white",
          "plot_bgcolor": "#E5ECF6",
          "polar": {
           "angularaxis": {
            "gridcolor": "white",
            "linecolor": "white",
            "ticks": ""
           },
           "bgcolor": "#E5ECF6",
           "radialaxis": {
            "gridcolor": "white",
            "linecolor": "white",
            "ticks": ""
           }
          },
          "scene": {
           "xaxis": {
            "backgroundcolor": "#E5ECF6",
            "gridcolor": "white",
            "gridwidth": 2,
            "linecolor": "white",
            "showbackground": true,
            "ticks": "",
            "zerolinecolor": "white"
           },
           "yaxis": {
            "backgroundcolor": "#E5ECF6",
            "gridcolor": "white",
            "gridwidth": 2,
            "linecolor": "white",
            "showbackground": true,
            "ticks": "",
            "zerolinecolor": "white"
           },
           "zaxis": {
            "backgroundcolor": "#E5ECF6",
            "gridcolor": "white",
            "gridwidth": 2,
            "linecolor": "white",
            "showbackground": true,
            "ticks": "",
            "zerolinecolor": "white"
           }
          },
          "shapedefaults": {
           "line": {
            "color": "#2a3f5f"
           }
          },
          "ternary": {
           "aaxis": {
            "gridcolor": "white",
            "linecolor": "white",
            "ticks": ""
           },
           "baxis": {
            "gridcolor": "white",
            "linecolor": "white",
            "ticks": ""
           },
           "bgcolor": "#E5ECF6",
           "caxis": {
            "gridcolor": "white",
            "linecolor": "white",
            "ticks": ""
           }
          },
          "title": {
           "x": 0.05
          },
          "xaxis": {
           "automargin": true,
           "gridcolor": "white",
           "linecolor": "white",
           "ticks": "",
           "title": {
            "standoff": 15
           },
           "zerolinecolor": "white",
           "zerolinewidth": 2
          },
          "yaxis": {
           "automargin": true,
           "gridcolor": "white",
           "linecolor": "white",
           "ticks": "",
           "title": {
            "standoff": 15
           },
           "zerolinecolor": "white",
           "zerolinewidth": 2
          }
         }
        },
        "title": {
         "text": "Units Sold"
        },
        "width": 800,
        "xaxis": {
         "anchor": "y",
         "domain": [
          0,
          1
         ],
         "title": {
          "text": "Units Sold"
         }
        },
        "yaxis": {
         "anchor": "x",
         "categoryarray": [
          "Breaking system",
          "Miscellaneous",
          "Electrical system",
          "Suspension & traction",
          "Frame & body",
          "Engine"
         ],
         "categoryorder": "total ascending",
         "domain": [
          0,
          1
         ],
         "title": {
          "text": "Product Line"
         }
        }
       }
      }
     },
     "metadata": {},
     "output_type": "display_data"
    }
   ],
   "source": [
    "fig = px.bar(average_unite_price,\n",
    "            y='product_line',\n",
    "            x=\"units_solds\",\n",
    "            color='product_line',\n",
    "            title=\"Units Sold\",\n",
    "            text_auto=True,\n",
    "            orientation='h')\n",
    "fig.update_xaxes(title_text='Units Sold')\n",
    "fig.update_yaxes(title_text='Product Line')\n",
    "fig.update(layout_showlegend=False)\n",
    "fig.update_layout(yaxis={'categoryorder':'total ascending'},\n",
    "    autosize=False,\n",
    "    width=800,\n",
    "    height=400)\n",
    "fig.show()"
   ]
  },
  {
   "cell_type": "code",
   "execution_count": 435,
   "id": "ee77dbd0",
   "metadata": {},
   "outputs": [
    {
     "data": {
      "application/vnd.plotly.v1+json": {
       "config": {
        "plotlyServerURL": "https://plot.ly"
       },
       "data": [
        {
         "alignmentgroup": "True",
         "hovertemplate": "product_line=%{y}<br>average_price=%{x}<extra></extra>",
         "legendgroup": "Engine",
         "marker": {
          "color": "#636efa",
          "pattern": {
           "shape": ""
          }
         },
         "name": "Engine",
         "offsetgroup": "Engine",
         "orientation": "h",
         "showlegend": true,
         "textposition": "auto",
         "texttemplate": "%{x}",
         "type": "bar",
         "x": [
          60.09
         ],
         "xaxis": "x",
         "y": [
          "Engine"
         ],
         "yaxis": "y"
        },
        {
         "alignmentgroup": "True",
         "hovertemplate": "product_line=%{y}<br>average_price=%{x}<extra></extra>",
         "legendgroup": "Frame & body",
         "marker": {
          "color": "#EF553B",
          "pattern": {
           "shape": ""
          }
         },
         "name": "Frame & body",
         "offsetgroup": "Frame & body",
         "orientation": "h",
         "showlegend": true,
         "textposition": "auto",
         "texttemplate": "%{x}",
         "type": "bar",
         "x": [
          42.83
         ],
         "xaxis": "x",
         "y": [
          "Frame & body"
         ],
         "yaxis": "y"
        },
        {
         "alignmentgroup": "True",
         "hovertemplate": "product_line=%{y}<br>average_price=%{x}<extra></extra>",
         "legendgroup": "Suspension & traction",
         "marker": {
          "color": "#00cc96",
          "pattern": {
           "shape": ""
          }
         },
         "name": "Suspension & traction",
         "offsetgroup": "Suspension & traction",
         "orientation": "h",
         "showlegend": true,
         "textposition": "auto",
         "texttemplate": "%{x}",
         "type": "bar",
         "x": [
          33.97
         ],
         "xaxis": "x",
         "y": [
          "Suspension & traction"
         ],
         "yaxis": "y"
        },
        {
         "alignmentgroup": "True",
         "hovertemplate": "product_line=%{y}<br>average_price=%{x}<extra></extra>",
         "legendgroup": "Electrical system",
         "marker": {
          "color": "#ab63fa",
          "pattern": {
           "shape": ""
          }
         },
         "name": "Electrical system",
         "offsetgroup": "Electrical system",
         "orientation": "h",
         "showlegend": true,
         "textposition": "auto",
         "texttemplate": "%{x}",
         "type": "bar",
         "x": [
          25.59
         ],
         "xaxis": "x",
         "y": [
          "Electrical system"
         ],
         "yaxis": "y"
        },
        {
         "alignmentgroup": "True",
         "hovertemplate": "product_line=%{y}<br>average_price=%{x}<extra></extra>",
         "legendgroup": "Miscellaneous",
         "marker": {
          "color": "#FFA15A",
          "pattern": {
           "shape": ""
          }
         },
         "name": "Miscellaneous",
         "offsetgroup": "Miscellaneous",
         "orientation": "h",
         "showlegend": true,
         "textposition": "auto",
         "texttemplate": "%{x}",
         "type": "bar",
         "x": [
          22.81
         ],
         "xaxis": "x",
         "y": [
          "Miscellaneous"
         ],
         "yaxis": "y"
        },
        {
         "alignmentgroup": "True",
         "hovertemplate": "product_line=%{y}<br>average_price=%{x}<extra></extra>",
         "legendgroup": "Breaking system",
         "marker": {
          "color": "#19d3f3",
          "pattern": {
           "shape": ""
          }
         },
         "name": "Breaking system",
         "offsetgroup": "Breaking system",
         "orientation": "h",
         "showlegend": true,
         "textposition": "auto",
         "texttemplate": "%{x}",
         "type": "bar",
         "x": [
          17.74
         ],
         "xaxis": "x",
         "y": [
          "Breaking system"
         ],
         "yaxis": "y"
        }
       ],
       "layout": {
        "autosize": false,
        "barmode": "relative",
        "height": 400,
        "legend": {
         "title": {
          "text": "product_line"
         },
         "tracegroupgap": 0
        },
        "showlegend": false,
        "template": {
         "data": {
          "bar": [
           {
            "error_x": {
             "color": "#2a3f5f"
            },
            "error_y": {
             "color": "#2a3f5f"
            },
            "marker": {
             "line": {
              "color": "#E5ECF6",
              "width": 0.5
             },
             "pattern": {
              "fillmode": "overlay",
              "size": 10,
              "solidity": 0.2
             }
            },
            "type": "bar"
           }
          ],
          "barpolar": [
           {
            "marker": {
             "line": {
              "color": "#E5ECF6",
              "width": 0.5
             },
             "pattern": {
              "fillmode": "overlay",
              "size": 10,
              "solidity": 0.2
             }
            },
            "type": "barpolar"
           }
          ],
          "carpet": [
           {
            "aaxis": {
             "endlinecolor": "#2a3f5f",
             "gridcolor": "white",
             "linecolor": "white",
             "minorgridcolor": "white",
             "startlinecolor": "#2a3f5f"
            },
            "baxis": {
             "endlinecolor": "#2a3f5f",
             "gridcolor": "white",
             "linecolor": "white",
             "minorgridcolor": "white",
             "startlinecolor": "#2a3f5f"
            },
            "type": "carpet"
           }
          ],
          "choropleth": [
           {
            "colorbar": {
             "outlinewidth": 0,
             "ticks": ""
            },
            "type": "choropleth"
           }
          ],
          "contour": [
           {
            "colorbar": {
             "outlinewidth": 0,
             "ticks": ""
            },
            "colorscale": [
             [
              0,
              "#0d0887"
             ],
             [
              0.1111111111111111,
              "#46039f"
             ],
             [
              0.2222222222222222,
              "#7201a8"
             ],
             [
              0.3333333333333333,
              "#9c179e"
             ],
             [
              0.4444444444444444,
              "#bd3786"
             ],
             [
              0.5555555555555556,
              "#d8576b"
             ],
             [
              0.6666666666666666,
              "#ed7953"
             ],
             [
              0.7777777777777778,
              "#fb9f3a"
             ],
             [
              0.8888888888888888,
              "#fdca26"
             ],
             [
              1,
              "#f0f921"
             ]
            ],
            "type": "contour"
           }
          ],
          "contourcarpet": [
           {
            "colorbar": {
             "outlinewidth": 0,
             "ticks": ""
            },
            "type": "contourcarpet"
           }
          ],
          "heatmap": [
           {
            "colorbar": {
             "outlinewidth": 0,
             "ticks": ""
            },
            "colorscale": [
             [
              0,
              "#0d0887"
             ],
             [
              0.1111111111111111,
              "#46039f"
             ],
             [
              0.2222222222222222,
              "#7201a8"
             ],
             [
              0.3333333333333333,
              "#9c179e"
             ],
             [
              0.4444444444444444,
              "#bd3786"
             ],
             [
              0.5555555555555556,
              "#d8576b"
             ],
             [
              0.6666666666666666,
              "#ed7953"
             ],
             [
              0.7777777777777778,
              "#fb9f3a"
             ],
             [
              0.8888888888888888,
              "#fdca26"
             ],
             [
              1,
              "#f0f921"
             ]
            ],
            "type": "heatmap"
           }
          ],
          "heatmapgl": [
           {
            "colorbar": {
             "outlinewidth": 0,
             "ticks": ""
            },
            "colorscale": [
             [
              0,
              "#0d0887"
             ],
             [
              0.1111111111111111,
              "#46039f"
             ],
             [
              0.2222222222222222,
              "#7201a8"
             ],
             [
              0.3333333333333333,
              "#9c179e"
             ],
             [
              0.4444444444444444,
              "#bd3786"
             ],
             [
              0.5555555555555556,
              "#d8576b"
             ],
             [
              0.6666666666666666,
              "#ed7953"
             ],
             [
              0.7777777777777778,
              "#fb9f3a"
             ],
             [
              0.8888888888888888,
              "#fdca26"
             ],
             [
              1,
              "#f0f921"
             ]
            ],
            "type": "heatmapgl"
           }
          ],
          "histogram": [
           {
            "marker": {
             "pattern": {
              "fillmode": "overlay",
              "size": 10,
              "solidity": 0.2
             }
            },
            "type": "histogram"
           }
          ],
          "histogram2d": [
           {
            "colorbar": {
             "outlinewidth": 0,
             "ticks": ""
            },
            "colorscale": [
             [
              0,
              "#0d0887"
             ],
             [
              0.1111111111111111,
              "#46039f"
             ],
             [
              0.2222222222222222,
              "#7201a8"
             ],
             [
              0.3333333333333333,
              "#9c179e"
             ],
             [
              0.4444444444444444,
              "#bd3786"
             ],
             [
              0.5555555555555556,
              "#d8576b"
             ],
             [
              0.6666666666666666,
              "#ed7953"
             ],
             [
              0.7777777777777778,
              "#fb9f3a"
             ],
             [
              0.8888888888888888,
              "#fdca26"
             ],
             [
              1,
              "#f0f921"
             ]
            ],
            "type": "histogram2d"
           }
          ],
          "histogram2dcontour": [
           {
            "colorbar": {
             "outlinewidth": 0,
             "ticks": ""
            },
            "colorscale": [
             [
              0,
              "#0d0887"
             ],
             [
              0.1111111111111111,
              "#46039f"
             ],
             [
              0.2222222222222222,
              "#7201a8"
             ],
             [
              0.3333333333333333,
              "#9c179e"
             ],
             [
              0.4444444444444444,
              "#bd3786"
             ],
             [
              0.5555555555555556,
              "#d8576b"
             ],
             [
              0.6666666666666666,
              "#ed7953"
             ],
             [
              0.7777777777777778,
              "#fb9f3a"
             ],
             [
              0.8888888888888888,
              "#fdca26"
             ],
             [
              1,
              "#f0f921"
             ]
            ],
            "type": "histogram2dcontour"
           }
          ],
          "mesh3d": [
           {
            "colorbar": {
             "outlinewidth": 0,
             "ticks": ""
            },
            "type": "mesh3d"
           }
          ],
          "parcoords": [
           {
            "line": {
             "colorbar": {
              "outlinewidth": 0,
              "ticks": ""
             }
            },
            "type": "parcoords"
           }
          ],
          "pie": [
           {
            "automargin": true,
            "type": "pie"
           }
          ],
          "scatter": [
           {
            "marker": {
             "colorbar": {
              "outlinewidth": 0,
              "ticks": ""
             }
            },
            "type": "scatter"
           }
          ],
          "scatter3d": [
           {
            "line": {
             "colorbar": {
              "outlinewidth": 0,
              "ticks": ""
             }
            },
            "marker": {
             "colorbar": {
              "outlinewidth": 0,
              "ticks": ""
             }
            },
            "type": "scatter3d"
           }
          ],
          "scattercarpet": [
           {
            "marker": {
             "colorbar": {
              "outlinewidth": 0,
              "ticks": ""
             }
            },
            "type": "scattercarpet"
           }
          ],
          "scattergeo": [
           {
            "marker": {
             "colorbar": {
              "outlinewidth": 0,
              "ticks": ""
             }
            },
            "type": "scattergeo"
           }
          ],
          "scattergl": [
           {
            "marker": {
             "colorbar": {
              "outlinewidth": 0,
              "ticks": ""
             }
            },
            "type": "scattergl"
           }
          ],
          "scattermapbox": [
           {
            "marker": {
             "colorbar": {
              "outlinewidth": 0,
              "ticks": ""
             }
            },
            "type": "scattermapbox"
           }
          ],
          "scatterpolar": [
           {
            "marker": {
             "colorbar": {
              "outlinewidth": 0,
              "ticks": ""
             }
            },
            "type": "scatterpolar"
           }
          ],
          "scatterpolargl": [
           {
            "marker": {
             "colorbar": {
              "outlinewidth": 0,
              "ticks": ""
             }
            },
            "type": "scatterpolargl"
           }
          ],
          "scatterternary": [
           {
            "marker": {
             "colorbar": {
              "outlinewidth": 0,
              "ticks": ""
             }
            },
            "type": "scatterternary"
           }
          ],
          "surface": [
           {
            "colorbar": {
             "outlinewidth": 0,
             "ticks": ""
            },
            "colorscale": [
             [
              0,
              "#0d0887"
             ],
             [
              0.1111111111111111,
              "#46039f"
             ],
             [
              0.2222222222222222,
              "#7201a8"
             ],
             [
              0.3333333333333333,
              "#9c179e"
             ],
             [
              0.4444444444444444,
              "#bd3786"
             ],
             [
              0.5555555555555556,
              "#d8576b"
             ],
             [
              0.6666666666666666,
              "#ed7953"
             ],
             [
              0.7777777777777778,
              "#fb9f3a"
             ],
             [
              0.8888888888888888,
              "#fdca26"
             ],
             [
              1,
              "#f0f921"
             ]
            ],
            "type": "surface"
           }
          ],
          "table": [
           {
            "cells": {
             "fill": {
              "color": "#EBF0F8"
             },
             "line": {
              "color": "white"
             }
            },
            "header": {
             "fill": {
              "color": "#C8D4E3"
             },
             "line": {
              "color": "white"
             }
            },
            "type": "table"
           }
          ]
         },
         "layout": {
          "annotationdefaults": {
           "arrowcolor": "#2a3f5f",
           "arrowhead": 0,
           "arrowwidth": 1
          },
          "autotypenumbers": "strict",
          "coloraxis": {
           "colorbar": {
            "outlinewidth": 0,
            "ticks": ""
           }
          },
          "colorscale": {
           "diverging": [
            [
             0,
             "#8e0152"
            ],
            [
             0.1,
             "#c51b7d"
            ],
            [
             0.2,
             "#de77ae"
            ],
            [
             0.3,
             "#f1b6da"
            ],
            [
             0.4,
             "#fde0ef"
            ],
            [
             0.5,
             "#f7f7f7"
            ],
            [
             0.6,
             "#e6f5d0"
            ],
            [
             0.7,
             "#b8e186"
            ],
            [
             0.8,
             "#7fbc41"
            ],
            [
             0.9,
             "#4d9221"
            ],
            [
             1,
             "#276419"
            ]
           ],
           "sequential": [
            [
             0,
             "#0d0887"
            ],
            [
             0.1111111111111111,
             "#46039f"
            ],
            [
             0.2222222222222222,
             "#7201a8"
            ],
            [
             0.3333333333333333,
             "#9c179e"
            ],
            [
             0.4444444444444444,
             "#bd3786"
            ],
            [
             0.5555555555555556,
             "#d8576b"
            ],
            [
             0.6666666666666666,
             "#ed7953"
            ],
            [
             0.7777777777777778,
             "#fb9f3a"
            ],
            [
             0.8888888888888888,
             "#fdca26"
            ],
            [
             1,
             "#f0f921"
            ]
           ],
           "sequentialminus": [
            [
             0,
             "#0d0887"
            ],
            [
             0.1111111111111111,
             "#46039f"
            ],
            [
             0.2222222222222222,
             "#7201a8"
            ],
            [
             0.3333333333333333,
             "#9c179e"
            ],
            [
             0.4444444444444444,
             "#bd3786"
            ],
            [
             0.5555555555555556,
             "#d8576b"
            ],
            [
             0.6666666666666666,
             "#ed7953"
            ],
            [
             0.7777777777777778,
             "#fb9f3a"
            ],
            [
             0.8888888888888888,
             "#fdca26"
            ],
            [
             1,
             "#f0f921"
            ]
           ]
          },
          "colorway": [
           "#636efa",
           "#EF553B",
           "#00cc96",
           "#ab63fa",
           "#FFA15A",
           "#19d3f3",
           "#FF6692",
           "#B6E880",
           "#FF97FF",
           "#FECB52"
          ],
          "font": {
           "color": "#2a3f5f"
          },
          "geo": {
           "bgcolor": "white",
           "lakecolor": "white",
           "landcolor": "#E5ECF6",
           "showlakes": true,
           "showland": true,
           "subunitcolor": "white"
          },
          "hoverlabel": {
           "align": "left"
          },
          "hovermode": "closest",
          "mapbox": {
           "style": "light"
          },
          "paper_bgcolor": "white",
          "plot_bgcolor": "#E5ECF6",
          "polar": {
           "angularaxis": {
            "gridcolor": "white",
            "linecolor": "white",
            "ticks": ""
           },
           "bgcolor": "#E5ECF6",
           "radialaxis": {
            "gridcolor": "white",
            "linecolor": "white",
            "ticks": ""
           }
          },
          "scene": {
           "xaxis": {
            "backgroundcolor": "#E5ECF6",
            "gridcolor": "white",
            "gridwidth": 2,
            "linecolor": "white",
            "showbackground": true,
            "ticks": "",
            "zerolinecolor": "white"
           },
           "yaxis": {
            "backgroundcolor": "#E5ECF6",
            "gridcolor": "white",
            "gridwidth": 2,
            "linecolor": "white",
            "showbackground": true,
            "ticks": "",
            "zerolinecolor": "white"
           },
           "zaxis": {
            "backgroundcolor": "#E5ECF6",
            "gridcolor": "white",
            "gridwidth": 2,
            "linecolor": "white",
            "showbackground": true,
            "ticks": "",
            "zerolinecolor": "white"
           }
          },
          "shapedefaults": {
           "line": {
            "color": "#2a3f5f"
           }
          },
          "ternary": {
           "aaxis": {
            "gridcolor": "white",
            "linecolor": "white",
            "ticks": ""
           },
           "baxis": {
            "gridcolor": "white",
            "linecolor": "white",
            "ticks": ""
           },
           "bgcolor": "#E5ECF6",
           "caxis": {
            "gridcolor": "white",
            "linecolor": "white",
            "ticks": ""
           }
          },
          "title": {
           "x": 0.05
          },
          "xaxis": {
           "automargin": true,
           "gridcolor": "white",
           "linecolor": "white",
           "ticks": "",
           "title": {
            "standoff": 15
           },
           "zerolinecolor": "white",
           "zerolinewidth": 2
          },
          "yaxis": {
           "automargin": true,
           "gridcolor": "white",
           "linecolor": "white",
           "ticks": "",
           "title": {
            "standoff": 15
           },
           "zerolinecolor": "white",
           "zerolinewidth": 2
          }
         }
        },
        "title": {
         "text": "Average Unit Price"
        },
        "width": 800,
        "xaxis": {
         "anchor": "y",
         "domain": [
          0,
          1
         ],
         "title": {
          "text": "Avg Unit Price"
         }
        },
        "yaxis": {
         "anchor": "x",
         "categoryarray": [
          "Breaking system",
          "Miscellaneous",
          "Electrical system",
          "Suspension & traction",
          "Frame & body",
          "Engine"
         ],
         "categoryorder": "array",
         "domain": [
          0,
          1
         ],
         "title": {
          "text": "Product Line"
         }
        }
       }
      }
     },
     "metadata": {},
     "output_type": "display_data"
    }
   ],
   "source": [
    "fig = px.bar(average_unite_price,\n",
    "            y='product_line',\n",
    "            x=\"average_price\",\n",
    "            color='product_line',\n",
    "            title=\"Average Unit Price\",\n",
    "            text_auto=True,\n",
    "            orientation='h')\n",
    "fig.update_xaxes(title_text='Avg Unit Price')\n",
    "fig.update_yaxes(title_text='Product Line')\n",
    "fig.update(layout_showlegend=False)\n",
    "fig.update_layout(\n",
    "    autosize=False,\n",
    "    width=800,\n",
    "    height=400,)\n",
    "fig.show()"
   ]
  },
  {
   "cell_type": "markdown",
   "id": "8b0ec416",
   "metadata": {},
   "source": [
    "## Average of units price by client type/warehouse\n",
    "\n",
    "It can be seen that in general there is not much difference between retail and wholesale prices, and in fact in some cases retail prices are slightly lower, this curiosity, for example, occurs in the warehouses located in the west/central area. Also, in the west area the only sales of engines were at retail.\n",
    "The distribution of prices for all product lines and types of customers share similarities. It can be seen that the price per unit, of the engines product line, has less dispersion when it is wholesale.\n"
   ]
  },
  {
   "cell_type": "code",
   "execution_count": 407,
   "id": "1bbadb2e",
   "metadata": {},
   "outputs": [
    {
     "data": {
      "text/html": [
       "<style type=\"text/css\">\n",
       "#T_fa26f_row0_col1, #T_fa26f_row0_col5, #T_fa26f_row1_col1, #T_fa26f_row1_col4, #T_fa26f_row2_col2, #T_fa26f_row2_col4, #T_fa26f_row3_col1, #T_fa26f_row3_col5, #T_fa26f_row4_col4, #T_fa26f_row4_col5, #T_fa26f_row5_col1, #T_fa26f_row5_col5 {\n",
       "  background-color: green;\n",
       "}\n",
       "#T_fa26f_row2_col5 {\n",
       "  background-color: black;\n",
       "}\n",
       "</style>\n",
       "<table id=\"T_fa26f\">\n",
       "  <thead>\n",
       "    <tr>\n",
       "      <th class=\"index_name level0\" >warehouse</th>\n",
       "      <th id=\"T_fa26f_level0_col0\" class=\"col_heading level0 col0\" colspan=\"2\">Central</th>\n",
       "      <th id=\"T_fa26f_level0_col2\" class=\"col_heading level0 col2\" colspan=\"2\">North</th>\n",
       "      <th id=\"T_fa26f_level0_col4\" class=\"col_heading level0 col4\" colspan=\"2\">West</th>\n",
       "    </tr>\n",
       "    <tr>\n",
       "      <th class=\"index_name level1\" >client_type</th>\n",
       "      <th id=\"T_fa26f_level1_col0\" class=\"col_heading level1 col0\" >Retail</th>\n",
       "      <th id=\"T_fa26f_level1_col1\" class=\"col_heading level1 col1\" >Wholesale</th>\n",
       "      <th id=\"T_fa26f_level1_col2\" class=\"col_heading level1 col2\" >Retail</th>\n",
       "      <th id=\"T_fa26f_level1_col3\" class=\"col_heading level1 col3\" >Wholesale</th>\n",
       "      <th id=\"T_fa26f_level1_col4\" class=\"col_heading level1 col4\" >Retail</th>\n",
       "      <th id=\"T_fa26f_level1_col5\" class=\"col_heading level1 col5\" >Wholesale</th>\n",
       "    </tr>\n",
       "    <tr>\n",
       "      <th class=\"index_name level0\" >product_line</th>\n",
       "      <th class=\"blank col0\" >&nbsp;</th>\n",
       "      <th class=\"blank col1\" >&nbsp;</th>\n",
       "      <th class=\"blank col2\" >&nbsp;</th>\n",
       "      <th class=\"blank col3\" >&nbsp;</th>\n",
       "      <th class=\"blank col4\" >&nbsp;</th>\n",
       "      <th class=\"blank col5\" >&nbsp;</th>\n",
       "    </tr>\n",
       "  </thead>\n",
       "  <tbody>\n",
       "    <tr>\n",
       "      <th id=\"T_fa26f_level0_row0\" class=\"row_heading level0 row0\" >Breaking system</th>\n",
       "      <td id=\"T_fa26f_row0_col0\" class=\"data row0 col0\" >17.7</td>\n",
       "      <td id=\"T_fa26f_row0_col1\" class=\"data row0 col1\" >17.0</td>\n",
       "      <td id=\"T_fa26f_row0_col2\" class=\"data row0 col2\" >17.5</td>\n",
       "      <td id=\"T_fa26f_row0_col3\" class=\"data row0 col3\" >17.5</td>\n",
       "      <td id=\"T_fa26f_row0_col4\" class=\"data row0 col4\" >17.7</td>\n",
       "      <td id=\"T_fa26f_row0_col5\" class=\"data row0 col5\" >21.2</td>\n",
       "    </tr>\n",
       "    <tr>\n",
       "      <th id=\"T_fa26f_level0_row1\" class=\"row_heading level0 row1\" >Electrical system</th>\n",
       "      <td id=\"T_fa26f_row1_col0\" class=\"data row1 col0\" >25.5</td>\n",
       "      <td id=\"T_fa26f_row1_col1\" class=\"data row1 col1\" >26.3</td>\n",
       "      <td id=\"T_fa26f_row1_col2\" class=\"data row1 col2\" >25.5</td>\n",
       "      <td id=\"T_fa26f_row1_col3\" class=\"data row1 col3\" >25.5</td>\n",
       "      <td id=\"T_fa26f_row1_col4\" class=\"data row1 col4\" >25.3</td>\n",
       "      <td id=\"T_fa26f_row1_col5\" class=\"data row1 col5\" >25.5</td>\n",
       "    </tr>\n",
       "    <tr>\n",
       "      <th id=\"T_fa26f_level0_row2\" class=\"row_heading level0 row2\" >Engine</th>\n",
       "      <td id=\"T_fa26f_row2_col0\" class=\"data row2 col0\" >59.6</td>\n",
       "      <td id=\"T_fa26f_row2_col1\" class=\"data row2 col1\" >61.0</td>\n",
       "      <td id=\"T_fa26f_row2_col2\" class=\"data row2 col2\" >58.9</td>\n",
       "      <td id=\"T_fa26f_row2_col3\" class=\"data row2 col3\" >60.5</td>\n",
       "      <td id=\"T_fa26f_row2_col4\" class=\"data row2 col4\" >61.9</td>\n",
       "      <td id=\"T_fa26f_row2_col5\" class=\"data row2 col5\" >nan</td>\n",
       "    </tr>\n",
       "    <tr>\n",
       "      <th id=\"T_fa26f_level0_row3\" class=\"row_heading level0 row3\" >Frame & body</th>\n",
       "      <td id=\"T_fa26f_row3_col0\" class=\"data row3 col0\" >42.4</td>\n",
       "      <td id=\"T_fa26f_row3_col1\" class=\"data row3 col1\" >43.9</td>\n",
       "      <td id=\"T_fa26f_row3_col2\" class=\"data row3 col2\" >42.8</td>\n",
       "      <td id=\"T_fa26f_row3_col3\" class=\"data row3 col3\" >42.0</td>\n",
       "      <td id=\"T_fa26f_row3_col4\" class=\"data row3 col4\" >43.8</td>\n",
       "      <td id=\"T_fa26f_row3_col5\" class=\"data row3 col5\" >41.3</td>\n",
       "    </tr>\n",
       "    <tr>\n",
       "      <th id=\"T_fa26f_level0_row4\" class=\"row_heading level0 row4\" >Miscellaneous</th>\n",
       "      <td id=\"T_fa26f_row4_col0\" class=\"data row4 col0\" >22.7</td>\n",
       "      <td id=\"T_fa26f_row4_col1\" class=\"data row4 col1\" >22.8</td>\n",
       "      <td id=\"T_fa26f_row4_col2\" class=\"data row4 col2\" >22.7</td>\n",
       "      <td id=\"T_fa26f_row4_col3\" class=\"data row4 col3\" >23.9</td>\n",
       "      <td id=\"T_fa26f_row4_col4\" class=\"data row4 col4\" >21.8</td>\n",
       "      <td id=\"T_fa26f_row4_col5\" class=\"data row4 col5\" >25.0</td>\n",
       "    </tr>\n",
       "    <tr>\n",
       "      <th id=\"T_fa26f_level0_row5\" class=\"row_heading level0 row5\" >Suspension & traction</th>\n",
       "      <td id=\"T_fa26f_row5_col0\" class=\"data row5 col0\" >33.9</td>\n",
       "      <td id=\"T_fa26f_row5_col1\" class=\"data row5 col1\" >32.6</td>\n",
       "      <td id=\"T_fa26f_row5_col2\" class=\"data row5 col2\" >33.9</td>\n",
       "      <td id=\"T_fa26f_row5_col3\" class=\"data row5 col3\" >34.6</td>\n",
       "      <td id=\"T_fa26f_row5_col4\" class=\"data row5 col4\" >34.7</td>\n",
       "      <td id=\"T_fa26f_row5_col5\" class=\"data row5 col5\" >35.0</td>\n",
       "    </tr>\n",
       "  </tbody>\n",
       "</table>\n"
      ],
      "text/plain": [
       "<pandas.io.formats.style.Styler at 0x15f58faec40>"
      ]
     },
     "execution_count": 407,
     "metadata": {},
     "output_type": "execute_result"
    }
   ],
   "source": [
    "average_unite_price_w = np.round(pd.pivot_table(df,values='unit_price',\n",
    "                                                index='product_line',\n",
    "                                                columns=['warehouse','client_type'],\n",
    "                                                aggfunc=np.mean),1)\n",
    "average_unite_price_w.style\\\n",
    "      .format('{:.1f}')\\\n",
    "      .highlight_max(color = 'green',axis=1)\\\n",
    "      .highlight_min(color = 'green',axis=1)\\\n",
    "      .highlight_null(null_color='black')"
   ]
  },
  {
   "cell_type": "code",
   "execution_count": 386,
   "id": "5b0cd5b4",
   "metadata": {},
   "outputs": [
    {
     "data": {
      "application/vnd.plotly.v1+json": {
       "config": {
        "plotlyServerURL": "https://plot.ly"
       },
       "data": [
        {
         "alignmentgroup": "True",
         "hovertemplate": "client_type=Retail<br>product_line=%{x}<br>unit_price=%{y}<extra></extra>",
         "legendgroup": "Retail",
         "marker": {
          "color": "#636efa"
         },
         "name": "Retail",
         "notched": false,
         "offsetgroup": "Retail",
         "orientation": "v",
         "showlegend": true,
         "type": "box",
         "x": [
          "Miscellaneous",
          "Breaking system",
          "Suspension & traction",
          "Engine",
          "Electrical system",
          "Breaking system",
          "Frame & body",
          "Frame & body",
          "Suspension & traction",
          "Suspension & traction",
          "Breaking system",
          "Electrical system",
          "Breaking system",
          "Frame & body",
          "Miscellaneous",
          "Frame & body",
          "Frame & body",
          "Electrical system",
          "Suspension & traction",
          "Electrical system",
          "Suspension & traction",
          "Electrical system",
          "Frame & body",
          "Electrical system",
          "Electrical system",
          "Suspension & traction",
          "Breaking system",
          "Frame & body",
          "Electrical system",
          "Suspension & traction",
          "Electrical system",
          "Breaking system",
          "Breaking system",
          "Miscellaneous",
          "Breaking system",
          "Electrical system",
          "Suspension & traction",
          "Suspension & traction",
          "Suspension & traction",
          "Engine",
          "Suspension & traction",
          "Miscellaneous",
          "Frame & body",
          "Breaking system",
          "Breaking system",
          "Breaking system",
          "Frame & body",
          "Miscellaneous",
          "Frame & body",
          "Miscellaneous",
          "Breaking system",
          "Breaking system",
          "Suspension & traction",
          "Electrical system",
          "Frame & body",
          "Breaking system",
          "Breaking system",
          "Miscellaneous",
          "Breaking system",
          "Suspension & traction",
          "Electrical system",
          "Suspension & traction",
          "Electrical system",
          "Frame & body",
          "Frame & body",
          "Frame & body",
          "Frame & body",
          "Breaking system",
          "Breaking system",
          "Electrical system",
          "Suspension & traction",
          "Electrical system",
          "Frame & body",
          "Engine",
          "Electrical system",
          "Frame & body",
          "Suspension & traction",
          "Breaking system",
          "Miscellaneous",
          "Breaking system",
          "Breaking system",
          "Suspension & traction",
          "Frame & body",
          "Frame & body",
          "Breaking system",
          "Electrical system",
          "Suspension & traction",
          "Electrical system",
          "Frame & body",
          "Breaking system",
          "Suspension & traction",
          "Breaking system",
          "Suspension & traction",
          "Electrical system",
          "Electrical system",
          "Frame & body",
          "Frame & body",
          "Suspension & traction",
          "Electrical system",
          "Miscellaneous",
          "Miscellaneous",
          "Breaking system",
          "Suspension & traction",
          "Miscellaneous",
          "Breaking system",
          "Electrical system",
          "Frame & body",
          "Miscellaneous",
          "Miscellaneous",
          "Electrical system",
          "Miscellaneous",
          "Breaking system",
          "Suspension & traction",
          "Engine",
          "Suspension & traction",
          "Frame & body",
          "Breaking system",
          "Electrical system",
          "Electrical system",
          "Engine",
          "Suspension & traction",
          "Miscellaneous",
          "Breaking system",
          "Suspension & traction",
          "Suspension & traction",
          "Miscellaneous",
          "Frame & body",
          "Frame & body",
          "Frame & body",
          "Breaking system",
          "Frame & body",
          "Miscellaneous",
          "Suspension & traction",
          "Frame & body",
          "Miscellaneous",
          "Frame & body",
          "Frame & body",
          "Suspension & traction",
          "Electrical system",
          "Suspension & traction",
          "Suspension & traction",
          "Miscellaneous",
          "Breaking system",
          "Breaking system",
          "Suspension & traction",
          "Miscellaneous",
          "Frame & body",
          "Suspension & traction",
          "Suspension & traction",
          "Frame & body",
          "Electrical system",
          "Miscellaneous",
          "Frame & body",
          "Suspension & traction",
          "Miscellaneous",
          "Breaking system",
          "Electrical system",
          "Suspension & traction",
          "Breaking system",
          "Suspension & traction",
          "Suspension & traction",
          "Frame & body",
          "Miscellaneous",
          "Electrical system",
          "Engine",
          "Suspension & traction",
          "Frame & body",
          "Suspension & traction",
          "Suspension & traction",
          "Suspension & traction",
          "Suspension & traction",
          "Engine",
          "Engine",
          "Breaking system",
          "Miscellaneous",
          "Electrical system",
          "Electrical system",
          "Suspension & traction",
          "Engine",
          "Breaking system",
          "Electrical system",
          "Miscellaneous",
          "Frame & body",
          "Breaking system",
          "Engine",
          "Suspension & traction",
          "Breaking system",
          "Electrical system",
          "Breaking system",
          "Breaking system",
          "Frame & body",
          "Suspension & traction",
          "Electrical system",
          "Frame & body",
          "Electrical system",
          "Suspension & traction",
          "Frame & body",
          "Suspension & traction",
          "Breaking system",
          "Electrical system",
          "Electrical system",
          "Breaking system",
          "Miscellaneous",
          "Electrical system",
          "Suspension & traction",
          "Frame & body",
          "Engine",
          "Breaking system",
          "Miscellaneous",
          "Breaking system",
          "Breaking system",
          "Breaking system",
          "Electrical system",
          "Frame & body",
          "Engine",
          "Suspension & traction",
          "Breaking system",
          "Breaking system",
          "Breaking system",
          "Frame & body",
          "Breaking system",
          "Breaking system",
          "Electrical system",
          "Suspension & traction",
          "Breaking system",
          "Electrical system",
          "Breaking system",
          "Breaking system",
          "Frame & body",
          "Electrical system",
          "Engine",
          "Engine",
          "Miscellaneous",
          "Electrical system",
          "Frame & body",
          "Suspension & traction",
          "Breaking system",
          "Miscellaneous",
          "Suspension & traction",
          "Frame & body",
          "Suspension & traction",
          "Suspension & traction",
          "Miscellaneous",
          "Electrical system",
          "Breaking system",
          "Frame & body",
          "Frame & body",
          "Engine",
          "Engine",
          "Electrical system",
          "Suspension & traction",
          "Suspension & traction",
          "Electrical system",
          "Frame & body",
          "Engine",
          "Breaking system",
          "Electrical system",
          "Frame & body",
          "Breaking system",
          "Miscellaneous",
          "Frame & body",
          "Electrical system",
          "Suspension & traction",
          "Frame & body",
          "Electrical system",
          "Suspension & traction",
          "Miscellaneous",
          "Frame & body",
          "Breaking system",
          "Suspension & traction",
          "Frame & body",
          "Breaking system",
          "Suspension & traction",
          "Electrical system",
          "Electrical system",
          "Frame & body",
          "Frame & body",
          "Breaking system",
          "Suspension & traction",
          "Breaking system",
          "Miscellaneous",
          "Miscellaneous",
          "Breaking system",
          "Electrical system",
          "Miscellaneous",
          "Electrical system",
          "Miscellaneous",
          "Breaking system",
          "Engine",
          "Suspension & traction",
          "Breaking system",
          "Breaking system",
          "Miscellaneous",
          "Frame & body",
          "Suspension & traction",
          "Frame & body",
          "Frame & body",
          "Miscellaneous",
          "Frame & body",
          "Miscellaneous",
          "Suspension & traction",
          "Breaking system",
          "Miscellaneous",
          "Suspension & traction",
          "Breaking system",
          "Breaking system",
          "Electrical system",
          "Frame & body",
          "Electrical system",
          "Breaking system",
          "Electrical system",
          "Breaking system",
          "Breaking system",
          "Miscellaneous",
          "Engine",
          "Frame & body",
          "Frame & body",
          "Suspension & traction",
          "Miscellaneous",
          "Engine",
          "Electrical system",
          "Miscellaneous",
          "Miscellaneous",
          "Breaking system",
          "Engine",
          "Electrical system",
          "Suspension & traction",
          "Breaking system",
          "Electrical system",
          "Frame & body",
          "Electrical system",
          "Breaking system",
          "Miscellaneous",
          "Electrical system",
          "Breaking system",
          "Suspension & traction",
          "Engine",
          "Engine",
          "Frame & body",
          "Breaking system",
          "Electrical system",
          "Miscellaneous",
          "Suspension & traction",
          "Suspension & traction",
          "Breaking system",
          "Miscellaneous",
          "Suspension & traction",
          "Electrical system",
          "Breaking system",
          "Frame & body",
          "Suspension & traction",
          "Suspension & traction",
          "Electrical system",
          "Frame & body",
          "Frame & body",
          "Breaking system",
          "Breaking system",
          "Suspension & traction",
          "Frame & body",
          "Breaking system",
          "Engine",
          "Breaking system",
          "Breaking system",
          "Suspension & traction",
          "Miscellaneous",
          "Suspension & traction",
          "Breaking system",
          "Suspension & traction",
          "Electrical system",
          "Breaking system",
          "Miscellaneous",
          "Electrical system",
          "Suspension & traction",
          "Frame & body",
          "Electrical system",
          "Engine",
          "Breaking system",
          "Suspension & traction",
          "Breaking system",
          "Suspension & traction",
          "Frame & body",
          "Electrical system",
          "Breaking system",
          "Electrical system",
          "Frame & body",
          "Electrical system",
          "Miscellaneous",
          "Frame & body",
          "Breaking system",
          "Suspension & traction",
          "Electrical system",
          "Frame & body",
          "Breaking system",
          "Frame & body",
          "Suspension & traction",
          "Electrical system",
          "Engine",
          "Electrical system",
          "Electrical system",
          "Suspension & traction",
          "Miscellaneous",
          "Electrical system",
          "Miscellaneous",
          "Suspension & traction",
          "Suspension & traction",
          "Breaking system",
          "Breaking system",
          "Engine",
          "Breaking system",
          "Suspension & traction",
          "Frame & body",
          "Electrical system",
          "Miscellaneous",
          "Suspension & traction",
          "Breaking system",
          "Frame & body",
          "Breaking system",
          "Breaking system",
          "Breaking system",
          "Electrical system",
          "Suspension & traction",
          "Breaking system",
          "Electrical system",
          "Suspension & traction",
          "Frame & body",
          "Electrical system",
          "Electrical system",
          "Frame & body",
          "Frame & body",
          "Electrical system",
          "Breaking system",
          "Breaking system",
          "Electrical system",
          "Breaking system",
          "Frame & body",
          "Suspension & traction",
          "Suspension & traction",
          "Breaking system",
          "Engine",
          "Engine",
          "Engine",
          "Miscellaneous",
          "Miscellaneous",
          "Suspension & traction",
          "Miscellaneous",
          "Engine",
          "Miscellaneous",
          "Breaking system",
          "Engine",
          "Frame & body",
          "Breaking system",
          "Electrical system",
          "Engine",
          "Frame & body",
          "Breaking system",
          "Suspension & traction",
          "Breaking system",
          "Breaking system",
          "Suspension & traction",
          "Miscellaneous",
          "Breaking system",
          "Suspension & traction",
          "Electrical system",
          "Miscellaneous",
          "Electrical system",
          "Miscellaneous",
          "Miscellaneous",
          "Electrical system",
          "Miscellaneous",
          "Frame & body",
          "Frame & body",
          "Suspension & traction",
          "Electrical system",
          "Breaking system",
          "Electrical system",
          "Miscellaneous",
          "Suspension & traction",
          "Suspension & traction",
          "Electrical system",
          "Breaking system",
          "Miscellaneous",
          "Miscellaneous",
          "Suspension & traction",
          "Electrical system",
          "Frame & body",
          "Frame & body",
          "Breaking system",
          "Suspension & traction",
          "Electrical system",
          "Suspension & traction",
          "Frame & body",
          "Miscellaneous",
          "Electrical system",
          "Frame & body",
          "Engine",
          "Electrical system",
          "Breaking system",
          "Breaking system",
          "Breaking system",
          "Frame & body",
          "Frame & body",
          "Engine",
          "Suspension & traction",
          "Breaking system",
          "Miscellaneous",
          "Electrical system",
          "Breaking system",
          "Breaking system",
          "Miscellaneous",
          "Breaking system",
          "Engine",
          "Breaking system",
          "Suspension & traction",
          "Electrical system",
          "Electrical system",
          "Suspension & traction",
          "Electrical system",
          "Electrical system",
          "Electrical system",
          "Suspension & traction",
          "Miscellaneous",
          "Breaking system",
          "Breaking system",
          "Suspension & traction",
          "Frame & body",
          "Frame & body",
          "Suspension & traction",
          "Frame & body",
          "Suspension & traction",
          "Engine",
          "Frame & body",
          "Miscellaneous",
          "Frame & body",
          "Suspension & traction",
          "Suspension & traction",
          "Breaking system",
          "Electrical system",
          "Electrical system",
          "Electrical system",
          "Breaking system",
          "Suspension & traction",
          "Engine",
          "Suspension & traction",
          "Suspension & traction",
          "Suspension & traction",
          "Suspension & traction",
          "Breaking system",
          "Electrical system",
          "Suspension & traction",
          "Miscellaneous",
          "Miscellaneous",
          "Engine",
          "Frame & body",
          "Suspension & traction",
          "Electrical system",
          "Suspension & traction",
          "Suspension & traction",
          "Suspension & traction",
          "Electrical system",
          "Suspension & traction",
          "Frame & body",
          "Breaking system",
          "Breaking system",
          "Breaking system",
          "Electrical system",
          "Suspension & traction",
          "Frame & body",
          "Frame & body",
          "Miscellaneous",
          "Suspension & traction",
          "Suspension & traction",
          "Frame & body",
          "Suspension & traction",
          "Electrical system",
          "Suspension & traction",
          "Suspension & traction",
          "Suspension & traction",
          "Suspension & traction",
          "Breaking system",
          "Electrical system",
          "Suspension & traction",
          "Breaking system",
          "Electrical system",
          "Electrical system",
          "Suspension & traction",
          "Breaking system",
          "Miscellaneous",
          "Electrical system",
          "Miscellaneous",
          "Breaking system",
          "Electrical system",
          "Breaking system",
          "Frame & body",
          "Electrical system",
          "Engine",
          "Suspension & traction",
          "Breaking system",
          "Breaking system",
          "Suspension & traction",
          "Frame & body",
          "Frame & body",
          "Electrical system",
          "Breaking system",
          "Suspension & traction",
          "Breaking system",
          "Miscellaneous",
          "Frame & body",
          "Breaking system",
          "Electrical system",
          "Frame & body",
          "Breaking system",
          "Suspension & traction",
          "Miscellaneous",
          "Suspension & traction",
          "Frame & body",
          "Suspension & traction",
          "Electrical system",
          "Suspension & traction",
          "Electrical system",
          "Breaking system",
          "Electrical system",
          "Suspension & traction",
          "Electrical system",
          "Miscellaneous",
          "Electrical system",
          "Suspension & traction",
          "Electrical system",
          "Frame & body",
          "Frame & body",
          "Breaking system",
          "Miscellaneous",
          "Suspension & traction",
          "Electrical system",
          "Breaking system",
          "Breaking system",
          "Engine",
          "Breaking system",
          "Frame & body",
          "Suspension & traction",
          "Electrical system",
          "Suspension & traction",
          "Suspension & traction",
          "Electrical system",
          "Breaking system",
          "Miscellaneous",
          "Breaking system",
          "Suspension & traction",
          "Electrical system",
          "Electrical system",
          "Engine",
          "Breaking system",
          "Electrical system",
          "Electrical system",
          "Electrical system",
          "Engine",
          "Suspension & traction",
          "Breaking system",
          "Suspension & traction",
          "Engine",
          "Suspension & traction",
          "Frame & body",
          "Miscellaneous",
          "Breaking system",
          "Frame & body",
          "Miscellaneous",
          "Frame & body",
          "Suspension & traction",
          "Suspension & traction",
          "Miscellaneous",
          "Frame & body",
          "Suspension & traction",
          "Suspension & traction",
          "Suspension & traction",
          "Suspension & traction",
          "Frame & body",
          "Suspension & traction",
          "Electrical system",
          "Breaking system",
          "Breaking system",
          "Breaking system",
          "Electrical system",
          "Breaking system",
          "Frame & body",
          "Suspension & traction",
          "Electrical system",
          "Electrical system",
          "Electrical system",
          "Suspension & traction",
          "Electrical system",
          "Suspension & traction",
          "Suspension & traction",
          "Frame & body",
          "Breaking system",
          "Frame & body",
          "Frame & body",
          "Breaking system",
          "Suspension & traction",
          "Miscellaneous",
          "Miscellaneous",
          "Breaking system",
          "Suspension & traction",
          "Frame & body",
          "Breaking system",
          "Suspension & traction",
          "Suspension & traction",
          "Electrical system",
          "Breaking system",
          "Frame & body",
          "Breaking system",
          "Suspension & traction",
          "Suspension & traction",
          "Electrical system",
          "Frame & body",
          "Suspension & traction",
          "Frame & body",
          "Breaking system",
          "Suspension & traction",
          "Breaking system",
          "Suspension & traction",
          "Electrical system",
          "Breaking system",
          "Breaking system",
          "Miscellaneous",
          "Engine",
          "Suspension & traction",
          "Suspension & traction",
          "Breaking system",
          "Electrical system",
          "Frame & body",
          "Breaking system",
          "Suspension & traction",
          "Suspension & traction",
          "Electrical system",
          "Suspension & traction",
          "Electrical system",
          "Frame & body",
          "Electrical system",
          "Breaking system",
          "Electrical system",
          "Electrical system",
          "Breaking system",
          "Miscellaneous",
          "Suspension & traction",
          "Electrical system",
          "Miscellaneous",
          "Breaking system",
          "Electrical system",
          "Breaking system",
          "Electrical system",
          "Breaking system",
          "Frame & body",
          "Miscellaneous",
          "Breaking system",
          "Breaking system",
          "Engine",
          "Miscellaneous",
          "Breaking system",
          "Suspension & traction",
          "Breaking system",
          "Miscellaneous",
          "Electrical system",
          "Electrical system",
          "Miscellaneous",
          "Breaking system",
          "Electrical system",
          "Electrical system",
          "Electrical system",
          "Electrical system",
          "Engine",
          "Engine",
          "Frame & body",
          "Electrical system",
          "Suspension & traction",
          "Electrical system",
          "Frame & body"
         ],
         "x0": " ",
         "xaxis": "x",
         "y": [
          16.85,
          19.29,
          32.93,
          60.48,
          27.2,
          22.44,
          45.44,
          38.2,
          37.45,
          28.67,
          15.1,
          22.37,
          24.97,
          40.41,
          20.28,
          40.77,
          38.61,
          20.5,
          36.18,
          28.33,
          35.52,
          29.31,
          48.9,
          20.19,
          27,
          30.92,
          19.78,
          41.07,
          20.16,
          37.03,
          27.78,
          21.01,
          12.9,
          25.2,
          20.66,
          32.31,
          32.15,
          30.9,
          35.44,
          63.15,
          35.36,
          28.25,
          35.89,
          15.16,
          21.95,
          15.43,
          44.1,
          17.87,
          43.49,
          28.19,
          16.33,
          24.6,
          28.59,
          29.62,
          39.52,
          10.46,
          19.21,
          24.76,
          13.62,
          32.56,
          25.04,
          33.18,
          29.93,
          35.46,
          41.42,
          49.24,
          35.31,
          16.55,
          14.76,
          32.73,
          27.63,
          18.96,
          47.3,
          56.04,
          29.13,
          47.19,
          38.06,
          21.64,
          17.49,
          23.28,
          10.63,
          41.09,
          47.06,
          47.86,
          13.24,
          26.2,
          33.51,
          21.18,
          37.17,
          11.67,
          39.78,
          22.21,
          41.25,
          31.93,
          23.27,
          40.93,
          45.43,
          38.5,
          23.61,
          16.84,
          25.4,
          20.72,
          28.91,
          27.47,
          17.67,
          26.9,
          39.14,
          29.95,
          25.51,
          19.62,
          18.63,
          11.35,
          32.47,
          58.86,
          41.23,
          36.52,
          20.59,
          29.28,
          26.81,
          61.08,
          26.9,
          16.24,
          22.3,
          34.31,
          40.93,
          28.88,
          48.86,
          48.46,
          35.92,
          14.87,
          36.19,
          22.1,
          40.76,
          40.1,
          26.87,
          37.62,
          43.15,
          28.59,
          23.24,
          29.38,
          28.23,
          16.63,
          18.46,
          24.85,
          32.61,
          18.98,
          44.03,
          33.82,
          34.68,
          43.84,
          18.68,
          21.88,
          46.82,
          34.35,
          20.53,
          18.26,
          27.35,
          31.25,
          10.94,
          37.06,
          33.91,
          48.86,
          22.45,
          25.53,
          66.53,
          37.99,
          49.69,
          37.2,
          30.11,
          37.44,
          31.56,
          59.3,
          53.4,
          13.14,
          21.27,
          33.33,
          18.5,
          36.01,
          65.99,
          13.44,
          30.68,
          29.76,
          48.3,
          11.54,
          59.69,
          38.96,
          11.32,
          30.51,
          15.91,
          22.78,
          37.18,
          39.29,
          23.38,
          46.46,
          29.31,
          37.21,
          46.1,
          35.15,
          23.87,
          18.43,
          29.58,
          18.49,
          21.42,
          25.19,
          35,
          36.98,
          66.02,
          10.9,
          28.06,
          20.68,
          14.94,
          22.48,
          31.75,
          45.03,
          55.72,
          29.37,
          19.16,
          11.89,
          10.35,
          41.92,
          13.89,
          24.45,
          25.28,
          29.26,
          14.48,
          31.18,
          21.9,
          14.66,
          40.81,
          22.3,
          59.7,
          66.03,
          28.37,
          28.88,
          38.71,
          33.17,
          17.38,
          26.95,
          29.04,
          35.73,
          27,
          36.57,
          15.26,
          19.79,
          12.3,
          46.34,
          46.83,
          62.56,
          53.19,
          33.19,
          36.64,
          29.03,
          19.57,
          37,
          56.72,
          15.35,
          26.46,
          37.78,
          22.21,
          27.34,
          36.52,
          23.1,
          32.07,
          37.06,
          20.61,
          28.83,
          29.5,
          46.07,
          18.7,
          32.56,
          37.29,
          19.85,
          36.06,
          28.69,
          23.83,
          45.97,
          46.66,
          16.89,
          28.84,
          22.91,
          15.7,
          24.33,
          12.59,
          22.58,
          19.74,
          21.04,
          15.16,
          24.24,
          53.06,
          40.65,
          17.3,
          19.58,
          17.88,
          40.49,
          37.13,
          42.51,
          41.56,
          21.19,
          45.66,
          20.09,
          40.81,
          21.17,
          24.63,
          37.95,
          16.44,
          12.22,
          29.1,
          40.51,
          18.97,
          20.34,
          28.1,
          19.89,
          13.44,
          27.98,
          66.37,
          45.87,
          36.08,
          29.32,
          21.21,
          59.71,
          21.42,
          22.07,
          16.67,
          24.5,
          55.95,
          20.49,
          30.97,
          24.9,
          31.62,
          40.93,
          24.34,
          15.58,
          16.08,
          26.32,
          18.95,
          40.52,
          59.82,
          64.93,
          35.03,
          22.69,
          23.48,
          22.39,
          27.78,
          28.67,
          18.4,
          20.53,
          29.83,
          29.9,
          11.62,
          44.16,
          27.73,
          30.29,
          22.86,
          48.38,
          47.72,
          13.92,
          24.83,
          32.74,
          44.85,
          13.64,
          64.1,
          17.88,
          11.93,
          27.08,
          16.85,
          27.66,
          19.04,
          32.66,
          19.82,
          17.28,
          20.76,
          22.24,
          37.34,
          39.14,
          29.69,
          64.02,
          18.69,
          38.35,
          23.2,
          37.84,
          49.13,
          24.49,
          24.14,
          20.9,
          45.27,
          23.25,
          27.85,
          36.7,
          12.08,
          30.38,
          29.47,
          35.62,
          13.26,
          40.78,
          41.59,
          29.29,
          59.72,
          31.88,
          22.27,
          41.47,
          26.23,
          22.13,
          24.52,
          36.66,
          39.71,
          16.99,
          17.03,
          59.6,
          20.47,
          27.96,
          37.46,
          19.21,
          17.47,
          27.01,
          18.36,
          41.98,
          23.56,
          24.63,
          14.42,
          24.62,
          39.8,
          15.9,
          22.43,
          26.97,
          49.68,
          32.02,
          31.24,
          44.66,
          41.11,
          22.62,
          13.82,
          23.37,
          19.13,
          24.75,
          44.01,
          36.98,
          37.94,
          15.21,
          53.63,
          58.46,
          61.11,
          23.38,
          28.72,
          31.28,
          22.96,
          55.39,
          19.98,
          10.42,
          63.94,
          49.8,
          20.64,
          32.44,
          56.65,
          49.25,
          14.96,
          36.49,
          17.39,
          16.24,
          27.9,
          18.4,
          11.25,
          35.97,
          19.16,
          26.73,
          19.66,
          19.32,
          29.8,
          29.26,
          25.58,
          43.06,
          42.99,
          31.71,
          18.36,
          22.3,
          20.79,
          17.74,
          37.26,
          34.29,
          31.01,
          24.02,
          29.93,
          23.81,
          31.62,
          28.14,
          48.57,
          43.95,
          20.51,
          38.67,
          27.53,
          33.8,
          48.08,
          21.44,
          27.1,
          42.41,
          66.62,
          24.44,
          24.98,
          12.16,
          17.58,
          49.26,
          44.54,
          52.25,
          41.62,
          21.32,
          29.08,
          29.5,
          11.63,
          17.07,
          25.74,
          11.48,
          64.31,
          15.18,
          39.33,
          26,
          26.72,
          30.79,
          19.14,
          24.25,
          28.25,
          29.58,
          22.29,
          12.05,
          21.42,
          27.2,
          39.91,
          45.66,
          41.23,
          35.73,
          39.73,
          62.23,
          42.42,
          24.42,
          37.55,
          41.62,
          31.38,
          12.84,
          30.93,
          25.32,
          21.49,
          16.07,
          28.48,
          54.17,
          30.02,
          32.34,
          32.72,
          40.75,
          12.03,
          24.42,
          30.55,
          29.78,
          25.78,
          61.45,
          35.39,
          28.21,
          19.1,
          34.42,
          30.04,
          38.05,
          20.89,
          40.91,
          47.18,
          15.7,
          21.98,
          11.99,
          31.33,
          38.78,
          44.96,
          44.57,
          23.68,
          29.73,
          31.17,
          48.69,
          36.98,
          29.96,
          27.69,
          39.01,
          33.38,
          28.7,
          24.97,
          19.26,
          41.32,
          11.08,
          30.22,
          32.86,
          30.67,
          15.55,
          16.27,
          24.38,
          16.17,
          14.59,
          19.21,
          18.63,
          49.99,
          32.33,
          58.62,
          37.65,
          24.55,
          24.26,
          29.25,
          43.48,
          42.04,
          25.32,
          11.05,
          40.62,
          17.89,
          16.37,
          37.64,
          15.96,
          26.34,
          43.77,
          22.95,
          29.24,
          21.13,
          35.57,
          39.09,
          29.72,
          22.42,
          31.72,
          26.63,
          24.11,
          21.61,
          31.79,
          24.61,
          22.51,
          23.58,
          32.7,
          21.77,
          49.62,
          45.48,
          17.38,
          20.96,
          35.65,
          19.31,
          10.36,
          14.12,
          53.02,
          17.75,
          40.48,
          30.91,
          33.26,
          36.68,
          29.64,
          25.22,
          18.27,
          22.2,
          12.05,
          28.6,
          19.28,
          31.32,
          63.76,
          21.26,
          26.25,
          32.13,
          20.82,
          66.1,
          35.88,
          12.86,
          27.26,
          51.79,
          30.53,
          39.06,
          27.97,
          24.54,
          45.42,
          23.94,
          45.83,
          40.94,
          28.96,
          17.1,
          42.42,
          37.91,
          26.88,
          29.76,
          32.35,
          38.88,
          41.62,
          25.2,
          21.07,
          12.57,
          10.92,
          24.37,
          22.1,
          49.87,
          28.88,
          29.18,
          27.69,
          21.72,
          37.59,
          21.1,
          30.45,
          38.86,
          45.99,
          24.88,
          39.79,
          37.54,
          11.81,
          40.39,
          26.65,
          20.54,
          13.94,
          40.66,
          40.67,
          17.88,
          40,
          29.41,
          21.41,
          11.31,
          43.69,
          17.76,
          33.76,
          28.05,
          32.52,
          39.5,
          33.49,
          47.65,
          17.12,
          38.53,
          23.59,
          29.22,
          28.91,
          19.57,
          14.52,
          25.65,
          59.15,
          34.27,
          35.99,
          18.12,
          27.49,
          37.46,
          14,
          41.65,
          36.72,
          30.48,
          37.48,
          30.9,
          48.88,
          19.89,
          21.09,
          19.3,
          25.48,
          17.57,
          19.9,
          39.04,
          23.95,
          16.05,
          16.45,
          27.38,
          17.06,
          24.28,
          17.06,
          48.9,
          18.72,
          21.59,
          24.97,
          55.41,
          23.04,
          20.24,
          29.34,
          13.4,
          25.28,
          24.61,
          18.35,
          19.77,
          16.63,
          28.63,
          30.39,
          28.56,
          21.47,
          59.14,
          64.64,
          40.04,
          28.37,
          30.74,
          32.87,
          48.25
         ],
         "y0": " ",
         "yaxis": "y"
        },
        {
         "alignmentgroup": "True",
         "hovertemplate": "client_type=Wholesale<br>product_line=%{x}<br>unit_price=%{y}<extra></extra>",
         "legendgroup": "Wholesale",
         "marker": {
          "color": "#EF553B"
         },
         "name": "Wholesale",
         "notched": false,
         "offsetgroup": "Wholesale",
         "orientation": "v",
         "showlegend": true,
         "type": "box",
         "x": [
          "Frame & body",
          "Suspension & traction",
          "Frame & body",
          "Electrical system",
          "Suspension & traction",
          "Breaking system",
          "Suspension & traction",
          "Engine",
          "Frame & body",
          "Suspension & traction",
          "Frame & body",
          "Breaking system",
          "Miscellaneous",
          "Suspension & traction",
          "Miscellaneous",
          "Breaking system",
          "Breaking system",
          "Breaking system",
          "Suspension & traction",
          "Miscellaneous",
          "Frame & body",
          "Breaking system",
          "Miscellaneous",
          "Frame & body",
          "Breaking system",
          "Breaking system",
          "Electrical system",
          "Engine",
          "Frame & body",
          "Suspension & traction",
          "Suspension & traction",
          "Breaking system",
          "Frame & body",
          "Electrical system",
          "Miscellaneous",
          "Miscellaneous",
          "Suspension & traction",
          "Frame & body",
          "Frame & body",
          "Breaking system",
          "Breaking system",
          "Frame & body",
          "Suspension & traction",
          "Suspension & traction",
          "Frame & body",
          "Breaking system",
          "Suspension & traction",
          "Electrical system",
          "Breaking system",
          "Miscellaneous",
          "Engine",
          "Suspension & traction",
          "Breaking system",
          "Electrical system",
          "Frame & body",
          "Suspension & traction",
          "Miscellaneous",
          "Electrical system",
          "Miscellaneous",
          "Breaking system",
          "Electrical system",
          "Electrical system",
          "Suspension & traction",
          "Engine",
          "Breaking system",
          "Frame & body",
          "Suspension & traction",
          "Suspension & traction",
          "Miscellaneous",
          "Suspension & traction",
          "Suspension & traction",
          "Breaking system",
          "Suspension & traction",
          "Electrical system",
          "Suspension & traction",
          "Frame & body",
          "Engine",
          "Breaking system",
          "Breaking system",
          "Frame & body",
          "Breaking system",
          "Suspension & traction",
          "Miscellaneous",
          "Frame & body",
          "Electrical system",
          "Suspension & traction",
          "Suspension & traction",
          "Suspension & traction",
          "Breaking system",
          "Suspension & traction",
          "Breaking system",
          "Electrical system",
          "Suspension & traction",
          "Electrical system",
          "Breaking system",
          "Miscellaneous",
          "Suspension & traction",
          "Electrical system",
          "Frame & body",
          "Breaking system",
          "Electrical system",
          "Breaking system",
          "Suspension & traction",
          "Suspension & traction",
          "Miscellaneous",
          "Breaking system",
          "Suspension & traction",
          "Breaking system",
          "Miscellaneous",
          "Miscellaneous",
          "Frame & body",
          "Miscellaneous",
          "Breaking system",
          "Breaking system",
          "Frame & body",
          "Electrical system",
          "Electrical system",
          "Miscellaneous",
          "Breaking system",
          "Suspension & traction",
          "Breaking system",
          "Electrical system",
          "Electrical system",
          "Electrical system",
          "Miscellaneous",
          "Electrical system",
          "Suspension & traction",
          "Frame & body",
          "Breaking system",
          "Frame & body",
          "Suspension & traction",
          "Suspension & traction",
          "Engine",
          "Suspension & traction",
          "Miscellaneous",
          "Breaking system",
          "Suspension & traction",
          "Electrical system",
          "Miscellaneous",
          "Breaking system",
          "Breaking system",
          "Miscellaneous",
          "Suspension & traction",
          "Frame & body",
          "Electrical system",
          "Breaking system",
          "Electrical system",
          "Electrical system",
          "Breaking system",
          "Breaking system",
          "Engine",
          "Electrical system",
          "Miscellaneous",
          "Suspension & traction",
          "Miscellaneous",
          "Miscellaneous",
          "Engine",
          "Engine",
          "Electrical system",
          "Frame & body",
          "Breaking system",
          "Electrical system",
          "Frame & body",
          "Suspension & traction",
          "Suspension & traction",
          "Breaking system",
          "Breaking system",
          "Suspension & traction",
          "Miscellaneous",
          "Frame & body",
          "Engine",
          "Miscellaneous",
          "Suspension & traction",
          "Electrical system",
          "Frame & body",
          "Frame & body",
          "Engine",
          "Breaking system",
          "Electrical system",
          "Engine",
          "Breaking system",
          "Breaking system",
          "Frame & body",
          "Breaking system",
          "Frame & body",
          "Frame & body",
          "Breaking system",
          "Frame & body",
          "Electrical system",
          "Breaking system",
          "Frame & body",
          "Breaking system",
          "Breaking system",
          "Miscellaneous",
          "Suspension & traction",
          "Suspension & traction",
          "Electrical system",
          "Breaking system",
          "Breaking system",
          "Suspension & traction",
          "Frame & body",
          "Frame & body",
          "Frame & body",
          "Frame & body",
          "Suspension & traction",
          "Electrical system",
          "Frame & body",
          "Electrical system",
          "Suspension & traction",
          "Electrical system",
          "Breaking system",
          "Suspension & traction",
          "Electrical system",
          "Suspension & traction",
          "Miscellaneous",
          "Breaking system",
          "Breaking system",
          "Engine",
          "Suspension & traction",
          "Miscellaneous",
          "Miscellaneous",
          "Electrical system",
          "Breaking system",
          "Electrical system",
          "Electrical system"
         ],
         "x0": " ",
         "xaxis": "x",
         "y": [
          37.84,
          37.37,
          39.5,
          29.12,
          36.79,
          13.65,
          34.82,
          63.41,
          44.69,
          28.64,
          44.14,
          20.77,
          18.87,
          34.26,
          17.39,
          20.48,
          16.98,
          16.51,
          28.65,
          21.75,
          37,
          14.46,
          21.42,
          42.85,
          18.31,
          24.45,
          26.74,
          63.54,
          48.95,
          39.87,
          35.59,
          16.89,
          45.32,
          27.14,
          22.98,
          24.28,
          39.45,
          48.18,
          48.44,
          23.02,
          11.25,
          44.54,
          26.99,
          39.77,
          47.16,
          18.98,
          39.88,
          25.92,
          14.39,
          24.83,
          63.58,
          32.9,
          14.74,
          24.77,
          40.01,
          33.88,
          26.48,
          28.23,
          26.68,
          17.34,
          24.43,
          31.13,
          28.57,
          62.02,
          13.77,
          37.99,
          39.56,
          40.63,
          29.75,
          26.76,
          31.18,
          24.78,
          28.46,
          31.31,
          38.47,
          44.92,
          62.95,
          15.52,
          22.22,
          41.92,
          16.09,
          34.35,
          28.57,
          45.66,
          20.87,
          36.99,
          27.33,
          28.48,
          15.47,
          33.41,
          10.75,
          20.98,
          31.24,
          27.66,
          24.53,
          19.17,
          35.98,
          30.23,
          37.04,
          20.56,
          24.68,
          13.36,
          31.15,
          39.45,
          26.2,
          17.06,
          35.06,
          23.83,
          15.81,
          29.9,
          43.35,
          17.94,
          21.75,
          24.88,
          48.05,
          29.48,
          28.09,
          25.23,
          21.83,
          30.74,
          23.06,
          27.08,
          26.82,
          24.01,
          29.78,
          28.26,
          39.38,
          38.66,
          17.47,
          37.42,
          27.12,
          32.95,
          57.1,
          40.12,
          17.77,
          11.91,
          40.43,
          26.12,
          26.77,
          23.87,
          21.88,
          25.82,
          29.5,
          48.1,
          21.04,
          23.75,
          21.7,
          30.33,
          20.51,
          16.49,
          58.1,
          33.3,
          26.38,
          27.02,
          21.42,
          16.35,
          59.33,
          60.88,
          23.51,
          39.55,
          16.65,
          20.25,
          35.97,
          29.72,
          40.11,
          24.83,
          17.74,
          33.7,
          29.96,
          41.48,
          63.66,
          15.02,
          30.96,
          28.16,
          38.27,
          49.73,
          60.73,
          24.04,
          18.43,
          56.5,
          14.72,
          12.25,
          49.58,
          17.45,
          39.2,
          48.42,
          11.61,
          49.47,
          19.23,
          14.2,
          46.15,
          23.66,
          16.91,
          27.22,
          39.76,
          31.47,
          29.08,
          23.6,
          20.16,
          30.64,
          41.58,
          48.07,
          35.92,
          35.78,
          38.06,
          22.73,
          39.85,
          21.29,
          27.05,
          18.45,
          15.21,
          37.03,
          25.95,
          32.39,
          21.56,
          13.19,
          16.89,
          60.22,
          37.07,
          25.42,
          28.9,
          28.76,
          10.03,
          32.8,
          27.41
         ],
         "y0": " ",
         "yaxis": "y"
        }
       ],
       "layout": {
        "autosize": false,
        "boxmode": "group",
        "height": 400,
        "legend": {
         "title": {
          "text": "client_type"
         },
         "tracegroupgap": 0
        },
        "margin": {
         "t": 60
        },
        "template": {
         "data": {
          "bar": [
           {
            "error_x": {
             "color": "#2a3f5f"
            },
            "error_y": {
             "color": "#2a3f5f"
            },
            "marker": {
             "line": {
              "color": "#E5ECF6",
              "width": 0.5
             },
             "pattern": {
              "fillmode": "overlay",
              "size": 10,
              "solidity": 0.2
             }
            },
            "type": "bar"
           }
          ],
          "barpolar": [
           {
            "marker": {
             "line": {
              "color": "#E5ECF6",
              "width": 0.5
             },
             "pattern": {
              "fillmode": "overlay",
              "size": 10,
              "solidity": 0.2
             }
            },
            "type": "barpolar"
           }
          ],
          "carpet": [
           {
            "aaxis": {
             "endlinecolor": "#2a3f5f",
             "gridcolor": "white",
             "linecolor": "white",
             "minorgridcolor": "white",
             "startlinecolor": "#2a3f5f"
            },
            "baxis": {
             "endlinecolor": "#2a3f5f",
             "gridcolor": "white",
             "linecolor": "white",
             "minorgridcolor": "white",
             "startlinecolor": "#2a3f5f"
            },
            "type": "carpet"
           }
          ],
          "choropleth": [
           {
            "colorbar": {
             "outlinewidth": 0,
             "ticks": ""
            },
            "type": "choropleth"
           }
          ],
          "contour": [
           {
            "colorbar": {
             "outlinewidth": 0,
             "ticks": ""
            },
            "colorscale": [
             [
              0,
              "#0d0887"
             ],
             [
              0.1111111111111111,
              "#46039f"
             ],
             [
              0.2222222222222222,
              "#7201a8"
             ],
             [
              0.3333333333333333,
              "#9c179e"
             ],
             [
              0.4444444444444444,
              "#bd3786"
             ],
             [
              0.5555555555555556,
              "#d8576b"
             ],
             [
              0.6666666666666666,
              "#ed7953"
             ],
             [
              0.7777777777777778,
              "#fb9f3a"
             ],
             [
              0.8888888888888888,
              "#fdca26"
             ],
             [
              1,
              "#f0f921"
             ]
            ],
            "type": "contour"
           }
          ],
          "contourcarpet": [
           {
            "colorbar": {
             "outlinewidth": 0,
             "ticks": ""
            },
            "type": "contourcarpet"
           }
          ],
          "heatmap": [
           {
            "colorbar": {
             "outlinewidth": 0,
             "ticks": ""
            },
            "colorscale": [
             [
              0,
              "#0d0887"
             ],
             [
              0.1111111111111111,
              "#46039f"
             ],
             [
              0.2222222222222222,
              "#7201a8"
             ],
             [
              0.3333333333333333,
              "#9c179e"
             ],
             [
              0.4444444444444444,
              "#bd3786"
             ],
             [
              0.5555555555555556,
              "#d8576b"
             ],
             [
              0.6666666666666666,
              "#ed7953"
             ],
             [
              0.7777777777777778,
              "#fb9f3a"
             ],
             [
              0.8888888888888888,
              "#fdca26"
             ],
             [
              1,
              "#f0f921"
             ]
            ],
            "type": "heatmap"
           }
          ],
          "heatmapgl": [
           {
            "colorbar": {
             "outlinewidth": 0,
             "ticks": ""
            },
            "colorscale": [
             [
              0,
              "#0d0887"
             ],
             [
              0.1111111111111111,
              "#46039f"
             ],
             [
              0.2222222222222222,
              "#7201a8"
             ],
             [
              0.3333333333333333,
              "#9c179e"
             ],
             [
              0.4444444444444444,
              "#bd3786"
             ],
             [
              0.5555555555555556,
              "#d8576b"
             ],
             [
              0.6666666666666666,
              "#ed7953"
             ],
             [
              0.7777777777777778,
              "#fb9f3a"
             ],
             [
              0.8888888888888888,
              "#fdca26"
             ],
             [
              1,
              "#f0f921"
             ]
            ],
            "type": "heatmapgl"
           }
          ],
          "histogram": [
           {
            "marker": {
             "pattern": {
              "fillmode": "overlay",
              "size": 10,
              "solidity": 0.2
             }
            },
            "type": "histogram"
           }
          ],
          "histogram2d": [
           {
            "colorbar": {
             "outlinewidth": 0,
             "ticks": ""
            },
            "colorscale": [
             [
              0,
              "#0d0887"
             ],
             [
              0.1111111111111111,
              "#46039f"
             ],
             [
              0.2222222222222222,
              "#7201a8"
             ],
             [
              0.3333333333333333,
              "#9c179e"
             ],
             [
              0.4444444444444444,
              "#bd3786"
             ],
             [
              0.5555555555555556,
              "#d8576b"
             ],
             [
              0.6666666666666666,
              "#ed7953"
             ],
             [
              0.7777777777777778,
              "#fb9f3a"
             ],
             [
              0.8888888888888888,
              "#fdca26"
             ],
             [
              1,
              "#f0f921"
             ]
            ],
            "type": "histogram2d"
           }
          ],
          "histogram2dcontour": [
           {
            "colorbar": {
             "outlinewidth": 0,
             "ticks": ""
            },
            "colorscale": [
             [
              0,
              "#0d0887"
             ],
             [
              0.1111111111111111,
              "#46039f"
             ],
             [
              0.2222222222222222,
              "#7201a8"
             ],
             [
              0.3333333333333333,
              "#9c179e"
             ],
             [
              0.4444444444444444,
              "#bd3786"
             ],
             [
              0.5555555555555556,
              "#d8576b"
             ],
             [
              0.6666666666666666,
              "#ed7953"
             ],
             [
              0.7777777777777778,
              "#fb9f3a"
             ],
             [
              0.8888888888888888,
              "#fdca26"
             ],
             [
              1,
              "#f0f921"
             ]
            ],
            "type": "histogram2dcontour"
           }
          ],
          "mesh3d": [
           {
            "colorbar": {
             "outlinewidth": 0,
             "ticks": ""
            },
            "type": "mesh3d"
           }
          ],
          "parcoords": [
           {
            "line": {
             "colorbar": {
              "outlinewidth": 0,
              "ticks": ""
             }
            },
            "type": "parcoords"
           }
          ],
          "pie": [
           {
            "automargin": true,
            "type": "pie"
           }
          ],
          "scatter": [
           {
            "marker": {
             "colorbar": {
              "outlinewidth": 0,
              "ticks": ""
             }
            },
            "type": "scatter"
           }
          ],
          "scatter3d": [
           {
            "line": {
             "colorbar": {
              "outlinewidth": 0,
              "ticks": ""
             }
            },
            "marker": {
             "colorbar": {
              "outlinewidth": 0,
              "ticks": ""
             }
            },
            "type": "scatter3d"
           }
          ],
          "scattercarpet": [
           {
            "marker": {
             "colorbar": {
              "outlinewidth": 0,
              "ticks": ""
             }
            },
            "type": "scattercarpet"
           }
          ],
          "scattergeo": [
           {
            "marker": {
             "colorbar": {
              "outlinewidth": 0,
              "ticks": ""
             }
            },
            "type": "scattergeo"
           }
          ],
          "scattergl": [
           {
            "marker": {
             "colorbar": {
              "outlinewidth": 0,
              "ticks": ""
             }
            },
            "type": "scattergl"
           }
          ],
          "scattermapbox": [
           {
            "marker": {
             "colorbar": {
              "outlinewidth": 0,
              "ticks": ""
             }
            },
            "type": "scattermapbox"
           }
          ],
          "scatterpolar": [
           {
            "marker": {
             "colorbar": {
              "outlinewidth": 0,
              "ticks": ""
             }
            },
            "type": "scatterpolar"
           }
          ],
          "scatterpolargl": [
           {
            "marker": {
             "colorbar": {
              "outlinewidth": 0,
              "ticks": ""
             }
            },
            "type": "scatterpolargl"
           }
          ],
          "scatterternary": [
           {
            "marker": {
             "colorbar": {
              "outlinewidth": 0,
              "ticks": ""
             }
            },
            "type": "scatterternary"
           }
          ],
          "surface": [
           {
            "colorbar": {
             "outlinewidth": 0,
             "ticks": ""
            },
            "colorscale": [
             [
              0,
              "#0d0887"
             ],
             [
              0.1111111111111111,
              "#46039f"
             ],
             [
              0.2222222222222222,
              "#7201a8"
             ],
             [
              0.3333333333333333,
              "#9c179e"
             ],
             [
              0.4444444444444444,
              "#bd3786"
             ],
             [
              0.5555555555555556,
              "#d8576b"
             ],
             [
              0.6666666666666666,
              "#ed7953"
             ],
             [
              0.7777777777777778,
              "#fb9f3a"
             ],
             [
              0.8888888888888888,
              "#fdca26"
             ],
             [
              1,
              "#f0f921"
             ]
            ],
            "type": "surface"
           }
          ],
          "table": [
           {
            "cells": {
             "fill": {
              "color": "#EBF0F8"
             },
             "line": {
              "color": "white"
             }
            },
            "header": {
             "fill": {
              "color": "#C8D4E3"
             },
             "line": {
              "color": "white"
             }
            },
            "type": "table"
           }
          ]
         },
         "layout": {
          "annotationdefaults": {
           "arrowcolor": "#2a3f5f",
           "arrowhead": 0,
           "arrowwidth": 1
          },
          "autotypenumbers": "strict",
          "coloraxis": {
           "colorbar": {
            "outlinewidth": 0,
            "ticks": ""
           }
          },
          "colorscale": {
           "diverging": [
            [
             0,
             "#8e0152"
            ],
            [
             0.1,
             "#c51b7d"
            ],
            [
             0.2,
             "#de77ae"
            ],
            [
             0.3,
             "#f1b6da"
            ],
            [
             0.4,
             "#fde0ef"
            ],
            [
             0.5,
             "#f7f7f7"
            ],
            [
             0.6,
             "#e6f5d0"
            ],
            [
             0.7,
             "#b8e186"
            ],
            [
             0.8,
             "#7fbc41"
            ],
            [
             0.9,
             "#4d9221"
            ],
            [
             1,
             "#276419"
            ]
           ],
           "sequential": [
            [
             0,
             "#0d0887"
            ],
            [
             0.1111111111111111,
             "#46039f"
            ],
            [
             0.2222222222222222,
             "#7201a8"
            ],
            [
             0.3333333333333333,
             "#9c179e"
            ],
            [
             0.4444444444444444,
             "#bd3786"
            ],
            [
             0.5555555555555556,
             "#d8576b"
            ],
            [
             0.6666666666666666,
             "#ed7953"
            ],
            [
             0.7777777777777778,
             "#fb9f3a"
            ],
            [
             0.8888888888888888,
             "#fdca26"
            ],
            [
             1,
             "#f0f921"
            ]
           ],
           "sequentialminus": [
            [
             0,
             "#0d0887"
            ],
            [
             0.1111111111111111,
             "#46039f"
            ],
            [
             0.2222222222222222,
             "#7201a8"
            ],
            [
             0.3333333333333333,
             "#9c179e"
            ],
            [
             0.4444444444444444,
             "#bd3786"
            ],
            [
             0.5555555555555556,
             "#d8576b"
            ],
            [
             0.6666666666666666,
             "#ed7953"
            ],
            [
             0.7777777777777778,
             "#fb9f3a"
            ],
            [
             0.8888888888888888,
             "#fdca26"
            ],
            [
             1,
             "#f0f921"
            ]
           ]
          },
          "colorway": [
           "#636efa",
           "#EF553B",
           "#00cc96",
           "#ab63fa",
           "#FFA15A",
           "#19d3f3",
           "#FF6692",
           "#B6E880",
           "#FF97FF",
           "#FECB52"
          ],
          "font": {
           "color": "#2a3f5f"
          },
          "geo": {
           "bgcolor": "white",
           "lakecolor": "white",
           "landcolor": "#E5ECF6",
           "showlakes": true,
           "showland": true,
           "subunitcolor": "white"
          },
          "hoverlabel": {
           "align": "left"
          },
          "hovermode": "closest",
          "mapbox": {
           "style": "light"
          },
          "paper_bgcolor": "white",
          "plot_bgcolor": "#E5ECF6",
          "polar": {
           "angularaxis": {
            "gridcolor": "white",
            "linecolor": "white",
            "ticks": ""
           },
           "bgcolor": "#E5ECF6",
           "radialaxis": {
            "gridcolor": "white",
            "linecolor": "white",
            "ticks": ""
           }
          },
          "scene": {
           "xaxis": {
            "backgroundcolor": "#E5ECF6",
            "gridcolor": "white",
            "gridwidth": 2,
            "linecolor": "white",
            "showbackground": true,
            "ticks": "",
            "zerolinecolor": "white"
           },
           "yaxis": {
            "backgroundcolor": "#E5ECF6",
            "gridcolor": "white",
            "gridwidth": 2,
            "linecolor": "white",
            "showbackground": true,
            "ticks": "",
            "zerolinecolor": "white"
           },
           "zaxis": {
            "backgroundcolor": "#E5ECF6",
            "gridcolor": "white",
            "gridwidth": 2,
            "linecolor": "white",
            "showbackground": true,
            "ticks": "",
            "zerolinecolor": "white"
           }
          },
          "shapedefaults": {
           "line": {
            "color": "#2a3f5f"
           }
          },
          "ternary": {
           "aaxis": {
            "gridcolor": "white",
            "linecolor": "white",
            "ticks": ""
           },
           "baxis": {
            "gridcolor": "white",
            "linecolor": "white",
            "ticks": ""
           },
           "bgcolor": "#E5ECF6",
           "caxis": {
            "gridcolor": "white",
            "linecolor": "white",
            "ticks": ""
           }
          },
          "title": {
           "x": 0.05
          },
          "xaxis": {
           "automargin": true,
           "gridcolor": "white",
           "linecolor": "white",
           "ticks": "",
           "title": {
            "standoff": 15
           },
           "zerolinecolor": "white",
           "zerolinewidth": 2
          },
          "yaxis": {
           "automargin": true,
           "gridcolor": "white",
           "linecolor": "white",
           "ticks": "",
           "title": {
            "standoff": 15
           },
           "zerolinecolor": "white",
           "zerolinewidth": 2
          }
         }
        },
        "width": 800,
        "xaxis": {
         "anchor": "y",
         "domain": [
          0,
          1
         ],
         "title": {
          "text": "product_line"
         }
        },
        "yaxis": {
         "anchor": "x",
         "domain": [
          0,
          1
         ],
         "title": {
          "text": "unit_price"
         }
        }
       }
      }
     },
     "metadata": {},
     "output_type": "display_data"
    }
   ],
   "source": [
    "fig = px.box(df, x='product_line', y='unit_price',color='client_type')\n",
    "fig.update_layout(\n",
    "    autosize=False,\n",
    "    width=800,\n",
    "    height=400,)\n",
    "fig.show()"
   ]
  },
  {
   "cell_type": "markdown",
   "id": "0761f86e",
   "metadata": {},
   "source": [
    "# Purchase by Product Line (Avg & Total Sales, $ and Q)\n",
    "\n",
    "The products with the largest units sold are two, the braking and suspension & traction system, the latter being the one that represents the largest amount in the company's total sales (25.3%).\n",
    "The motor product line, surely due to its high cost, has fewer units sold.\n",
    "\n",
    "Central Warehouse is the one that sells the most units in all product lines.\n",
    "On only two products, \"Frame & Body\" and \"Suspension & Traction,\" North Warehouse comes close to their numbers. West warehouse being the one with the lowest sales."
   ]
  },
  {
   "cell_type": "code",
   "execution_count": 427,
   "id": "53618549",
   "metadata": {},
   "outputs": [
    {
     "data": {
      "text/html": [
       "<div>\n",
       "<style scoped>\n",
       "    .dataframe tbody tr th:only-of-type {\n",
       "        vertical-align: middle;\n",
       "    }\n",
       "\n",
       "    .dataframe tbody tr th {\n",
       "        vertical-align: top;\n",
       "    }\n",
       "\n",
       "    .dataframe thead th {\n",
       "        text-align: right;\n",
       "    }\n",
       "</style>\n",
       "<table border=\"1\" class=\"dataframe\">\n",
       "  <thead>\n",
       "    <tr style=\"text-align: right;\">\n",
       "      <th></th>\n",
       "      <th>product_line</th>\n",
       "      <th>total_units_sold</th>\n",
       "    </tr>\n",
       "  </thead>\n",
       "  <tbody>\n",
       "    <tr>\n",
       "      <th>0</th>\n",
       "      <td>Suspension &amp; traction</td>\n",
       "      <td>2145</td>\n",
       "    </tr>\n",
       "    <tr>\n",
       "      <th>1</th>\n",
       "      <td>Breaking system</td>\n",
       "      <td>2130</td>\n",
       "    </tr>\n",
       "    <tr>\n",
       "      <th>2</th>\n",
       "      <td>Electrical system</td>\n",
       "      <td>1698</td>\n",
       "    </tr>\n",
       "    <tr>\n",
       "      <th>3</th>\n",
       "      <td>Frame &amp; body</td>\n",
       "      <td>1619</td>\n",
       "    </tr>\n",
       "    <tr>\n",
       "      <th>4</th>\n",
       "      <td>Miscellaneous</td>\n",
       "      <td>1176</td>\n",
       "    </tr>\n",
       "    <tr>\n",
       "      <th>5</th>\n",
       "      <td>Engine</td>\n",
       "      <td>627</td>\n",
       "    </tr>\n",
       "  </tbody>\n",
       "</table>\n",
       "</div>"
      ],
      "text/plain": [
       "            product_line  total_units_sold\n",
       "0  Suspension & traction              2145\n",
       "1        Breaking system              2130\n",
       "2      Electrical system              1698\n",
       "3           Frame & body              1619\n",
       "4          Miscellaneous              1176\n",
       "5                 Engine               627"
      ]
     },
     "execution_count": 427,
     "metadata": {},
     "output_type": "execute_result"
    }
   ],
   "source": [
    "units_solds = np.round(df.groupby(['product_line'])[['quantity']].\n",
    "                        agg(total_units_sold =('quantity', 'sum')).\n",
    "                        sort_values(by=['total_units_sold'], ascending=False).\n",
    "                        reset_index(),2)\n",
    "units_solds"
   ]
  },
  {
   "cell_type": "code",
   "execution_count": 417,
   "id": "36cffd69",
   "metadata": {},
   "outputs": [
    {
     "data": {
      "text/html": [
       "<div>\n",
       "<style scoped>\n",
       "    .dataframe tbody tr th:only-of-type {\n",
       "        vertical-align: middle;\n",
       "    }\n",
       "\n",
       "    .dataframe tbody tr th {\n",
       "        vertical-align: top;\n",
       "    }\n",
       "\n",
       "    .dataframe thead th {\n",
       "        text-align: right;\n",
       "    }\n",
       "</style>\n",
       "<table border=\"1\" class=\"dataframe\">\n",
       "  <thead>\n",
       "    <tr style=\"text-align: right;\">\n",
       "      <th></th>\n",
       "      <th>product_line</th>\n",
       "      <th>warehouse</th>\n",
       "      <th>avg_sale</th>\n",
       "      <th>avg_q_prod_sale</th>\n",
       "      <th>median_q_prod_sale</th>\n",
       "      <th>total_units_sold</th>\n",
       "    </tr>\n",
       "  </thead>\n",
       "  <tbody>\n",
       "    <tr>\n",
       "      <th>0</th>\n",
       "      <td>Suspension &amp; traction</td>\n",
       "      <td>North</td>\n",
       "      <td>334.61</td>\n",
       "      <td>9.62</td>\n",
       "      <td>7.5</td>\n",
       "      <td>866</td>\n",
       "    </tr>\n",
       "    <tr>\n",
       "      <th>1</th>\n",
       "      <td>Suspension &amp; traction</td>\n",
       "      <td>Central</td>\n",
       "      <td>311.15</td>\n",
       "      <td>9.33</td>\n",
       "      <td>6.0</td>\n",
       "      <td>980</td>\n",
       "    </tr>\n",
       "    <tr>\n",
       "      <th>2</th>\n",
       "      <td>Suspension &amp; traction</td>\n",
       "      <td>West</td>\n",
       "      <td>309.94</td>\n",
       "      <td>9.06</td>\n",
       "      <td>6.0</td>\n",
       "      <td>299</td>\n",
       "    </tr>\n",
       "    <tr>\n",
       "      <th>3</th>\n",
       "      <td>Miscellaneous</td>\n",
       "      <td>West</td>\n",
       "      <td>243.32</td>\n",
       "      <td>9.96</td>\n",
       "      <td>6.5</td>\n",
       "      <td>259</td>\n",
       "    </tr>\n",
       "    <tr>\n",
       "      <th>4</th>\n",
       "      <td>Miscellaneous</td>\n",
       "      <td>North</td>\n",
       "      <td>226.81</td>\n",
       "      <td>9.97</td>\n",
       "      <td>6.0</td>\n",
       "      <td>379</td>\n",
       "    </tr>\n",
       "    <tr>\n",
       "      <th>5</th>\n",
       "      <td>Miscellaneous</td>\n",
       "      <td>Central</td>\n",
       "      <td>210.70</td>\n",
       "      <td>9.28</td>\n",
       "      <td>7.0</td>\n",
       "      <td>538</td>\n",
       "    </tr>\n",
       "    <tr>\n",
       "      <th>6</th>\n",
       "      <td>Frame &amp; body</td>\n",
       "      <td>North</td>\n",
       "      <td>481.32</td>\n",
       "      <td>11.44</td>\n",
       "      <td>7.0</td>\n",
       "      <td>675</td>\n",
       "    </tr>\n",
       "    <tr>\n",
       "      <th>7</th>\n",
       "      <td>Frame &amp; body</td>\n",
       "      <td>Central</td>\n",
       "      <td>385.14</td>\n",
       "      <td>8.95</td>\n",
       "      <td>6.0</td>\n",
       "      <td>698</td>\n",
       "    </tr>\n",
       "    <tr>\n",
       "      <th>8</th>\n",
       "      <td>Frame &amp; body</td>\n",
       "      <td>West</td>\n",
       "      <td>365.05</td>\n",
       "      <td>8.48</td>\n",
       "      <td>7.0</td>\n",
       "      <td>246</td>\n",
       "    </tr>\n",
       "    <tr>\n",
       "      <th>9</th>\n",
       "      <td>Engine</td>\n",
       "      <td>Central</td>\n",
       "      <td>757.31</td>\n",
       "      <td>12.47</td>\n",
       "      <td>8.0</td>\n",
       "      <td>449</td>\n",
       "    </tr>\n",
       "    <tr>\n",
       "      <th>10</th>\n",
       "      <td>Engine</td>\n",
       "      <td>North</td>\n",
       "      <td>452.30</td>\n",
       "      <td>7.62</td>\n",
       "      <td>5.0</td>\n",
       "      <td>122</td>\n",
       "    </tr>\n",
       "    <tr>\n",
       "      <th>11</th>\n",
       "      <td>Engine</td>\n",
       "      <td>West</td>\n",
       "      <td>382.83</td>\n",
       "      <td>6.22</td>\n",
       "      <td>7.0</td>\n",
       "      <td>56</td>\n",
       "    </tr>\n",
       "    <tr>\n",
       "      <th>12</th>\n",
       "      <td>Electrical system</td>\n",
       "      <td>Central</td>\n",
       "      <td>241.70</td>\n",
       "      <td>9.21</td>\n",
       "      <td>7.0</td>\n",
       "      <td>838</td>\n",
       "    </tr>\n",
       "    <tr>\n",
       "      <th>13</th>\n",
       "      <td>Electrical system</td>\n",
       "      <td>North</td>\n",
       "      <td>231.02</td>\n",
       "      <td>9.20</td>\n",
       "      <td>6.5</td>\n",
       "      <td>607</td>\n",
       "    </tr>\n",
       "    <tr>\n",
       "      <th>14</th>\n",
       "      <td>Electrical system</td>\n",
       "      <td>West</td>\n",
       "      <td>176.97</td>\n",
       "      <td>7.03</td>\n",
       "      <td>6.0</td>\n",
       "      <td>253</td>\n",
       "    </tr>\n",
       "    <tr>\n",
       "      <th>15</th>\n",
       "      <td>Breaking system</td>\n",
       "      <td>West</td>\n",
       "      <td>212.12</td>\n",
       "      <td>10.66</td>\n",
       "      <td>7.0</td>\n",
       "      <td>501</td>\n",
       "    </tr>\n",
       "    <tr>\n",
       "      <th>16</th>\n",
       "      <td>Breaking system</td>\n",
       "      <td>Central</td>\n",
       "      <td>158.86</td>\n",
       "      <td>9.14</td>\n",
       "      <td>5.0</td>\n",
       "      <td>1024</td>\n",
       "    </tr>\n",
       "    <tr>\n",
       "      <th>17</th>\n",
       "      <td>Breaking system</td>\n",
       "      <td>North</td>\n",
       "      <td>149.13</td>\n",
       "      <td>8.52</td>\n",
       "      <td>5.0</td>\n",
       "      <td>605</td>\n",
       "    </tr>\n",
       "  </tbody>\n",
       "</table>\n",
       "</div>"
      ],
      "text/plain": [
       "             product_line warehouse  avg_sale  avg_q_prod_sale  \\\n",
       "0   Suspension & traction     North    334.61             9.62   \n",
       "1   Suspension & traction   Central    311.15             9.33   \n",
       "2   Suspension & traction      West    309.94             9.06   \n",
       "3           Miscellaneous      West    243.32             9.96   \n",
       "4           Miscellaneous     North    226.81             9.97   \n",
       "5           Miscellaneous   Central    210.70             9.28   \n",
       "6            Frame & body     North    481.32            11.44   \n",
       "7            Frame & body   Central    385.14             8.95   \n",
       "8            Frame & body      West    365.05             8.48   \n",
       "9                  Engine   Central    757.31            12.47   \n",
       "10                 Engine     North    452.30             7.62   \n",
       "11                 Engine      West    382.83             6.22   \n",
       "12      Electrical system   Central    241.70             9.21   \n",
       "13      Electrical system     North    231.02             9.20   \n",
       "14      Electrical system      West    176.97             7.03   \n",
       "15        Breaking system      West    212.12            10.66   \n",
       "16        Breaking system   Central    158.86             9.14   \n",
       "17        Breaking system     North    149.13             8.52   \n",
       "\n",
       "    median_q_prod_sale  total_units_sold  \n",
       "0                  7.5               866  \n",
       "1                  6.0               980  \n",
       "2                  6.0               299  \n",
       "3                  6.5               259  \n",
       "4                  6.0               379  \n",
       "5                  7.0               538  \n",
       "6                  7.0               675  \n",
       "7                  6.0               698  \n",
       "8                  7.0               246  \n",
       "9                  8.0               449  \n",
       "10                 5.0               122  \n",
       "11                 7.0                56  \n",
       "12                 7.0               838  \n",
       "13                 6.5               607  \n",
       "14                 6.0               253  \n",
       "15                 7.0               501  \n",
       "16                 5.0              1024  \n",
       "17                 5.0               605  "
      ]
     },
     "execution_count": 417,
     "metadata": {},
     "output_type": "execute_result"
    }
   ],
   "source": [
    "# average purchase by Product Line\n",
    "avg_sales_product =     np.round(df.groupby(['product_line','warehouse'])[['total','quantity']].\n",
    "                        agg(avg_sale = ('total', 'mean'),\n",
    "                            avg_q_prod_sale = ('quantity', 'mean'),\n",
    "                            median_q_prod_sale=('quantity', 'median'),\n",
    "                            total_units_sold =('quantity', 'sum')).\n",
    "                        sort_values(by=['product_line','avg_sale'], ascending=False).\n",
    "                        reset_index(),2)\n",
    "avg_sales_product\n"
   ]
  },
  {
   "cell_type": "code",
   "execution_count": 424,
   "id": "3d83fdfe",
   "metadata": {},
   "outputs": [
    {
     "data": {
      "application/vnd.plotly.v1+json": {
       "config": {
        "plotlyServerURL": "https://plot.ly"
       },
       "data": [
        {
         "alignmentgroup": "True",
         "customdata": [
          [
           9.62,
           7.5,
           334.61
          ]
         ],
         "hovertemplate": "warehouse=%{x}<br>product_line=Suspension & traction<br>total_units_sold=%{y}<br>avg_q_prod_sale=%{customdata[0]}<br>median_q_prod_sale=%{customdata[1]}<br>avg_sale=%{customdata[2]}<extra></extra>",
         "legendgroup": "North",
         "marker": {
          "color": "#636efa",
          "pattern": {
           "shape": ""
          }
         },
         "name": "North",
         "offsetgroup": "North",
         "orientation": "v",
         "showlegend": true,
         "textposition": "auto",
         "type": "bar",
         "x": [
          "North"
         ],
         "xaxis": "x",
         "y": [
          866
         ],
         "yaxis": "y"
        },
        {
         "alignmentgroup": "True",
         "customdata": [
          [
           9.97,
           6,
           226.81
          ]
         ],
         "hovertemplate": "warehouse=%{x}<br>product_line=Miscellaneous<br>total_units_sold=%{y}<br>avg_q_prod_sale=%{customdata[0]}<br>median_q_prod_sale=%{customdata[1]}<br>avg_sale=%{customdata[2]}<extra></extra>",
         "legendgroup": "North",
         "marker": {
          "color": "#636efa",
          "pattern": {
           "shape": ""
          }
         },
         "name": "North",
         "offsetgroup": "North",
         "orientation": "v",
         "showlegend": false,
         "textposition": "auto",
         "type": "bar",
         "x": [
          "North"
         ],
         "xaxis": "x2",
         "y": [
          379
         ],
         "yaxis": "y2"
        },
        {
         "alignmentgroup": "True",
         "customdata": [
          [
           11.44,
           7,
           481.32
          ]
         ],
         "hovertemplate": "warehouse=%{x}<br>product_line=Frame & body<br>total_units_sold=%{y}<br>avg_q_prod_sale=%{customdata[0]}<br>median_q_prod_sale=%{customdata[1]}<br>avg_sale=%{customdata[2]}<extra></extra>",
         "legendgroup": "North",
         "marker": {
          "color": "#636efa",
          "pattern": {
           "shape": ""
          }
         },
         "name": "North",
         "offsetgroup": "North",
         "orientation": "v",
         "showlegend": false,
         "textposition": "auto",
         "type": "bar",
         "x": [
          "North"
         ],
         "xaxis": "x3",
         "y": [
          675
         ],
         "yaxis": "y3"
        },
        {
         "alignmentgroup": "True",
         "customdata": [
          [
           7.62,
           5,
           452.3
          ]
         ],
         "hovertemplate": "warehouse=%{x}<br>product_line=Engine<br>total_units_sold=%{y}<br>avg_q_prod_sale=%{customdata[0]}<br>median_q_prod_sale=%{customdata[1]}<br>avg_sale=%{customdata[2]}<extra></extra>",
         "legendgroup": "North",
         "marker": {
          "color": "#636efa",
          "pattern": {
           "shape": ""
          }
         },
         "name": "North",
         "offsetgroup": "North",
         "orientation": "v",
         "showlegend": false,
         "textposition": "auto",
         "type": "bar",
         "x": [
          "North"
         ],
         "xaxis": "x4",
         "y": [
          122
         ],
         "yaxis": "y4"
        },
        {
         "alignmentgroup": "True",
         "customdata": [
          [
           9.2,
           6.5,
           231.02
          ]
         ],
         "hovertemplate": "warehouse=%{x}<br>product_line=Electrical system<br>total_units_sold=%{y}<br>avg_q_prod_sale=%{customdata[0]}<br>median_q_prod_sale=%{customdata[1]}<br>avg_sale=%{customdata[2]}<extra></extra>",
         "legendgroup": "North",
         "marker": {
          "color": "#636efa",
          "pattern": {
           "shape": ""
          }
         },
         "name": "North",
         "offsetgroup": "North",
         "orientation": "v",
         "showlegend": false,
         "textposition": "auto",
         "type": "bar",
         "x": [
          "North"
         ],
         "xaxis": "x5",
         "y": [
          607
         ],
         "yaxis": "y5"
        },
        {
         "alignmentgroup": "True",
         "customdata": [
          [
           8.52,
           5,
           149.13
          ]
         ],
         "hovertemplate": "warehouse=%{x}<br>product_line=Breaking system<br>total_units_sold=%{y}<br>avg_q_prod_sale=%{customdata[0]}<br>median_q_prod_sale=%{customdata[1]}<br>avg_sale=%{customdata[2]}<extra></extra>",
         "legendgroup": "North",
         "marker": {
          "color": "#636efa",
          "pattern": {
           "shape": ""
          }
         },
         "name": "North",
         "offsetgroup": "North",
         "orientation": "v",
         "showlegend": false,
         "textposition": "auto",
         "type": "bar",
         "x": [
          "North"
         ],
         "xaxis": "x6",
         "y": [
          605
         ],
         "yaxis": "y6"
        },
        {
         "alignmentgroup": "True",
         "customdata": [
          [
           9.33,
           6,
           311.15
          ]
         ],
         "hovertemplate": "warehouse=%{x}<br>product_line=Suspension & traction<br>total_units_sold=%{y}<br>avg_q_prod_sale=%{customdata[0]}<br>median_q_prod_sale=%{customdata[1]}<br>avg_sale=%{customdata[2]}<extra></extra>",
         "legendgroup": "Central",
         "marker": {
          "color": "#EF553B",
          "pattern": {
           "shape": ""
          }
         },
         "name": "Central",
         "offsetgroup": "Central",
         "orientation": "v",
         "showlegend": true,
         "textposition": "auto",
         "type": "bar",
         "x": [
          "Central"
         ],
         "xaxis": "x",
         "y": [
          980
         ],
         "yaxis": "y"
        },
        {
         "alignmentgroup": "True",
         "customdata": [
          [
           9.28,
           7,
           210.7
          ]
         ],
         "hovertemplate": "warehouse=%{x}<br>product_line=Miscellaneous<br>total_units_sold=%{y}<br>avg_q_prod_sale=%{customdata[0]}<br>median_q_prod_sale=%{customdata[1]}<br>avg_sale=%{customdata[2]}<extra></extra>",
         "legendgroup": "Central",
         "marker": {
          "color": "#EF553B",
          "pattern": {
           "shape": ""
          }
         },
         "name": "Central",
         "offsetgroup": "Central",
         "orientation": "v",
         "showlegend": false,
         "textposition": "auto",
         "type": "bar",
         "x": [
          "Central"
         ],
         "xaxis": "x2",
         "y": [
          538
         ],
         "yaxis": "y2"
        },
        {
         "alignmentgroup": "True",
         "customdata": [
          [
           8.95,
           6,
           385.14
          ]
         ],
         "hovertemplate": "warehouse=%{x}<br>product_line=Frame & body<br>total_units_sold=%{y}<br>avg_q_prod_sale=%{customdata[0]}<br>median_q_prod_sale=%{customdata[1]}<br>avg_sale=%{customdata[2]}<extra></extra>",
         "legendgroup": "Central",
         "marker": {
          "color": "#EF553B",
          "pattern": {
           "shape": ""
          }
         },
         "name": "Central",
         "offsetgroup": "Central",
         "orientation": "v",
         "showlegend": false,
         "textposition": "auto",
         "type": "bar",
         "x": [
          "Central"
         ],
         "xaxis": "x3",
         "y": [
          698
         ],
         "yaxis": "y3"
        },
        {
         "alignmentgroup": "True",
         "customdata": [
          [
           12.47,
           8,
           757.31
          ]
         ],
         "hovertemplate": "warehouse=%{x}<br>product_line=Engine<br>total_units_sold=%{y}<br>avg_q_prod_sale=%{customdata[0]}<br>median_q_prod_sale=%{customdata[1]}<br>avg_sale=%{customdata[2]}<extra></extra>",
         "legendgroup": "Central",
         "marker": {
          "color": "#EF553B",
          "pattern": {
           "shape": ""
          }
         },
         "name": "Central",
         "offsetgroup": "Central",
         "orientation": "v",
         "showlegend": false,
         "textposition": "auto",
         "type": "bar",
         "x": [
          "Central"
         ],
         "xaxis": "x4",
         "y": [
          449
         ],
         "yaxis": "y4"
        },
        {
         "alignmentgroup": "True",
         "customdata": [
          [
           9.21,
           7,
           241.7
          ]
         ],
         "hovertemplate": "warehouse=%{x}<br>product_line=Electrical system<br>total_units_sold=%{y}<br>avg_q_prod_sale=%{customdata[0]}<br>median_q_prod_sale=%{customdata[1]}<br>avg_sale=%{customdata[2]}<extra></extra>",
         "legendgroup": "Central",
         "marker": {
          "color": "#EF553B",
          "pattern": {
           "shape": ""
          }
         },
         "name": "Central",
         "offsetgroup": "Central",
         "orientation": "v",
         "showlegend": false,
         "textposition": "auto",
         "type": "bar",
         "x": [
          "Central"
         ],
         "xaxis": "x5",
         "y": [
          838
         ],
         "yaxis": "y5"
        },
        {
         "alignmentgroup": "True",
         "customdata": [
          [
           9.14,
           5,
           158.86
          ]
         ],
         "hovertemplate": "warehouse=%{x}<br>product_line=Breaking system<br>total_units_sold=%{y}<br>avg_q_prod_sale=%{customdata[0]}<br>median_q_prod_sale=%{customdata[1]}<br>avg_sale=%{customdata[2]}<extra></extra>",
         "legendgroup": "Central",
         "marker": {
          "color": "#EF553B",
          "pattern": {
           "shape": ""
          }
         },
         "name": "Central",
         "offsetgroup": "Central",
         "orientation": "v",
         "showlegend": false,
         "textposition": "auto",
         "type": "bar",
         "x": [
          "Central"
         ],
         "xaxis": "x6",
         "y": [
          1024
         ],
         "yaxis": "y6"
        },
        {
         "alignmentgroup": "True",
         "customdata": [
          [
           9.06,
           6,
           309.94
          ]
         ],
         "hovertemplate": "warehouse=%{x}<br>product_line=Suspension & traction<br>total_units_sold=%{y}<br>avg_q_prod_sale=%{customdata[0]}<br>median_q_prod_sale=%{customdata[1]}<br>avg_sale=%{customdata[2]}<extra></extra>",
         "legendgroup": "West",
         "marker": {
          "color": "#00cc96",
          "pattern": {
           "shape": ""
          }
         },
         "name": "West",
         "offsetgroup": "West",
         "orientation": "v",
         "showlegend": true,
         "textposition": "auto",
         "type": "bar",
         "x": [
          "West"
         ],
         "xaxis": "x",
         "y": [
          299
         ],
         "yaxis": "y"
        },
        {
         "alignmentgroup": "True",
         "customdata": [
          [
           9.96,
           6.5,
           243.32
          ]
         ],
         "hovertemplate": "warehouse=%{x}<br>product_line=Miscellaneous<br>total_units_sold=%{y}<br>avg_q_prod_sale=%{customdata[0]}<br>median_q_prod_sale=%{customdata[1]}<br>avg_sale=%{customdata[2]}<extra></extra>",
         "legendgroup": "West",
         "marker": {
          "color": "#00cc96",
          "pattern": {
           "shape": ""
          }
         },
         "name": "West",
         "offsetgroup": "West",
         "orientation": "v",
         "showlegend": false,
         "textposition": "auto",
         "type": "bar",
         "x": [
          "West"
         ],
         "xaxis": "x2",
         "y": [
          259
         ],
         "yaxis": "y2"
        },
        {
         "alignmentgroup": "True",
         "customdata": [
          [
           8.48,
           7,
           365.05
          ]
         ],
         "hovertemplate": "warehouse=%{x}<br>product_line=Frame & body<br>total_units_sold=%{y}<br>avg_q_prod_sale=%{customdata[0]}<br>median_q_prod_sale=%{customdata[1]}<br>avg_sale=%{customdata[2]}<extra></extra>",
         "legendgroup": "West",
         "marker": {
          "color": "#00cc96",
          "pattern": {
           "shape": ""
          }
         },
         "name": "West",
         "offsetgroup": "West",
         "orientation": "v",
         "showlegend": false,
         "textposition": "auto",
         "type": "bar",
         "x": [
          "West"
         ],
         "xaxis": "x3",
         "y": [
          246
         ],
         "yaxis": "y3"
        },
        {
         "alignmentgroup": "True",
         "customdata": [
          [
           6.22,
           7,
           382.83
          ]
         ],
         "hovertemplate": "warehouse=%{x}<br>product_line=Engine<br>total_units_sold=%{y}<br>avg_q_prod_sale=%{customdata[0]}<br>median_q_prod_sale=%{customdata[1]}<br>avg_sale=%{customdata[2]}<extra></extra>",
         "legendgroup": "West",
         "marker": {
          "color": "#00cc96",
          "pattern": {
           "shape": ""
          }
         },
         "name": "West",
         "offsetgroup": "West",
         "orientation": "v",
         "showlegend": false,
         "textposition": "auto",
         "type": "bar",
         "x": [
          "West"
         ],
         "xaxis": "x4",
         "y": [
          56
         ],
         "yaxis": "y4"
        },
        {
         "alignmentgroup": "True",
         "customdata": [
          [
           7.03,
           6,
           176.97
          ]
         ],
         "hovertemplate": "warehouse=%{x}<br>product_line=Electrical system<br>total_units_sold=%{y}<br>avg_q_prod_sale=%{customdata[0]}<br>median_q_prod_sale=%{customdata[1]}<br>avg_sale=%{customdata[2]}<extra></extra>",
         "legendgroup": "West",
         "marker": {
          "color": "#00cc96",
          "pattern": {
           "shape": ""
          }
         },
         "name": "West",
         "offsetgroup": "West",
         "orientation": "v",
         "showlegend": false,
         "textposition": "auto",
         "type": "bar",
         "x": [
          "West"
         ],
         "xaxis": "x5",
         "y": [
          253
         ],
         "yaxis": "y5"
        },
        {
         "alignmentgroup": "True",
         "customdata": [
          [
           10.66,
           7,
           212.12
          ]
         ],
         "hovertemplate": "warehouse=%{x}<br>product_line=Breaking system<br>total_units_sold=%{y}<br>avg_q_prod_sale=%{customdata[0]}<br>median_q_prod_sale=%{customdata[1]}<br>avg_sale=%{customdata[2]}<extra></extra>",
         "legendgroup": "West",
         "marker": {
          "color": "#00cc96",
          "pattern": {
           "shape": ""
          }
         },
         "name": "West",
         "offsetgroup": "West",
         "orientation": "v",
         "showlegend": false,
         "textposition": "auto",
         "type": "bar",
         "x": [
          "West"
         ],
         "xaxis": "x6",
         "y": [
          501
         ],
         "yaxis": "y6"
        }
       ],
       "layout": {
        "annotations": [
         {
          "font": {},
          "showarrow": false,
          "text": "Suspension & traction",
          "x": 0.075,
          "xanchor": "center",
          "xref": "paper",
          "y": 1,
          "yanchor": "bottom",
          "yref": "paper"
         },
         {
          "font": {},
          "showarrow": false,
          "text": "Miscellaneous",
          "x": 0.24499999999999997,
          "xanchor": "center",
          "xref": "paper",
          "y": 1,
          "yanchor": "bottom",
          "yref": "paper"
         },
         {
          "font": {},
          "showarrow": false,
          "text": "Frame & body",
          "x": 0.415,
          "xanchor": "center",
          "xref": "paper",
          "y": 1,
          "yanchor": "bottom",
          "yref": "paper"
         },
         {
          "font": {},
          "showarrow": false,
          "text": "Engine",
          "x": 0.585,
          "xanchor": "center",
          "xref": "paper",
          "y": 1,
          "yanchor": "bottom",
          "yref": "paper"
         },
         {
          "font": {},
          "showarrow": false,
          "text": "Electrical system",
          "x": 0.7549999999999999,
          "xanchor": "center",
          "xref": "paper",
          "y": 1,
          "yanchor": "bottom",
          "yref": "paper"
         },
         {
          "font": {},
          "showarrow": false,
          "text": "Breaking system",
          "x": 0.925,
          "xanchor": "center",
          "xref": "paper",
          "y": 1,
          "yanchor": "bottom",
          "yref": "paper"
         }
        ],
        "autosize": false,
        "barmode": "group",
        "height": 400,
        "legend": {
         "title": {
          "text": "warehouse"
         },
         "tracegroupgap": 0
        },
        "margin": {
         "t": 60
        },
        "showlegend": true,
        "template": {
         "data": {
          "bar": [
           {
            "error_x": {
             "color": "#2a3f5f"
            },
            "error_y": {
             "color": "#2a3f5f"
            },
            "marker": {
             "line": {
              "color": "#E5ECF6",
              "width": 0.5
             },
             "pattern": {
              "fillmode": "overlay",
              "size": 10,
              "solidity": 0.2
             }
            },
            "type": "bar"
           }
          ],
          "barpolar": [
           {
            "marker": {
             "line": {
              "color": "#E5ECF6",
              "width": 0.5
             },
             "pattern": {
              "fillmode": "overlay",
              "size": 10,
              "solidity": 0.2
             }
            },
            "type": "barpolar"
           }
          ],
          "carpet": [
           {
            "aaxis": {
             "endlinecolor": "#2a3f5f",
             "gridcolor": "white",
             "linecolor": "white",
             "minorgridcolor": "white",
             "startlinecolor": "#2a3f5f"
            },
            "baxis": {
             "endlinecolor": "#2a3f5f",
             "gridcolor": "white",
             "linecolor": "white",
             "minorgridcolor": "white",
             "startlinecolor": "#2a3f5f"
            },
            "type": "carpet"
           }
          ],
          "choropleth": [
           {
            "colorbar": {
             "outlinewidth": 0,
             "ticks": ""
            },
            "type": "choropleth"
           }
          ],
          "contour": [
           {
            "colorbar": {
             "outlinewidth": 0,
             "ticks": ""
            },
            "colorscale": [
             [
              0,
              "#0d0887"
             ],
             [
              0.1111111111111111,
              "#46039f"
             ],
             [
              0.2222222222222222,
              "#7201a8"
             ],
             [
              0.3333333333333333,
              "#9c179e"
             ],
             [
              0.4444444444444444,
              "#bd3786"
             ],
             [
              0.5555555555555556,
              "#d8576b"
             ],
             [
              0.6666666666666666,
              "#ed7953"
             ],
             [
              0.7777777777777778,
              "#fb9f3a"
             ],
             [
              0.8888888888888888,
              "#fdca26"
             ],
             [
              1,
              "#f0f921"
             ]
            ],
            "type": "contour"
           }
          ],
          "contourcarpet": [
           {
            "colorbar": {
             "outlinewidth": 0,
             "ticks": ""
            },
            "type": "contourcarpet"
           }
          ],
          "heatmap": [
           {
            "colorbar": {
             "outlinewidth": 0,
             "ticks": ""
            },
            "colorscale": [
             [
              0,
              "#0d0887"
             ],
             [
              0.1111111111111111,
              "#46039f"
             ],
             [
              0.2222222222222222,
              "#7201a8"
             ],
             [
              0.3333333333333333,
              "#9c179e"
             ],
             [
              0.4444444444444444,
              "#bd3786"
             ],
             [
              0.5555555555555556,
              "#d8576b"
             ],
             [
              0.6666666666666666,
              "#ed7953"
             ],
             [
              0.7777777777777778,
              "#fb9f3a"
             ],
             [
              0.8888888888888888,
              "#fdca26"
             ],
             [
              1,
              "#f0f921"
             ]
            ],
            "type": "heatmap"
           }
          ],
          "heatmapgl": [
           {
            "colorbar": {
             "outlinewidth": 0,
             "ticks": ""
            },
            "colorscale": [
             [
              0,
              "#0d0887"
             ],
             [
              0.1111111111111111,
              "#46039f"
             ],
             [
              0.2222222222222222,
              "#7201a8"
             ],
             [
              0.3333333333333333,
              "#9c179e"
             ],
             [
              0.4444444444444444,
              "#bd3786"
             ],
             [
              0.5555555555555556,
              "#d8576b"
             ],
             [
              0.6666666666666666,
              "#ed7953"
             ],
             [
              0.7777777777777778,
              "#fb9f3a"
             ],
             [
              0.8888888888888888,
              "#fdca26"
             ],
             [
              1,
              "#f0f921"
             ]
            ],
            "type": "heatmapgl"
           }
          ],
          "histogram": [
           {
            "marker": {
             "pattern": {
              "fillmode": "overlay",
              "size": 10,
              "solidity": 0.2
             }
            },
            "type": "histogram"
           }
          ],
          "histogram2d": [
           {
            "colorbar": {
             "outlinewidth": 0,
             "ticks": ""
            },
            "colorscale": [
             [
              0,
              "#0d0887"
             ],
             [
              0.1111111111111111,
              "#46039f"
             ],
             [
              0.2222222222222222,
              "#7201a8"
             ],
             [
              0.3333333333333333,
              "#9c179e"
             ],
             [
              0.4444444444444444,
              "#bd3786"
             ],
             [
              0.5555555555555556,
              "#d8576b"
             ],
             [
              0.6666666666666666,
              "#ed7953"
             ],
             [
              0.7777777777777778,
              "#fb9f3a"
             ],
             [
              0.8888888888888888,
              "#fdca26"
             ],
             [
              1,
              "#f0f921"
             ]
            ],
            "type": "histogram2d"
           }
          ],
          "histogram2dcontour": [
           {
            "colorbar": {
             "outlinewidth": 0,
             "ticks": ""
            },
            "colorscale": [
             [
              0,
              "#0d0887"
             ],
             [
              0.1111111111111111,
              "#46039f"
             ],
             [
              0.2222222222222222,
              "#7201a8"
             ],
             [
              0.3333333333333333,
              "#9c179e"
             ],
             [
              0.4444444444444444,
              "#bd3786"
             ],
             [
              0.5555555555555556,
              "#d8576b"
             ],
             [
              0.6666666666666666,
              "#ed7953"
             ],
             [
              0.7777777777777778,
              "#fb9f3a"
             ],
             [
              0.8888888888888888,
              "#fdca26"
             ],
             [
              1,
              "#f0f921"
             ]
            ],
            "type": "histogram2dcontour"
           }
          ],
          "mesh3d": [
           {
            "colorbar": {
             "outlinewidth": 0,
             "ticks": ""
            },
            "type": "mesh3d"
           }
          ],
          "parcoords": [
           {
            "line": {
             "colorbar": {
              "outlinewidth": 0,
              "ticks": ""
             }
            },
            "type": "parcoords"
           }
          ],
          "pie": [
           {
            "automargin": true,
            "type": "pie"
           }
          ],
          "scatter": [
           {
            "marker": {
             "colorbar": {
              "outlinewidth": 0,
              "ticks": ""
             }
            },
            "type": "scatter"
           }
          ],
          "scatter3d": [
           {
            "line": {
             "colorbar": {
              "outlinewidth": 0,
              "ticks": ""
             }
            },
            "marker": {
             "colorbar": {
              "outlinewidth": 0,
              "ticks": ""
             }
            },
            "type": "scatter3d"
           }
          ],
          "scattercarpet": [
           {
            "marker": {
             "colorbar": {
              "outlinewidth": 0,
              "ticks": ""
             }
            },
            "type": "scattercarpet"
           }
          ],
          "scattergeo": [
           {
            "marker": {
             "colorbar": {
              "outlinewidth": 0,
              "ticks": ""
             }
            },
            "type": "scattergeo"
           }
          ],
          "scattergl": [
           {
            "marker": {
             "colorbar": {
              "outlinewidth": 0,
              "ticks": ""
             }
            },
            "type": "scattergl"
           }
          ],
          "scattermapbox": [
           {
            "marker": {
             "colorbar": {
              "outlinewidth": 0,
              "ticks": ""
             }
            },
            "type": "scattermapbox"
           }
          ],
          "scatterpolar": [
           {
            "marker": {
             "colorbar": {
              "outlinewidth": 0,
              "ticks": ""
             }
            },
            "type": "scatterpolar"
           }
          ],
          "scatterpolargl": [
           {
            "marker": {
             "colorbar": {
              "outlinewidth": 0,
              "ticks": ""
             }
            },
            "type": "scatterpolargl"
           }
          ],
          "scatterternary": [
           {
            "marker": {
             "colorbar": {
              "outlinewidth": 0,
              "ticks": ""
             }
            },
            "type": "scatterternary"
           }
          ],
          "surface": [
           {
            "colorbar": {
             "outlinewidth": 0,
             "ticks": ""
            },
            "colorscale": [
             [
              0,
              "#0d0887"
             ],
             [
              0.1111111111111111,
              "#46039f"
             ],
             [
              0.2222222222222222,
              "#7201a8"
             ],
             [
              0.3333333333333333,
              "#9c179e"
             ],
             [
              0.4444444444444444,
              "#bd3786"
             ],
             [
              0.5555555555555556,
              "#d8576b"
             ],
             [
              0.6666666666666666,
              "#ed7953"
             ],
             [
              0.7777777777777778,
              "#fb9f3a"
             ],
             [
              0.8888888888888888,
              "#fdca26"
             ],
             [
              1,
              "#f0f921"
             ]
            ],
            "type": "surface"
           }
          ],
          "table": [
           {
            "cells": {
             "fill": {
              "color": "#EBF0F8"
             },
             "line": {
              "color": "white"
             }
            },
            "header": {
             "fill": {
              "color": "#C8D4E3"
             },
             "line": {
              "color": "white"
             }
            },
            "type": "table"
           }
          ]
         },
         "layout": {
          "annotationdefaults": {
           "arrowcolor": "#2a3f5f",
           "arrowhead": 0,
           "arrowwidth": 1
          },
          "autotypenumbers": "strict",
          "coloraxis": {
           "colorbar": {
            "outlinewidth": 0,
            "ticks": ""
           }
          },
          "colorscale": {
           "diverging": [
            [
             0,
             "#8e0152"
            ],
            [
             0.1,
             "#c51b7d"
            ],
            [
             0.2,
             "#de77ae"
            ],
            [
             0.3,
             "#f1b6da"
            ],
            [
             0.4,
             "#fde0ef"
            ],
            [
             0.5,
             "#f7f7f7"
            ],
            [
             0.6,
             "#e6f5d0"
            ],
            [
             0.7,
             "#b8e186"
            ],
            [
             0.8,
             "#7fbc41"
            ],
            [
             0.9,
             "#4d9221"
            ],
            [
             1,
             "#276419"
            ]
           ],
           "sequential": [
            [
             0,
             "#0d0887"
            ],
            [
             0.1111111111111111,
             "#46039f"
            ],
            [
             0.2222222222222222,
             "#7201a8"
            ],
            [
             0.3333333333333333,
             "#9c179e"
            ],
            [
             0.4444444444444444,
             "#bd3786"
            ],
            [
             0.5555555555555556,
             "#d8576b"
            ],
            [
             0.6666666666666666,
             "#ed7953"
            ],
            [
             0.7777777777777778,
             "#fb9f3a"
            ],
            [
             0.8888888888888888,
             "#fdca26"
            ],
            [
             1,
             "#f0f921"
            ]
           ],
           "sequentialminus": [
            [
             0,
             "#0d0887"
            ],
            [
             0.1111111111111111,
             "#46039f"
            ],
            [
             0.2222222222222222,
             "#7201a8"
            ],
            [
             0.3333333333333333,
             "#9c179e"
            ],
            [
             0.4444444444444444,
             "#bd3786"
            ],
            [
             0.5555555555555556,
             "#d8576b"
            ],
            [
             0.6666666666666666,
             "#ed7953"
            ],
            [
             0.7777777777777778,
             "#fb9f3a"
            ],
            [
             0.8888888888888888,
             "#fdca26"
            ],
            [
             1,
             "#f0f921"
            ]
           ]
          },
          "colorway": [
           "#636efa",
           "#EF553B",
           "#00cc96",
           "#ab63fa",
           "#FFA15A",
           "#19d3f3",
           "#FF6692",
           "#B6E880",
           "#FF97FF",
           "#FECB52"
          ],
          "font": {
           "color": "#2a3f5f"
          },
          "geo": {
           "bgcolor": "white",
           "lakecolor": "white",
           "landcolor": "#E5ECF6",
           "showlakes": true,
           "showland": true,
           "subunitcolor": "white"
          },
          "hoverlabel": {
           "align": "left"
          },
          "hovermode": "closest",
          "mapbox": {
           "style": "light"
          },
          "paper_bgcolor": "white",
          "plot_bgcolor": "#E5ECF6",
          "polar": {
           "angularaxis": {
            "gridcolor": "white",
            "linecolor": "white",
            "ticks": ""
           },
           "bgcolor": "#E5ECF6",
           "radialaxis": {
            "gridcolor": "white",
            "linecolor": "white",
            "ticks": ""
           }
          },
          "scene": {
           "xaxis": {
            "backgroundcolor": "#E5ECF6",
            "gridcolor": "white",
            "gridwidth": 2,
            "linecolor": "white",
            "showbackground": true,
            "ticks": "",
            "zerolinecolor": "white"
           },
           "yaxis": {
            "backgroundcolor": "#E5ECF6",
            "gridcolor": "white",
            "gridwidth": 2,
            "linecolor": "white",
            "showbackground": true,
            "ticks": "",
            "zerolinecolor": "white"
           },
           "zaxis": {
            "backgroundcolor": "#E5ECF6",
            "gridcolor": "white",
            "gridwidth": 2,
            "linecolor": "white",
            "showbackground": true,
            "ticks": "",
            "zerolinecolor": "white"
           }
          },
          "shapedefaults": {
           "line": {
            "color": "#2a3f5f"
           }
          },
          "ternary": {
           "aaxis": {
            "gridcolor": "white",
            "linecolor": "white",
            "ticks": ""
           },
           "baxis": {
            "gridcolor": "white",
            "linecolor": "white",
            "ticks": ""
           },
           "bgcolor": "#E5ECF6",
           "caxis": {
            "gridcolor": "white",
            "linecolor": "white",
            "ticks": ""
           }
          },
          "title": {
           "x": 0.05
          },
          "xaxis": {
           "automargin": true,
           "gridcolor": "white",
           "linecolor": "white",
           "ticks": "",
           "title": {
            "standoff": 15
           },
           "zerolinecolor": "white",
           "zerolinewidth": 2
          },
          "yaxis": {
           "automargin": true,
           "gridcolor": "white",
           "linecolor": "white",
           "ticks": "",
           "title": {
            "standoff": 15
           },
           "zerolinecolor": "white",
           "zerolinewidth": 2
          }
         }
        },
        "width": 800,
        "xaxis": {
         "anchor": "y",
         "categoryarray": [
          "North",
          "Central",
          "West"
         ],
         "categoryorder": "array",
         "domain": [
          0,
          0.15
         ],
         "showticklabels": true,
         "title": {
          "text": "Warehouse"
         },
         "visible": false
        },
        "xaxis2": {
         "anchor": "y2",
         "categoryarray": [
          "North",
          "Central",
          "West"
         ],
         "categoryorder": "array",
         "domain": [
          0.16999999999999998,
          0.31999999999999995
         ],
         "matches": "x",
         "showticklabels": true,
         "title": {
          "text": "Warehouse"
         },
         "visible": false
        },
        "xaxis3": {
         "anchor": "y3",
         "categoryarray": [
          "North",
          "Central",
          "West"
         ],
         "categoryorder": "array",
         "domain": [
          0.33999999999999997,
          0.49
         ],
         "matches": "x",
         "showticklabels": true,
         "title": {
          "text": "Warehouse"
         },
         "visible": false
        },
        "xaxis4": {
         "anchor": "y4",
         "categoryarray": [
          "North",
          "Central",
          "West"
         ],
         "categoryorder": "array",
         "domain": [
          0.51,
          0.66
         ],
         "matches": "x",
         "showticklabels": true,
         "title": {
          "text": "Warehouse"
         },
         "visible": false
        },
        "xaxis5": {
         "anchor": "y5",
         "categoryarray": [
          "North",
          "Central",
          "West"
         ],
         "categoryorder": "array",
         "domain": [
          0.6799999999999999,
          0.83
         ],
         "matches": "x",
         "showticklabels": true,
         "title": {
          "text": "Warehouse"
         },
         "visible": false
        },
        "xaxis6": {
         "anchor": "y6",
         "categoryarray": [
          "North",
          "Central",
          "West"
         ],
         "categoryorder": "array",
         "domain": [
          0.85,
          1
         ],
         "matches": "x",
         "showticklabels": true,
         "title": {
          "text": "Warehouse"
         },
         "visible": false
        },
        "yaxis": {
         "anchor": "x",
         "domain": [
          0,
          1
         ],
         "title": {
          "text": "total_units_sold"
         }
        },
        "yaxis2": {
         "anchor": "x2",
         "domain": [
          0,
          1
         ],
         "matches": "y",
         "showticklabels": false
        },
        "yaxis3": {
         "anchor": "x3",
         "domain": [
          0,
          1
         ],
         "matches": "y",
         "showticklabels": false
        },
        "yaxis4": {
         "anchor": "x4",
         "domain": [
          0,
          1
         ],
         "matches": "y",
         "showticklabels": false
        },
        "yaxis5": {
         "anchor": "x5",
         "domain": [
          0,
          1
         ],
         "matches": "y",
         "showticklabels": false
        },
        "yaxis6": {
         "anchor": "x6",
         "domain": [
          0,
          1
         ],
         "matches": "y",
         "showticklabels": false
        }
       }
      }
     },
     "metadata": {},
     "output_type": "display_data"
    }
   ],
   "source": [
    "fig = px.bar(avg_sales_product, \n",
    "                x=\"warehouse\",\n",
    "                y=\"total_units_sold\",\n",
    "                color=\"warehouse\",\n",
    "                barmode=\"group\",\n",
    "                facet_col='product_line',\n",
    "                hover_data=['avg_q_prod_sale','median_q_prod_sale','avg_sale'])\n",
    "fig.for_each_annotation(lambda a: a.update(text=a.text.split(\"=\")[-1]))\n",
    "#fig.update_traces(showlegend=False)\n",
    "fig.update(layout_showlegend=True)\n",
    "fig.update_layout(\n",
    "    autosize=False,\n",
    "    width=800,\n",
    "    height=400)\n",
    "fig.update_xaxes(visible=False, showticklabels=True,title_text='Warehouse')\n",
    "\n",
    "fig.show()"
   ]
  },
  {
   "cell_type": "code",
   "execution_count": 414,
   "id": "b797ad8f",
   "metadata": {},
   "outputs": [
    {
     "name": "stdout",
     "output_type": "stream",
     "text": [
      "            product_line  total_sales  q_sales  perc_total_sales\n",
      "0  Suspension & traction     73014.21      228             25.25\n",
      "1           Frame & body     69024.73      166             23.87\n",
      "2      Electrical system     43612.71      193             15.09\n",
      "3        Breaking system     38350.15      230             13.26\n",
      "4                 Engine     37945.38       61             13.12\n",
      "5          Miscellaneous     27165.82      122              9.40\n"
     ]
    }
   ],
   "source": [
    "#Total Sales by Product Line\n",
    "total_sales_product =   (df.groupby(['product_line'])[['total']].\n",
    "                        agg(total_sales = ('total', 'sum'), q_sales=('total', 'count')).\n",
    "                        sort_values(by='total_sales', ascending=False).\n",
    "                        reset_index())\n",
    "total_sales_product['perc_total_sales']  =  np.round(total_sales_product['total_sales'] /  total_sales_product['total_sales'].sum()*100,2)         \n",
    "print(total_sales_product)"
   ]
  },
  {
   "cell_type": "markdown",
   "id": "0d60db7a",
   "metadata": {},
   "source": [
    "# Average purchase value by Warehouse\n",
    "\n",
    "\n",
    "Of total sales, 49% comes from the Central Warehouse, while only 16% comes from the West Warehouse"
   ]
  },
  {
   "cell_type": "code",
   "execution_count": 233,
   "id": "55cb2c9f",
   "metadata": {},
   "outputs": [
    {
     "name": "stdout",
     "output_type": "stream",
     "text": [
      "  warehouse  total_sales  q_sales  avg_sale  perc_total_sales\n",
      "0   Central     141982.9      480     295.8             49.11\n",
      "1     North     100203.6      340     294.7             34.66\n",
      "2      West      46926.5      180     260.7             16.23\n"
     ]
    }
   ],
   "source": [
    "import numpy as np\n",
    "total_sales_warehouse =     np.round(df.groupby(['warehouse'])[['total']].\n",
    "                            agg(total_sales = ('total', 'sum'),q_sales=('total', 'count')).\n",
    "                            reset_index(),1)\n",
    "total_sales_warehouse['avg_sale'] = np.round(total_sales_warehouse.total_sales/total_sales_warehouse.q_sales,1)\n",
    "total_sales_warehouse['perc_total_sales'] = np.round((total_sales_warehouse.total_sales/total_sales_warehouse.total_sales.sum())*100,2)\n",
    "\n",
    "print(total_sales_warehouse)"
   ]
  },
  {
   "cell_type": "code",
   "execution_count": 234,
   "metadata": {},
   "outputs": [
    {
     "data": {
      "application/vnd.plotly.v1+json": {
       "config": {
        "plotlyServerURL": "https://plot.ly"
       },
       "data": [
        {
         "alignmentgroup": "True",
         "customdata": [
          [
           480,
           295.8,
           49.11
          ]
         ],
         "hovertemplate": "warehouse=%{x}<br>total_sales=%{y}<br>q_sales=%{customdata[0]}<br>avg_sale=%{customdata[1]}<br>perc_total_sales=%{customdata[2]}<extra></extra>",
         "legendgroup": "Central",
         "marker": {
          "color": "#636efa",
          "pattern": {
           "shape": ""
          }
         },
         "name": "Central",
         "offsetgroup": "Central",
         "orientation": "v",
         "showlegend": true,
         "textposition": "auto",
         "texttemplate": "%{y}",
         "type": "bar",
         "x": [
          "Central"
         ],
         "xaxis": "x",
         "y": [
          141982.9
         ],
         "yaxis": "y"
        },
        {
         "alignmentgroup": "True",
         "customdata": [
          [
           340,
           294.7,
           34.66
          ]
         ],
         "hovertemplate": "warehouse=%{x}<br>total_sales=%{y}<br>q_sales=%{customdata[0]}<br>avg_sale=%{customdata[1]}<br>perc_total_sales=%{customdata[2]}<extra></extra>",
         "legendgroup": "North",
         "marker": {
          "color": "#EF553B",
          "pattern": {
           "shape": ""
          }
         },
         "name": "North",
         "offsetgroup": "North",
         "orientation": "v",
         "showlegend": true,
         "textposition": "auto",
         "texttemplate": "%{y}",
         "type": "bar",
         "x": [
          "North"
         ],
         "xaxis": "x",
         "y": [
          100203.6
         ],
         "yaxis": "y"
        },
        {
         "alignmentgroup": "True",
         "customdata": [
          [
           180,
           260.7,
           16.23
          ]
         ],
         "hovertemplate": "warehouse=%{x}<br>total_sales=%{y}<br>q_sales=%{customdata[0]}<br>avg_sale=%{customdata[1]}<br>perc_total_sales=%{customdata[2]}<extra></extra>",
         "legendgroup": "West",
         "marker": {
          "color": "#00cc96",
          "pattern": {
           "shape": ""
          }
         },
         "name": "West",
         "offsetgroup": "West",
         "orientation": "v",
         "showlegend": true,
         "textposition": "auto",
         "texttemplate": "%{y}",
         "type": "bar",
         "x": [
          "West"
         ],
         "xaxis": "x",
         "y": [
          46926.5
         ],
         "yaxis": "y"
        }
       ],
       "layout": {
        "autosize": false,
        "barmode": "relative",
        "height": 400,
        "legend": {
         "title": {
          "text": "warehouse"
         },
         "tracegroupgap": 0
        },
        "template": {
         "data": {
          "bar": [
           {
            "error_x": {
             "color": "#2a3f5f"
            },
            "error_y": {
             "color": "#2a3f5f"
            },
            "marker": {
             "line": {
              "color": "#E5ECF6",
              "width": 0.5
             },
             "pattern": {
              "fillmode": "overlay",
              "size": 10,
              "solidity": 0.2
             }
            },
            "type": "bar"
           }
          ],
          "barpolar": [
           {
            "marker": {
             "line": {
              "color": "#E5ECF6",
              "width": 0.5
             },
             "pattern": {
              "fillmode": "overlay",
              "size": 10,
              "solidity": 0.2
             }
            },
            "type": "barpolar"
           }
          ],
          "carpet": [
           {
            "aaxis": {
             "endlinecolor": "#2a3f5f",
             "gridcolor": "white",
             "linecolor": "white",
             "minorgridcolor": "white",
             "startlinecolor": "#2a3f5f"
            },
            "baxis": {
             "endlinecolor": "#2a3f5f",
             "gridcolor": "white",
             "linecolor": "white",
             "minorgridcolor": "white",
             "startlinecolor": "#2a3f5f"
            },
            "type": "carpet"
           }
          ],
          "choropleth": [
           {
            "colorbar": {
             "outlinewidth": 0,
             "ticks": ""
            },
            "type": "choropleth"
           }
          ],
          "contour": [
           {
            "colorbar": {
             "outlinewidth": 0,
             "ticks": ""
            },
            "colorscale": [
             [
              0,
              "#0d0887"
             ],
             [
              0.1111111111111111,
              "#46039f"
             ],
             [
              0.2222222222222222,
              "#7201a8"
             ],
             [
              0.3333333333333333,
              "#9c179e"
             ],
             [
              0.4444444444444444,
              "#bd3786"
             ],
             [
              0.5555555555555556,
              "#d8576b"
             ],
             [
              0.6666666666666666,
              "#ed7953"
             ],
             [
              0.7777777777777778,
              "#fb9f3a"
             ],
             [
              0.8888888888888888,
              "#fdca26"
             ],
             [
              1,
              "#f0f921"
             ]
            ],
            "type": "contour"
           }
          ],
          "contourcarpet": [
           {
            "colorbar": {
             "outlinewidth": 0,
             "ticks": ""
            },
            "type": "contourcarpet"
           }
          ],
          "heatmap": [
           {
            "colorbar": {
             "outlinewidth": 0,
             "ticks": ""
            },
            "colorscale": [
             [
              0,
              "#0d0887"
             ],
             [
              0.1111111111111111,
              "#46039f"
             ],
             [
              0.2222222222222222,
              "#7201a8"
             ],
             [
              0.3333333333333333,
              "#9c179e"
             ],
             [
              0.4444444444444444,
              "#bd3786"
             ],
             [
              0.5555555555555556,
              "#d8576b"
             ],
             [
              0.6666666666666666,
              "#ed7953"
             ],
             [
              0.7777777777777778,
              "#fb9f3a"
             ],
             [
              0.8888888888888888,
              "#fdca26"
             ],
             [
              1,
              "#f0f921"
             ]
            ],
            "type": "heatmap"
           }
          ],
          "heatmapgl": [
           {
            "colorbar": {
             "outlinewidth": 0,
             "ticks": ""
            },
            "colorscale": [
             [
              0,
              "#0d0887"
             ],
             [
              0.1111111111111111,
              "#46039f"
             ],
             [
              0.2222222222222222,
              "#7201a8"
             ],
             [
              0.3333333333333333,
              "#9c179e"
             ],
             [
              0.4444444444444444,
              "#bd3786"
             ],
             [
              0.5555555555555556,
              "#d8576b"
             ],
             [
              0.6666666666666666,
              "#ed7953"
             ],
             [
              0.7777777777777778,
              "#fb9f3a"
             ],
             [
              0.8888888888888888,
              "#fdca26"
             ],
             [
              1,
              "#f0f921"
             ]
            ],
            "type": "heatmapgl"
           }
          ],
          "histogram": [
           {
            "marker": {
             "pattern": {
              "fillmode": "overlay",
              "size": 10,
              "solidity": 0.2
             }
            },
            "type": "histogram"
           }
          ],
          "histogram2d": [
           {
            "colorbar": {
             "outlinewidth": 0,
             "ticks": ""
            },
            "colorscale": [
             [
              0,
              "#0d0887"
             ],
             [
              0.1111111111111111,
              "#46039f"
             ],
             [
              0.2222222222222222,
              "#7201a8"
             ],
             [
              0.3333333333333333,
              "#9c179e"
             ],
             [
              0.4444444444444444,
              "#bd3786"
             ],
             [
              0.5555555555555556,
              "#d8576b"
             ],
             [
              0.6666666666666666,
              "#ed7953"
             ],
             [
              0.7777777777777778,
              "#fb9f3a"
             ],
             [
              0.8888888888888888,
              "#fdca26"
             ],
             [
              1,
              "#f0f921"
             ]
            ],
            "type": "histogram2d"
           }
          ],
          "histogram2dcontour": [
           {
            "colorbar": {
             "outlinewidth": 0,
             "ticks": ""
            },
            "colorscale": [
             [
              0,
              "#0d0887"
             ],
             [
              0.1111111111111111,
              "#46039f"
             ],
             [
              0.2222222222222222,
              "#7201a8"
             ],
             [
              0.3333333333333333,
              "#9c179e"
             ],
             [
              0.4444444444444444,
              "#bd3786"
             ],
             [
              0.5555555555555556,
              "#d8576b"
             ],
             [
              0.6666666666666666,
              "#ed7953"
             ],
             [
              0.7777777777777778,
              "#fb9f3a"
             ],
             [
              0.8888888888888888,
              "#fdca26"
             ],
             [
              1,
              "#f0f921"
             ]
            ],
            "type": "histogram2dcontour"
           }
          ],
          "mesh3d": [
           {
            "colorbar": {
             "outlinewidth": 0,
             "ticks": ""
            },
            "type": "mesh3d"
           }
          ],
          "parcoords": [
           {
            "line": {
             "colorbar": {
              "outlinewidth": 0,
              "ticks": ""
             }
            },
            "type": "parcoords"
           }
          ],
          "pie": [
           {
            "automargin": true,
            "type": "pie"
           }
          ],
          "scatter": [
           {
            "marker": {
             "colorbar": {
              "outlinewidth": 0,
              "ticks": ""
             }
            },
            "type": "scatter"
           }
          ],
          "scatter3d": [
           {
            "line": {
             "colorbar": {
              "outlinewidth": 0,
              "ticks": ""
             }
            },
            "marker": {
             "colorbar": {
              "outlinewidth": 0,
              "ticks": ""
             }
            },
            "type": "scatter3d"
           }
          ],
          "scattercarpet": [
           {
            "marker": {
             "colorbar": {
              "outlinewidth": 0,
              "ticks": ""
             }
            },
            "type": "scattercarpet"
           }
          ],
          "scattergeo": [
           {
            "marker": {
             "colorbar": {
              "outlinewidth": 0,
              "ticks": ""
             }
            },
            "type": "scattergeo"
           }
          ],
          "scattergl": [
           {
            "marker": {
             "colorbar": {
              "outlinewidth": 0,
              "ticks": ""
             }
            },
            "type": "scattergl"
           }
          ],
          "scattermapbox": [
           {
            "marker": {
             "colorbar": {
              "outlinewidth": 0,
              "ticks": ""
             }
            },
            "type": "scattermapbox"
           }
          ],
          "scatterpolar": [
           {
            "marker": {
             "colorbar": {
              "outlinewidth": 0,
              "ticks": ""
             }
            },
            "type": "scatterpolar"
           }
          ],
          "scatterpolargl": [
           {
            "marker": {
             "colorbar": {
              "outlinewidth": 0,
              "ticks": ""
             }
            },
            "type": "scatterpolargl"
           }
          ],
          "scatterternary": [
           {
            "marker": {
             "colorbar": {
              "outlinewidth": 0,
              "ticks": ""
             }
            },
            "type": "scatterternary"
           }
          ],
          "surface": [
           {
            "colorbar": {
             "outlinewidth": 0,
             "ticks": ""
            },
            "colorscale": [
             [
              0,
              "#0d0887"
             ],
             [
              0.1111111111111111,
              "#46039f"
             ],
             [
              0.2222222222222222,
              "#7201a8"
             ],
             [
              0.3333333333333333,
              "#9c179e"
             ],
             [
              0.4444444444444444,
              "#bd3786"
             ],
             [
              0.5555555555555556,
              "#d8576b"
             ],
             [
              0.6666666666666666,
              "#ed7953"
             ],
             [
              0.7777777777777778,
              "#fb9f3a"
             ],
             [
              0.8888888888888888,
              "#fdca26"
             ],
             [
              1,
              "#f0f921"
             ]
            ],
            "type": "surface"
           }
          ],
          "table": [
           {
            "cells": {
             "fill": {
              "color": "#EBF0F8"
             },
             "line": {
              "color": "white"
             }
            },
            "header": {
             "fill": {
              "color": "#C8D4E3"
             },
             "line": {
              "color": "white"
             }
            },
            "type": "table"
           }
          ]
         },
         "layout": {
          "annotationdefaults": {
           "arrowcolor": "#2a3f5f",
           "arrowhead": 0,
           "arrowwidth": 1
          },
          "autotypenumbers": "strict",
          "coloraxis": {
           "colorbar": {
            "outlinewidth": 0,
            "ticks": ""
           }
          },
          "colorscale": {
           "diverging": [
            [
             0,
             "#8e0152"
            ],
            [
             0.1,
             "#c51b7d"
            ],
            [
             0.2,
             "#de77ae"
            ],
            [
             0.3,
             "#f1b6da"
            ],
            [
             0.4,
             "#fde0ef"
            ],
            [
             0.5,
             "#f7f7f7"
            ],
            [
             0.6,
             "#e6f5d0"
            ],
            [
             0.7,
             "#b8e186"
            ],
            [
             0.8,
             "#7fbc41"
            ],
            [
             0.9,
             "#4d9221"
            ],
            [
             1,
             "#276419"
            ]
           ],
           "sequential": [
            [
             0,
             "#0d0887"
            ],
            [
             0.1111111111111111,
             "#46039f"
            ],
            [
             0.2222222222222222,
             "#7201a8"
            ],
            [
             0.3333333333333333,
             "#9c179e"
            ],
            [
             0.4444444444444444,
             "#bd3786"
            ],
            [
             0.5555555555555556,
             "#d8576b"
            ],
            [
             0.6666666666666666,
             "#ed7953"
            ],
            [
             0.7777777777777778,
             "#fb9f3a"
            ],
            [
             0.8888888888888888,
             "#fdca26"
            ],
            [
             1,
             "#f0f921"
            ]
           ],
           "sequentialminus": [
            [
             0,
             "#0d0887"
            ],
            [
             0.1111111111111111,
             "#46039f"
            ],
            [
             0.2222222222222222,
             "#7201a8"
            ],
            [
             0.3333333333333333,
             "#9c179e"
            ],
            [
             0.4444444444444444,
             "#bd3786"
            ],
            [
             0.5555555555555556,
             "#d8576b"
            ],
            [
             0.6666666666666666,
             "#ed7953"
            ],
            [
             0.7777777777777778,
             "#fb9f3a"
            ],
            [
             0.8888888888888888,
             "#fdca26"
            ],
            [
             1,
             "#f0f921"
            ]
           ]
          },
          "colorway": [
           "#636efa",
           "#EF553B",
           "#00cc96",
           "#ab63fa",
           "#FFA15A",
           "#19d3f3",
           "#FF6692",
           "#B6E880",
           "#FF97FF",
           "#FECB52"
          ],
          "font": {
           "color": "#2a3f5f"
          },
          "geo": {
           "bgcolor": "white",
           "lakecolor": "white",
           "landcolor": "#E5ECF6",
           "showlakes": true,
           "showland": true,
           "subunitcolor": "white"
          },
          "hoverlabel": {
           "align": "left"
          },
          "hovermode": "closest",
          "mapbox": {
           "style": "light"
          },
          "paper_bgcolor": "white",
          "plot_bgcolor": "#E5ECF6",
          "polar": {
           "angularaxis": {
            "gridcolor": "white",
            "linecolor": "white",
            "ticks": ""
           },
           "bgcolor": "#E5ECF6",
           "radialaxis": {
            "gridcolor": "white",
            "linecolor": "white",
            "ticks": ""
           }
          },
          "scene": {
           "xaxis": {
            "backgroundcolor": "#E5ECF6",
            "gridcolor": "white",
            "gridwidth": 2,
            "linecolor": "white",
            "showbackground": true,
            "ticks": "",
            "zerolinecolor": "white"
           },
           "yaxis": {
            "backgroundcolor": "#E5ECF6",
            "gridcolor": "white",
            "gridwidth": 2,
            "linecolor": "white",
            "showbackground": true,
            "ticks": "",
            "zerolinecolor": "white"
           },
           "zaxis": {
            "backgroundcolor": "#E5ECF6",
            "gridcolor": "white",
            "gridwidth": 2,
            "linecolor": "white",
            "showbackground": true,
            "ticks": "",
            "zerolinecolor": "white"
           }
          },
          "shapedefaults": {
           "line": {
            "color": "#2a3f5f"
           }
          },
          "ternary": {
           "aaxis": {
            "gridcolor": "white",
            "linecolor": "white",
            "ticks": ""
           },
           "baxis": {
            "gridcolor": "white",
            "linecolor": "white",
            "ticks": ""
           },
           "bgcolor": "#E5ECF6",
           "caxis": {
            "gridcolor": "white",
            "linecolor": "white",
            "ticks": ""
           }
          },
          "title": {
           "x": 0.05
          },
          "xaxis": {
           "automargin": true,
           "gridcolor": "white",
           "linecolor": "white",
           "ticks": "",
           "title": {
            "standoff": 15
           },
           "zerolinecolor": "white",
           "zerolinewidth": 2
          },
          "yaxis": {
           "automargin": true,
           "gridcolor": "white",
           "linecolor": "white",
           "ticks": "",
           "title": {
            "standoff": 15
           },
           "zerolinecolor": "white",
           "zerolinewidth": 2
          }
         }
        },
        "title": {
         "text": "Total Sales by Warehouse"
        },
        "width": 800,
        "xaxis": {
         "anchor": "y",
         "categoryarray": [
          "Central",
          "North",
          "West"
         ],
         "categoryorder": "array",
         "domain": [
          0,
          1
         ],
         "title": {
          "text": "Warehouse"
         }
        },
        "yaxis": {
         "anchor": "x",
         "domain": [
          0,
          1
         ],
         "title": {
          "text": "Total Sales"
         }
        }
       }
      }
     },
     "metadata": {},
     "output_type": "display_data"
    }
   ],
   "source": [
    "\n",
    "fig = px.bar(total_sales_warehouse,\n",
    "            x='warehouse',\n",
    "            y=\"total_sales\",\n",
    "            color='warehouse',\n",
    "            title='Total Sales by Warehouse',hover_data=['q_sales','avg_sale','perc_total_sales'],\n",
    "            text_auto=True)\n",
    "fig.update_yaxes(title_text='Total Sales')\n",
    "fig.update_xaxes(title_text='Warehouse')\n",
    "fig.update_layout(\n",
    "    autosize=False,\n",
    "    width=800,\n",
    "    height=400)\n",
    "fig.show()"
   ]
  }
 ],
 "metadata": {
  "kernelspec": {
   "display_name": "pampa",
   "language": "python",
   "name": "pampa"
  },
  "language_info": {
   "codemirror_mode": {
    "name": "ipython",
    "version": 3
   },
   "file_extension": ".py",
   "mimetype": "text/x-python",
   "name": "python",
   "nbconvert_exporter": "python",
   "pygments_lexer": "ipython3",
   "version": "3.9.12"
  }
 },
 "nbformat": 4,
 "nbformat_minor": 5
}
